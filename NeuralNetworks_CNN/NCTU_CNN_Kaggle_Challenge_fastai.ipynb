{
  "nbformat": 4,
  "nbformat_minor": 0,
  "metadata": {
    "colab": {
      "name": "NCTU CNN Kaggle Challenge fastai.ipynb",
      "provenance": [],
      "collapsed_sections": [],
      "include_colab_link": true
    },
    "kernelspec": {
      "name": "python3",
      "display_name": "Python 3"
    },
    "accelerator": "GPU",
    "widgets": {
      "application/vnd.jupyter.widget-state+json": {
        "50ba691e4fe94e44b28571700faa5609": {
          "model_module": "@jupyter-widgets/controls",
          "model_name": "HBoxModel",
          "state": {
            "_view_name": "HBoxView",
            "_dom_classes": [],
            "_model_name": "HBoxModel",
            "_view_module": "@jupyter-widgets/controls",
            "_model_module_version": "1.5.0",
            "_view_count": null,
            "_view_module_version": "1.5.0",
            "box_style": "",
            "layout": "IPY_MODEL_c27f2aea674d4a4bbe8de80e1a953bd9",
            "_model_module": "@jupyter-widgets/controls",
            "children": [
              "IPY_MODEL_55856bdfe9774f48b1506270bd41f1b8",
              "IPY_MODEL_cc25949e37ed4598ac5eb58315ccb707"
            ]
          }
        },
        "c27f2aea674d4a4bbe8de80e1a953bd9": {
          "model_module": "@jupyter-widgets/base",
          "model_name": "LayoutModel",
          "state": {
            "_view_name": "LayoutView",
            "grid_template_rows": null,
            "right": null,
            "justify_content": null,
            "_view_module": "@jupyter-widgets/base",
            "overflow": null,
            "_model_module_version": "1.2.0",
            "_view_count": null,
            "flex_flow": null,
            "width": null,
            "min_width": null,
            "border": null,
            "align_items": null,
            "bottom": null,
            "_model_module": "@jupyter-widgets/base",
            "top": null,
            "grid_column": null,
            "overflow_y": null,
            "overflow_x": null,
            "grid_auto_flow": null,
            "grid_area": null,
            "grid_template_columns": null,
            "flex": null,
            "_model_name": "LayoutModel",
            "justify_items": null,
            "grid_row": null,
            "max_height": null,
            "align_content": null,
            "visibility": null,
            "align_self": null,
            "height": null,
            "min_height": null,
            "padding": null,
            "grid_auto_rows": null,
            "grid_gap": null,
            "max_width": null,
            "order": null,
            "_view_module_version": "1.2.0",
            "grid_template_areas": null,
            "object_position": null,
            "object_fit": null,
            "grid_auto_columns": null,
            "margin": null,
            "display": null,
            "left": null
          }
        },
        "55856bdfe9774f48b1506270bd41f1b8": {
          "model_module": "@jupyter-widgets/controls",
          "model_name": "IntProgressModel",
          "state": {
            "_view_name": "ProgressView",
            "style": "IPY_MODEL_2aa4b1df9e8747e699f00a36e28bcfc4",
            "_dom_classes": [],
            "description": "100%",
            "_model_name": "IntProgressModel",
            "bar_style": "success",
            "max": 87306240,
            "_view_module": "@jupyter-widgets/controls",
            "_model_module_version": "1.5.0",
            "value": 87306240,
            "_view_count": null,
            "_view_module_version": "1.5.0",
            "orientation": "horizontal",
            "min": 0,
            "description_tooltip": null,
            "_model_module": "@jupyter-widgets/controls",
            "layout": "IPY_MODEL_1fb65b41fb724fa7938f032db3384b52"
          }
        },
        "cc25949e37ed4598ac5eb58315ccb707": {
          "model_module": "@jupyter-widgets/controls",
          "model_name": "HTMLModel",
          "state": {
            "_view_name": "HTMLView",
            "style": "IPY_MODEL_f373f2b295ec42a78b9ef76ab5fb497d",
            "_dom_classes": [],
            "description": "",
            "_model_name": "HTMLModel",
            "placeholder": "​",
            "_view_module": "@jupyter-widgets/controls",
            "_model_module_version": "1.5.0",
            "value": " 83.3M/83.3M [00:03&lt;00:00, 26.5MB/s]",
            "_view_count": null,
            "_view_module_version": "1.5.0",
            "description_tooltip": null,
            "_model_module": "@jupyter-widgets/controls",
            "layout": "IPY_MODEL_44002627da2841e589638e718aa2552c"
          }
        },
        "2aa4b1df9e8747e699f00a36e28bcfc4": {
          "model_module": "@jupyter-widgets/controls",
          "model_name": "ProgressStyleModel",
          "state": {
            "_view_name": "StyleView",
            "_model_name": "ProgressStyleModel",
            "description_width": "initial",
            "_view_module": "@jupyter-widgets/base",
            "_model_module_version": "1.5.0",
            "_view_count": null,
            "_view_module_version": "1.2.0",
            "bar_color": null,
            "_model_module": "@jupyter-widgets/controls"
          }
        },
        "1fb65b41fb724fa7938f032db3384b52": {
          "model_module": "@jupyter-widgets/base",
          "model_name": "LayoutModel",
          "state": {
            "_view_name": "LayoutView",
            "grid_template_rows": null,
            "right": null,
            "justify_content": null,
            "_view_module": "@jupyter-widgets/base",
            "overflow": null,
            "_model_module_version": "1.2.0",
            "_view_count": null,
            "flex_flow": null,
            "width": null,
            "min_width": null,
            "border": null,
            "align_items": null,
            "bottom": null,
            "_model_module": "@jupyter-widgets/base",
            "top": null,
            "grid_column": null,
            "overflow_y": null,
            "overflow_x": null,
            "grid_auto_flow": null,
            "grid_area": null,
            "grid_template_columns": null,
            "flex": null,
            "_model_name": "LayoutModel",
            "justify_items": null,
            "grid_row": null,
            "max_height": null,
            "align_content": null,
            "visibility": null,
            "align_self": null,
            "height": null,
            "min_height": null,
            "padding": null,
            "grid_auto_rows": null,
            "grid_gap": null,
            "max_width": null,
            "order": null,
            "_view_module_version": "1.2.0",
            "grid_template_areas": null,
            "object_position": null,
            "object_fit": null,
            "grid_auto_columns": null,
            "margin": null,
            "display": null,
            "left": null
          }
        },
        "f373f2b295ec42a78b9ef76ab5fb497d": {
          "model_module": "@jupyter-widgets/controls",
          "model_name": "DescriptionStyleModel",
          "state": {
            "_view_name": "StyleView",
            "_model_name": "DescriptionStyleModel",
            "description_width": "",
            "_view_module": "@jupyter-widgets/base",
            "_model_module_version": "1.5.0",
            "_view_count": null,
            "_view_module_version": "1.2.0",
            "_model_module": "@jupyter-widgets/controls"
          }
        },
        "44002627da2841e589638e718aa2552c": {
          "model_module": "@jupyter-widgets/base",
          "model_name": "LayoutModel",
          "state": {
            "_view_name": "LayoutView",
            "grid_template_rows": null,
            "right": null,
            "justify_content": null,
            "_view_module": "@jupyter-widgets/base",
            "overflow": null,
            "_model_module_version": "1.2.0",
            "_view_count": null,
            "flex_flow": null,
            "width": null,
            "min_width": null,
            "border": null,
            "align_items": null,
            "bottom": null,
            "_model_module": "@jupyter-widgets/base",
            "top": null,
            "grid_column": null,
            "overflow_y": null,
            "overflow_x": null,
            "grid_auto_flow": null,
            "grid_area": null,
            "grid_template_columns": null,
            "flex": null,
            "_model_name": "LayoutModel",
            "justify_items": null,
            "grid_row": null,
            "max_height": null,
            "align_content": null,
            "visibility": null,
            "align_self": null,
            "height": null,
            "min_height": null,
            "padding": null,
            "grid_auto_rows": null,
            "grid_gap": null,
            "max_width": null,
            "order": null,
            "_view_module_version": "1.2.0",
            "grid_template_areas": null,
            "object_position": null,
            "object_fit": null,
            "grid_auto_columns": null,
            "margin": null,
            "display": null,
            "left": null
          }
        },
        "5b924c5d174946b38c1b979cd00fa5b5": {
          "model_module": "@jupyter-widgets/controls",
          "model_name": "HBoxModel",
          "state": {
            "_view_name": "HBoxView",
            "_dom_classes": [],
            "_model_name": "HBoxModel",
            "_view_module": "@jupyter-widgets/controls",
            "_model_module_version": "1.5.0",
            "_view_count": null,
            "_view_module_version": "1.5.0",
            "box_style": "",
            "layout": "IPY_MODEL_5371f1eae1044396bd7ed9c546ce7106",
            "_model_module": "@jupyter-widgets/controls",
            "children": [
              "IPY_MODEL_de3f481a71c64410bd77a96e42a29fac",
              "IPY_MODEL_2c20d80fdded43f9b2ef578f7e82b0d9"
            ]
          }
        },
        "5371f1eae1044396bd7ed9c546ce7106": {
          "model_module": "@jupyter-widgets/base",
          "model_name": "LayoutModel",
          "state": {
            "_view_name": "LayoutView",
            "grid_template_rows": null,
            "right": null,
            "justify_content": null,
            "_view_module": "@jupyter-widgets/base",
            "overflow": null,
            "_model_module_version": "1.2.0",
            "_view_count": null,
            "flex_flow": null,
            "width": null,
            "min_width": null,
            "border": null,
            "align_items": null,
            "bottom": null,
            "_model_module": "@jupyter-widgets/base",
            "top": null,
            "grid_column": null,
            "overflow_y": null,
            "overflow_x": null,
            "grid_auto_flow": null,
            "grid_area": null,
            "grid_template_columns": null,
            "flex": null,
            "_model_name": "LayoutModel",
            "justify_items": null,
            "grid_row": null,
            "max_height": null,
            "align_content": null,
            "visibility": null,
            "align_self": null,
            "height": null,
            "min_height": null,
            "padding": null,
            "grid_auto_rows": null,
            "grid_gap": null,
            "max_width": null,
            "order": null,
            "_view_module_version": "1.2.0",
            "grid_template_areas": null,
            "object_position": null,
            "object_fit": null,
            "grid_auto_columns": null,
            "margin": null,
            "display": null,
            "left": null
          }
        },
        "de3f481a71c64410bd77a96e42a29fac": {
          "model_module": "@jupyter-widgets/controls",
          "model_name": "IntProgressModel",
          "state": {
            "_view_name": "ProgressView",
            "style": "IPY_MODEL_f56842b0b1c345a2ba470d9a2eeccd11",
            "_dom_classes": [],
            "description": "100%",
            "_model_name": "IntProgressModel",
            "bar_style": "success",
            "max": 46827520,
            "_view_module": "@jupyter-widgets/controls",
            "_model_module_version": "1.5.0",
            "value": 46827520,
            "_view_count": null,
            "_view_module_version": "1.5.0",
            "orientation": "horizontal",
            "min": 0,
            "description_tooltip": null,
            "_model_module": "@jupyter-widgets/controls",
            "layout": "IPY_MODEL_a8cd0b7f884b4f1d83a441def0a17f8c"
          }
        },
        "2c20d80fdded43f9b2ef578f7e82b0d9": {
          "model_module": "@jupyter-widgets/controls",
          "model_name": "HTMLModel",
          "state": {
            "_view_name": "HTMLView",
            "style": "IPY_MODEL_2af6402a8092425cabe4530d8e90b94f",
            "_dom_classes": [],
            "description": "",
            "_model_name": "HTMLModel",
            "placeholder": "​",
            "_view_module": "@jupyter-widgets/controls",
            "_model_module_version": "1.5.0",
            "value": " 44.7M/44.7M [00:00&lt;00:00, 139MB/s]",
            "_view_count": null,
            "_view_module_version": "1.5.0",
            "description_tooltip": null,
            "_model_module": "@jupyter-widgets/controls",
            "layout": "IPY_MODEL_237fcde6b97d46549b7d3fbd825c06b7"
          }
        },
        "f56842b0b1c345a2ba470d9a2eeccd11": {
          "model_module": "@jupyter-widgets/controls",
          "model_name": "ProgressStyleModel",
          "state": {
            "_view_name": "StyleView",
            "_model_name": "ProgressStyleModel",
            "description_width": "initial",
            "_view_module": "@jupyter-widgets/base",
            "_model_module_version": "1.5.0",
            "_view_count": null,
            "_view_module_version": "1.2.0",
            "bar_color": null,
            "_model_module": "@jupyter-widgets/controls"
          }
        },
        "a8cd0b7f884b4f1d83a441def0a17f8c": {
          "model_module": "@jupyter-widgets/base",
          "model_name": "LayoutModel",
          "state": {
            "_view_name": "LayoutView",
            "grid_template_rows": null,
            "right": null,
            "justify_content": null,
            "_view_module": "@jupyter-widgets/base",
            "overflow": null,
            "_model_module_version": "1.2.0",
            "_view_count": null,
            "flex_flow": null,
            "width": null,
            "min_width": null,
            "border": null,
            "align_items": null,
            "bottom": null,
            "_model_module": "@jupyter-widgets/base",
            "top": null,
            "grid_column": null,
            "overflow_y": null,
            "overflow_x": null,
            "grid_auto_flow": null,
            "grid_area": null,
            "grid_template_columns": null,
            "flex": null,
            "_model_name": "LayoutModel",
            "justify_items": null,
            "grid_row": null,
            "max_height": null,
            "align_content": null,
            "visibility": null,
            "align_self": null,
            "height": null,
            "min_height": null,
            "padding": null,
            "grid_auto_rows": null,
            "grid_gap": null,
            "max_width": null,
            "order": null,
            "_view_module_version": "1.2.0",
            "grid_template_areas": null,
            "object_position": null,
            "object_fit": null,
            "grid_auto_columns": null,
            "margin": null,
            "display": null,
            "left": null
          }
        },
        "2af6402a8092425cabe4530d8e90b94f": {
          "model_module": "@jupyter-widgets/controls",
          "model_name": "DescriptionStyleModel",
          "state": {
            "_view_name": "StyleView",
            "_model_name": "DescriptionStyleModel",
            "description_width": "",
            "_view_module": "@jupyter-widgets/base",
            "_model_module_version": "1.5.0",
            "_view_count": null,
            "_view_module_version": "1.2.0",
            "_model_module": "@jupyter-widgets/controls"
          }
        },
        "237fcde6b97d46549b7d3fbd825c06b7": {
          "model_module": "@jupyter-widgets/base",
          "model_name": "LayoutModel",
          "state": {
            "_view_name": "LayoutView",
            "grid_template_rows": null,
            "right": null,
            "justify_content": null,
            "_view_module": "@jupyter-widgets/base",
            "overflow": null,
            "_model_module_version": "1.2.0",
            "_view_count": null,
            "flex_flow": null,
            "width": null,
            "min_width": null,
            "border": null,
            "align_items": null,
            "bottom": null,
            "_model_module": "@jupyter-widgets/base",
            "top": null,
            "grid_column": null,
            "overflow_y": null,
            "overflow_x": null,
            "grid_auto_flow": null,
            "grid_area": null,
            "grid_template_columns": null,
            "flex": null,
            "_model_name": "LayoutModel",
            "justify_items": null,
            "grid_row": null,
            "max_height": null,
            "align_content": null,
            "visibility": null,
            "align_self": null,
            "height": null,
            "min_height": null,
            "padding": null,
            "grid_auto_rows": null,
            "grid_gap": null,
            "max_width": null,
            "order": null,
            "_view_module_version": "1.2.0",
            "grid_template_areas": null,
            "object_position": null,
            "object_fit": null,
            "grid_auto_columns": null,
            "margin": null,
            "display": null,
            "left": null
          }
        },
        "bb38c36872594be1b19a18e85d6e492f": {
          "model_module": "@jupyter-widgets/controls",
          "model_name": "HBoxModel",
          "state": {
            "_view_name": "HBoxView",
            "_dom_classes": [],
            "_model_name": "HBoxModel",
            "_view_module": "@jupyter-widgets/controls",
            "_model_module_version": "1.5.0",
            "_view_count": null,
            "_view_module_version": "1.5.0",
            "box_style": "",
            "layout": "IPY_MODEL_167b3915d95d47599071fbc492af3128",
            "_model_module": "@jupyter-widgets/controls",
            "children": [
              "IPY_MODEL_bc122c120e314bce960b4954fe5568da",
              "IPY_MODEL_4ecf53b1e99f4aabbbeb962ecf064350"
            ]
          }
        },
        "167b3915d95d47599071fbc492af3128": {
          "model_module": "@jupyter-widgets/base",
          "model_name": "LayoutModel",
          "state": {
            "_view_name": "LayoutView",
            "grid_template_rows": null,
            "right": null,
            "justify_content": null,
            "_view_module": "@jupyter-widgets/base",
            "overflow": null,
            "_model_module_version": "1.2.0",
            "_view_count": null,
            "flex_flow": null,
            "width": null,
            "min_width": null,
            "border": null,
            "align_items": null,
            "bottom": null,
            "_model_module": "@jupyter-widgets/base",
            "top": null,
            "grid_column": null,
            "overflow_y": null,
            "overflow_x": null,
            "grid_auto_flow": null,
            "grid_area": null,
            "grid_template_columns": null,
            "flex": null,
            "_model_name": "LayoutModel",
            "justify_items": null,
            "grid_row": null,
            "max_height": null,
            "align_content": null,
            "visibility": null,
            "align_self": null,
            "height": null,
            "min_height": null,
            "padding": null,
            "grid_auto_rows": null,
            "grid_gap": null,
            "max_width": null,
            "order": null,
            "_view_module_version": "1.2.0",
            "grid_template_areas": null,
            "object_position": null,
            "object_fit": null,
            "grid_auto_columns": null,
            "margin": null,
            "display": null,
            "left": null
          }
        },
        "bc122c120e314bce960b4954fe5568da": {
          "model_module": "@jupyter-widgets/controls",
          "model_name": "IntProgressModel",
          "state": {
            "_view_name": "ProgressView",
            "style": "IPY_MODEL_eb455239ef6848279bc35523be24e847",
            "_dom_classes": [],
            "description": "100%",
            "_model_name": "IntProgressModel",
            "bar_style": "success",
            "max": 102502400,
            "_view_module": "@jupyter-widgets/controls",
            "_model_module_version": "1.5.0",
            "value": 102502400,
            "_view_count": null,
            "_view_module_version": "1.5.0",
            "orientation": "horizontal",
            "min": 0,
            "description_tooltip": null,
            "_model_module": "@jupyter-widgets/controls",
            "layout": "IPY_MODEL_19516b81ee74463b96494d80f653de58"
          }
        },
        "4ecf53b1e99f4aabbbeb962ecf064350": {
          "model_module": "@jupyter-widgets/controls",
          "model_name": "HTMLModel",
          "state": {
            "_view_name": "HTMLView",
            "style": "IPY_MODEL_c75a291471b043a19e444504550dbb0b",
            "_dom_classes": [],
            "description": "",
            "_model_name": "HTMLModel",
            "placeholder": "​",
            "_view_module": "@jupyter-widgets/controls",
            "_model_module_version": "1.5.0",
            "value": " 97.8M/97.8M [01:04&lt;00:00, 1.58MB/s]",
            "_view_count": null,
            "_view_module_version": "1.5.0",
            "description_tooltip": null,
            "_model_module": "@jupyter-widgets/controls",
            "layout": "IPY_MODEL_8ac737257e594dffade2916877c381f1"
          }
        },
        "eb455239ef6848279bc35523be24e847": {
          "model_module": "@jupyter-widgets/controls",
          "model_name": "ProgressStyleModel",
          "state": {
            "_view_name": "StyleView",
            "_model_name": "ProgressStyleModel",
            "description_width": "initial",
            "_view_module": "@jupyter-widgets/base",
            "_model_module_version": "1.5.0",
            "_view_count": null,
            "_view_module_version": "1.2.0",
            "bar_color": null,
            "_model_module": "@jupyter-widgets/controls"
          }
        },
        "19516b81ee74463b96494d80f653de58": {
          "model_module": "@jupyter-widgets/base",
          "model_name": "LayoutModel",
          "state": {
            "_view_name": "LayoutView",
            "grid_template_rows": null,
            "right": null,
            "justify_content": null,
            "_view_module": "@jupyter-widgets/base",
            "overflow": null,
            "_model_module_version": "1.2.0",
            "_view_count": null,
            "flex_flow": null,
            "width": null,
            "min_width": null,
            "border": null,
            "align_items": null,
            "bottom": null,
            "_model_module": "@jupyter-widgets/base",
            "top": null,
            "grid_column": null,
            "overflow_y": null,
            "overflow_x": null,
            "grid_auto_flow": null,
            "grid_area": null,
            "grid_template_columns": null,
            "flex": null,
            "_model_name": "LayoutModel",
            "justify_items": null,
            "grid_row": null,
            "max_height": null,
            "align_content": null,
            "visibility": null,
            "align_self": null,
            "height": null,
            "min_height": null,
            "padding": null,
            "grid_auto_rows": null,
            "grid_gap": null,
            "max_width": null,
            "order": null,
            "_view_module_version": "1.2.0",
            "grid_template_areas": null,
            "object_position": null,
            "object_fit": null,
            "grid_auto_columns": null,
            "margin": null,
            "display": null,
            "left": null
          }
        },
        "c75a291471b043a19e444504550dbb0b": {
          "model_module": "@jupyter-widgets/controls",
          "model_name": "DescriptionStyleModel",
          "state": {
            "_view_name": "StyleView",
            "_model_name": "DescriptionStyleModel",
            "description_width": "",
            "_view_module": "@jupyter-widgets/base",
            "_model_module_version": "1.5.0",
            "_view_count": null,
            "_view_module_version": "1.2.0",
            "_model_module": "@jupyter-widgets/controls"
          }
        },
        "8ac737257e594dffade2916877c381f1": {
          "model_module": "@jupyter-widgets/base",
          "model_name": "LayoutModel",
          "state": {
            "_view_name": "LayoutView",
            "grid_template_rows": null,
            "right": null,
            "justify_content": null,
            "_view_module": "@jupyter-widgets/base",
            "overflow": null,
            "_model_module_version": "1.2.0",
            "_view_count": null,
            "flex_flow": null,
            "width": null,
            "min_width": null,
            "border": null,
            "align_items": null,
            "bottom": null,
            "_model_module": "@jupyter-widgets/base",
            "top": null,
            "grid_column": null,
            "overflow_y": null,
            "overflow_x": null,
            "grid_auto_flow": null,
            "grid_area": null,
            "grid_template_columns": null,
            "flex": null,
            "_model_name": "LayoutModel",
            "justify_items": null,
            "grid_row": null,
            "max_height": null,
            "align_content": null,
            "visibility": null,
            "align_self": null,
            "height": null,
            "min_height": null,
            "padding": null,
            "grid_auto_rows": null,
            "grid_gap": null,
            "max_width": null,
            "order": null,
            "_view_module_version": "1.2.0",
            "grid_template_areas": null,
            "object_position": null,
            "object_fit": null,
            "grid_auto_columns": null,
            "margin": null,
            "display": null,
            "left": null
          }
        }
      }
    }
  },
  "cells": [
    {
      "cell_type": "markdown",
      "metadata": {
        "id": "view-in-github",
        "colab_type": "text"
      },
      "source": [
        "<a href=\"https://colab.research.google.com/github/albope/master-data-analytics-content/blob/master/NCTU_CNN_Kaggle_Challenge_fastai.ipynb\" target=\"_parent\"><img src=\"https://colab.research.google.com/assets/colab-badge.svg\" alt=\"Open In Colab\"/></a>"
      ]
    },
    {
      "cell_type": "markdown",
      "metadata": {
        "id": "QIUKPFF5ow9Z",
        "colab_type": "text"
      },
      "source": [
        "# Classification challenge\n",
        "\n",
        "During next hours we will compete to build a classifier of natural scenes using a [dataset provided by NCTU](https://www.kaggle.com/c/cs-ioc5008-hw1/overview) (National Chiao Tung University, Taiwan).\n",
        "\n",
        "[Leaderboard](https://www.kaggle.com/c/cs-ioc5008-hw1/leaderboard)"
      ]
    },
    {
      "cell_type": "markdown",
      "metadata": {
        "id": "vap9F1ys0rnP",
        "colab_type": "text"
      },
      "source": [
        "# Don't forget to configure the execution environment to run in GPU"
      ]
    },
    {
      "cell_type": "markdown",
      "metadata": {
        "id": "AJNLd4wkt-38",
        "colab_type": "text"
      },
      "source": [
        "## Download images from Google Drive"
      ]
    },
    {
      "cell_type": "code",
      "metadata": {
        "id": "ir_wvpERNj0G",
        "colab_type": "code",
        "colab": {}
      },
      "source": [
        "# Import Google Drive libraries\n",
        "from pydrive.auth import GoogleAuth\n",
        "from pydrive.drive import GoogleDrive\n",
        "from google.colab import auth\n",
        "from oauth2client.client import GoogleCredentials"
      ],
      "execution_count": 0,
      "outputs": []
    },
    {
      "cell_type": "code",
      "metadata": {
        "id": "hfTRSp17N24f",
        "colab_type": "code",
        "colab": {}
      },
      "source": [
        "# Authenticate with your Google Account\n",
        "auth.authenticate_user()\n",
        "gauth = GoogleAuth()\n",
        "gauth.credentials = GoogleCredentials.get_application_default()\n",
        "drive = GoogleDrive(gauth)"
      ],
      "execution_count": 0,
      "outputs": []
    },
    {
      "cell_type": "code",
      "metadata": {
        "id": "JdCzkEHaT538",
        "colab_type": "code",
        "colab": {}
      },
      "source": [
        "# Download the dataset of the challenge\n",
        "download = drive.CreateFile({'id': '1DeEJ_LtbgIYPLYcPu3bD818iKXH_w8ru'})\n",
        "download.GetContentFile('challenge.zip')"
      ],
      "execution_count": 0,
      "outputs": []
    },
    {
      "cell_type": "code",
      "metadata": {
        "id": "vUotFVb2XP-5",
        "colab_type": "code",
        "colab": {}
      },
      "source": [
        "# Extract the files\n",
        "import zipfile\n",
        "from pathlib import Path\n",
        "data_path = Path(\"./challenge.zip\")\n",
        "\n",
        "with zipfile.ZipFile(str(data_path), 'r') as zip_ref:\n",
        "    zip_ref.extractall(\"./data\")"
      ],
      "execution_count": 0,
      "outputs": []
    },
    {
      "cell_type": "code",
      "metadata": {
        "id": "lmRi4DTSs5Wy",
        "colab_type": "code",
        "outputId": "1f9e38b2-4558-4421-9c23-9bda7449375a",
        "colab": {
          "base_uri": "https://localhost:8080/",
          "height": 34
        }
      },
      "source": [
        "ls"
      ],
      "execution_count": 0,
      "outputs": [
        {
          "output_type": "stream",
          "text": [
            "adc.json  challenge.zip  \u001b[0m\u001b[01;34mdata\u001b[0m/  \u001b[01;34msample_data\u001b[0m/\n"
          ],
          "name": "stdout"
        }
      ]
    },
    {
      "cell_type": "code",
      "metadata": {
        "id": "37-OtomJuZrB",
        "colab_type": "code",
        "outputId": "938656a3-875f-48cd-93b0-d209ef93d41a",
        "colab": {
          "base_uri": "https://localhost:8080/",
          "height": 34
        }
      },
      "source": [
        "ls data"
      ],
      "execution_count": 0,
      "outputs": [
        {
          "output_type": "stream",
          "text": [
            "\u001b[0m\u001b[01;34mtest\u001b[0m/  \u001b[01;34mtrain\u001b[0m/\n"
          ],
          "name": "stdout"
        }
      ]
    },
    {
      "cell_type": "code",
      "metadata": {
        "id": "EoxvoTKzrqtm",
        "colab_type": "code",
        "outputId": "05fb67fd-ca64-4c58-f337-b573473cbf7a",
        "colab": {
          "base_uri": "https://localhost:8080/",
          "height": 68
        }
      },
      "source": [
        "ls data/train"
      ],
      "execution_count": 0,
      "outputs": [
        {
          "output_type": "stream",
          "text": [
            "\u001b[0m\u001b[01;34mbedroom\u001b[0m/  \u001b[01;34mhighway\u001b[0m/     \u001b[01;34mlivingroom\u001b[0m/  \u001b[01;34mopencountry\u001b[0m/  \u001b[01;34mtallbuilding\u001b[0m/\n",
            "\u001b[01;34mcoast\u001b[0m/    \u001b[01;34minsidecity\u001b[0m/  \u001b[01;34mmountain\u001b[0m/    \u001b[01;34mstreet\u001b[0m/\n",
            "\u001b[01;34mforest\u001b[0m/   \u001b[01;34mkitchen\u001b[0m/     \u001b[01;34moffice\u001b[0m/      \u001b[01;34msuburb\u001b[0m/\n"
          ],
          "name": "stdout"
        }
      ]
    },
    {
      "cell_type": "code",
      "metadata": {
        "id": "33yrOWxGr0NW",
        "colab_type": "code",
        "outputId": "f8f9f077-06f9-40e7-e95d-4e086101526c",
        "colab": {
          "base_uri": "https://localhost:8080/",
          "height": 493
        }
      },
      "source": [
        "ls data/train/bedroom"
      ],
      "execution_count": 0,
      "outputs": [
        {
          "output_type": "stream",
          "text": [
            "image_0000.jpg  image_0028.jpg  image_0056.jpg  image_0084.jpg  image_0112.jpg\n",
            "image_0001.jpg  image_0029.jpg  image_0057.jpg  image_0085.jpg  image_0113.jpg\n",
            "image_0002.jpg  image_0030.jpg  image_0058.jpg  image_0086.jpg  image_0114.jpg\n",
            "image_0003.jpg  image_0031.jpg  image_0059.jpg  image_0087.jpg  image_0115.jpg\n",
            "image_0004.jpg  image_0032.jpg  image_0060.jpg  image_0088.jpg  image_0116.jpg\n",
            "image_0005.jpg  image_0033.jpg  image_0061.jpg  image_0089.jpg  image_0117.jpg\n",
            "image_0006.jpg  image_0034.jpg  image_0062.jpg  image_0090.jpg  image_0118.jpg\n",
            "image_0007.jpg  image_0035.jpg  image_0063.jpg  image_0091.jpg  image_0119.jpg\n",
            "image_0008.jpg  image_0036.jpg  image_0064.jpg  image_0092.jpg  image_0120.jpg\n",
            "image_0009.jpg  image_0037.jpg  image_0065.jpg  image_0093.jpg  image_0121.jpg\n",
            "image_0010.jpg  image_0038.jpg  image_0066.jpg  image_0094.jpg  image_0122.jpg\n",
            "image_0011.jpg  image_0039.jpg  image_0067.jpg  image_0095.jpg  image_0123.jpg\n",
            "image_0012.jpg  image_0040.jpg  image_0068.jpg  image_0096.jpg  image_0124.jpg\n",
            "image_0013.jpg  image_0041.jpg  image_0069.jpg  image_0097.jpg  image_0125.jpg\n",
            "image_0014.jpg  image_0042.jpg  image_0070.jpg  image_0098.jpg  image_0126.jpg\n",
            "image_0015.jpg  image_0043.jpg  image_0071.jpg  image_0099.jpg  image_0127.jpg\n",
            "image_0016.jpg  image_0044.jpg  image_0072.jpg  image_0100.jpg  image_0128.jpg\n",
            "image_0017.jpg  image_0045.jpg  image_0073.jpg  image_0101.jpg  image_0129.jpg\n",
            "image_0018.jpg  image_0046.jpg  image_0074.jpg  image_0102.jpg  image_0130.jpg\n",
            "image_0019.jpg  image_0047.jpg  image_0075.jpg  image_0103.jpg  image_0131.jpg\n",
            "image_0020.jpg  image_0048.jpg  image_0076.jpg  image_0104.jpg  image_0132.jpg\n",
            "image_0021.jpg  image_0049.jpg  image_0077.jpg  image_0105.jpg  image_0133.jpg\n",
            "image_0022.jpg  image_0050.jpg  image_0078.jpg  image_0106.jpg  image_0134.jpg\n",
            "image_0023.jpg  image_0051.jpg  image_0079.jpg  image_0107.jpg  image_0135.jpg\n",
            "image_0024.jpg  image_0052.jpg  image_0080.jpg  image_0108.jpg\n",
            "image_0025.jpg  image_0053.jpg  image_0081.jpg  image_0109.jpg\n",
            "image_0026.jpg  image_0054.jpg  image_0082.jpg  image_0110.jpg\n",
            "image_0027.jpg  image_0055.jpg  image_0083.jpg  image_0111.jpg\n"
          ],
          "name": "stdout"
        }
      ]
    },
    {
      "cell_type": "code",
      "metadata": {
        "id": "kDMw1zo2rvHQ",
        "colab_type": "code",
        "outputId": "94913321-4c47-41c6-92eb-b89b900ebd8c",
        "colab": {
          "base_uri": "https://localhost:8080/",
          "height": 1000
        }
      },
      "source": [
        "ls data/test"
      ],
      "execution_count": 0,
      "outputs": [
        {
          "output_type": "stream",
          "text": [
            "image_0000.jpg  image_0208.jpg  image_0416.jpg  image_0624.jpg  image_0832.jpg\n",
            "image_0001.jpg  image_0209.jpg  image_0417.jpg  image_0625.jpg  image_0833.jpg\n",
            "image_0002.jpg  image_0210.jpg  image_0418.jpg  image_0626.jpg  image_0834.jpg\n",
            "image_0003.jpg  image_0211.jpg  image_0419.jpg  image_0627.jpg  image_0835.jpg\n",
            "image_0004.jpg  image_0212.jpg  image_0420.jpg  image_0628.jpg  image_0836.jpg\n",
            "image_0005.jpg  image_0213.jpg  image_0421.jpg  image_0629.jpg  image_0837.jpg\n",
            "image_0006.jpg  image_0214.jpg  image_0422.jpg  image_0630.jpg  image_0838.jpg\n",
            "image_0007.jpg  image_0215.jpg  image_0423.jpg  image_0631.jpg  image_0839.jpg\n",
            "image_0008.jpg  image_0216.jpg  image_0424.jpg  image_0632.jpg  image_0840.jpg\n",
            "image_0009.jpg  image_0217.jpg  image_0425.jpg  image_0633.jpg  image_0841.jpg\n",
            "image_0010.jpg  image_0218.jpg  image_0426.jpg  image_0634.jpg  image_0842.jpg\n",
            "image_0011.jpg  image_0219.jpg  image_0427.jpg  image_0635.jpg  image_0843.jpg\n",
            "image_0012.jpg  image_0220.jpg  image_0428.jpg  image_0636.jpg  image_0844.jpg\n",
            "image_0013.jpg  image_0221.jpg  image_0429.jpg  image_0637.jpg  image_0845.jpg\n",
            "image_0014.jpg  image_0222.jpg  image_0430.jpg  image_0638.jpg  image_0846.jpg\n",
            "image_0015.jpg  image_0223.jpg  image_0431.jpg  image_0639.jpg  image_0847.jpg\n",
            "image_0016.jpg  image_0224.jpg  image_0432.jpg  image_0640.jpg  image_0848.jpg\n",
            "image_0017.jpg  image_0225.jpg  image_0433.jpg  image_0641.jpg  image_0849.jpg\n",
            "image_0018.jpg  image_0226.jpg  image_0434.jpg  image_0642.jpg  image_0850.jpg\n",
            "image_0019.jpg  image_0227.jpg  image_0435.jpg  image_0643.jpg  image_0851.jpg\n",
            "image_0020.jpg  image_0228.jpg  image_0436.jpg  image_0644.jpg  image_0852.jpg\n",
            "image_0021.jpg  image_0229.jpg  image_0437.jpg  image_0645.jpg  image_0853.jpg\n",
            "image_0022.jpg  image_0230.jpg  image_0438.jpg  image_0646.jpg  image_0854.jpg\n",
            "image_0023.jpg  image_0231.jpg  image_0439.jpg  image_0647.jpg  image_0855.jpg\n",
            "image_0024.jpg  image_0232.jpg  image_0440.jpg  image_0648.jpg  image_0856.jpg\n",
            "image_0025.jpg  image_0233.jpg  image_0441.jpg  image_0649.jpg  image_0857.jpg\n",
            "image_0026.jpg  image_0234.jpg  image_0442.jpg  image_0650.jpg  image_0858.jpg\n",
            "image_0027.jpg  image_0235.jpg  image_0443.jpg  image_0651.jpg  image_0859.jpg\n",
            "image_0028.jpg  image_0236.jpg  image_0444.jpg  image_0652.jpg  image_0860.jpg\n",
            "image_0029.jpg  image_0237.jpg  image_0445.jpg  image_0653.jpg  image_0861.jpg\n",
            "image_0030.jpg  image_0238.jpg  image_0446.jpg  image_0654.jpg  image_0862.jpg\n",
            "image_0031.jpg  image_0239.jpg  image_0447.jpg  image_0655.jpg  image_0863.jpg\n",
            "image_0032.jpg  image_0240.jpg  image_0448.jpg  image_0656.jpg  image_0864.jpg\n",
            "image_0033.jpg  image_0241.jpg  image_0449.jpg  image_0657.jpg  image_0865.jpg\n",
            "image_0034.jpg  image_0242.jpg  image_0450.jpg  image_0658.jpg  image_0866.jpg\n",
            "image_0035.jpg  image_0243.jpg  image_0451.jpg  image_0659.jpg  image_0867.jpg\n",
            "image_0036.jpg  image_0244.jpg  image_0452.jpg  image_0660.jpg  image_0868.jpg\n",
            "image_0037.jpg  image_0245.jpg  image_0453.jpg  image_0661.jpg  image_0869.jpg\n",
            "image_0038.jpg  image_0246.jpg  image_0454.jpg  image_0662.jpg  image_0870.jpg\n",
            "image_0039.jpg  image_0247.jpg  image_0455.jpg  image_0663.jpg  image_0871.jpg\n",
            "image_0040.jpg  image_0248.jpg  image_0456.jpg  image_0664.jpg  image_0872.jpg\n",
            "image_0041.jpg  image_0249.jpg  image_0457.jpg  image_0665.jpg  image_0873.jpg\n",
            "image_0042.jpg  image_0250.jpg  image_0458.jpg  image_0666.jpg  image_0874.jpg\n",
            "image_0043.jpg  image_0251.jpg  image_0459.jpg  image_0667.jpg  image_0875.jpg\n",
            "image_0044.jpg  image_0252.jpg  image_0460.jpg  image_0668.jpg  image_0876.jpg\n",
            "image_0045.jpg  image_0253.jpg  image_0461.jpg  image_0669.jpg  image_0877.jpg\n",
            "image_0046.jpg  image_0254.jpg  image_0462.jpg  image_0670.jpg  image_0878.jpg\n",
            "image_0047.jpg  image_0255.jpg  image_0463.jpg  image_0671.jpg  image_0879.jpg\n",
            "image_0048.jpg  image_0256.jpg  image_0464.jpg  image_0672.jpg  image_0880.jpg\n",
            "image_0049.jpg  image_0257.jpg  image_0465.jpg  image_0673.jpg  image_0881.jpg\n",
            "image_0050.jpg  image_0258.jpg  image_0466.jpg  image_0674.jpg  image_0882.jpg\n",
            "image_0051.jpg  image_0259.jpg  image_0467.jpg  image_0675.jpg  image_0883.jpg\n",
            "image_0052.jpg  image_0260.jpg  image_0468.jpg  image_0676.jpg  image_0884.jpg\n",
            "image_0053.jpg  image_0261.jpg  image_0469.jpg  image_0677.jpg  image_0885.jpg\n",
            "image_0054.jpg  image_0262.jpg  image_0470.jpg  image_0678.jpg  image_0886.jpg\n",
            "image_0055.jpg  image_0263.jpg  image_0471.jpg  image_0679.jpg  image_0887.jpg\n",
            "image_0056.jpg  image_0264.jpg  image_0472.jpg  image_0680.jpg  image_0888.jpg\n",
            "image_0057.jpg  image_0265.jpg  image_0473.jpg  image_0681.jpg  image_0889.jpg\n",
            "image_0058.jpg  image_0266.jpg  image_0474.jpg  image_0682.jpg  image_0890.jpg\n",
            "image_0059.jpg  image_0267.jpg  image_0475.jpg  image_0683.jpg  image_0891.jpg\n",
            "image_0060.jpg  image_0268.jpg  image_0476.jpg  image_0684.jpg  image_0892.jpg\n",
            "image_0061.jpg  image_0269.jpg  image_0477.jpg  image_0685.jpg  image_0893.jpg\n",
            "image_0062.jpg  image_0270.jpg  image_0478.jpg  image_0686.jpg  image_0894.jpg\n",
            "image_0063.jpg  image_0271.jpg  image_0479.jpg  image_0687.jpg  image_0895.jpg\n",
            "image_0064.jpg  image_0272.jpg  image_0480.jpg  image_0688.jpg  image_0896.jpg\n",
            "image_0065.jpg  image_0273.jpg  image_0481.jpg  image_0689.jpg  image_0897.jpg\n",
            "image_0066.jpg  image_0274.jpg  image_0482.jpg  image_0690.jpg  image_0898.jpg\n",
            "image_0067.jpg  image_0275.jpg  image_0483.jpg  image_0691.jpg  image_0899.jpg\n",
            "image_0068.jpg  image_0276.jpg  image_0484.jpg  image_0692.jpg  image_0900.jpg\n",
            "image_0069.jpg  image_0277.jpg  image_0485.jpg  image_0693.jpg  image_0901.jpg\n",
            "image_0070.jpg  image_0278.jpg  image_0486.jpg  image_0694.jpg  image_0902.jpg\n",
            "image_0071.jpg  image_0279.jpg  image_0487.jpg  image_0695.jpg  image_0903.jpg\n",
            "image_0072.jpg  image_0280.jpg  image_0488.jpg  image_0696.jpg  image_0904.jpg\n",
            "image_0073.jpg  image_0281.jpg  image_0489.jpg  image_0697.jpg  image_0905.jpg\n",
            "image_0074.jpg  image_0282.jpg  image_0490.jpg  image_0698.jpg  image_0906.jpg\n",
            "image_0075.jpg  image_0283.jpg  image_0491.jpg  image_0699.jpg  image_0907.jpg\n",
            "image_0076.jpg  image_0284.jpg  image_0492.jpg  image_0700.jpg  image_0908.jpg\n",
            "image_0077.jpg  image_0285.jpg  image_0493.jpg  image_0701.jpg  image_0909.jpg\n",
            "image_0078.jpg  image_0286.jpg  image_0494.jpg  image_0702.jpg  image_0910.jpg\n",
            "image_0079.jpg  image_0287.jpg  image_0495.jpg  image_0703.jpg  image_0911.jpg\n",
            "image_0080.jpg  image_0288.jpg  image_0496.jpg  image_0704.jpg  image_0912.jpg\n",
            "image_0081.jpg  image_0289.jpg  image_0497.jpg  image_0705.jpg  image_0913.jpg\n",
            "image_0082.jpg  image_0290.jpg  image_0498.jpg  image_0706.jpg  image_0914.jpg\n",
            "image_0083.jpg  image_0291.jpg  image_0499.jpg  image_0707.jpg  image_0915.jpg\n",
            "image_0084.jpg  image_0292.jpg  image_0500.jpg  image_0708.jpg  image_0916.jpg\n",
            "image_0085.jpg  image_0293.jpg  image_0501.jpg  image_0709.jpg  image_0917.jpg\n",
            "image_0086.jpg  image_0294.jpg  image_0502.jpg  image_0710.jpg  image_0918.jpg\n",
            "image_0087.jpg  image_0295.jpg  image_0503.jpg  image_0711.jpg  image_0919.jpg\n",
            "image_0088.jpg  image_0296.jpg  image_0504.jpg  image_0712.jpg  image_0920.jpg\n",
            "image_0089.jpg  image_0297.jpg  image_0505.jpg  image_0713.jpg  image_0921.jpg\n",
            "image_0090.jpg  image_0298.jpg  image_0506.jpg  image_0714.jpg  image_0922.jpg\n",
            "image_0091.jpg  image_0299.jpg  image_0507.jpg  image_0715.jpg  image_0923.jpg\n",
            "image_0092.jpg  image_0300.jpg  image_0508.jpg  image_0716.jpg  image_0924.jpg\n",
            "image_0093.jpg  image_0301.jpg  image_0509.jpg  image_0717.jpg  image_0925.jpg\n",
            "image_0094.jpg  image_0302.jpg  image_0510.jpg  image_0718.jpg  image_0926.jpg\n",
            "image_0095.jpg  image_0303.jpg  image_0511.jpg  image_0719.jpg  image_0927.jpg\n",
            "image_0096.jpg  image_0304.jpg  image_0512.jpg  image_0720.jpg  image_0928.jpg\n",
            "image_0097.jpg  image_0305.jpg  image_0513.jpg  image_0721.jpg  image_0929.jpg\n",
            "image_0098.jpg  image_0306.jpg  image_0514.jpg  image_0722.jpg  image_0930.jpg\n",
            "image_0099.jpg  image_0307.jpg  image_0515.jpg  image_0723.jpg  image_0931.jpg\n",
            "image_0100.jpg  image_0308.jpg  image_0516.jpg  image_0724.jpg  image_0932.jpg\n",
            "image_0101.jpg  image_0309.jpg  image_0517.jpg  image_0725.jpg  image_0933.jpg\n",
            "image_0102.jpg  image_0310.jpg  image_0518.jpg  image_0726.jpg  image_0934.jpg\n",
            "image_0103.jpg  image_0311.jpg  image_0519.jpg  image_0727.jpg  image_0935.jpg\n",
            "image_0104.jpg  image_0312.jpg  image_0520.jpg  image_0728.jpg  image_0936.jpg\n",
            "image_0105.jpg  image_0313.jpg  image_0521.jpg  image_0729.jpg  image_0937.jpg\n",
            "image_0106.jpg  image_0314.jpg  image_0522.jpg  image_0730.jpg  image_0938.jpg\n",
            "image_0107.jpg  image_0315.jpg  image_0523.jpg  image_0731.jpg  image_0939.jpg\n",
            "image_0108.jpg  image_0316.jpg  image_0524.jpg  image_0732.jpg  image_0940.jpg\n",
            "image_0109.jpg  image_0317.jpg  image_0525.jpg  image_0733.jpg  image_0941.jpg\n",
            "image_0110.jpg  image_0318.jpg  image_0526.jpg  image_0734.jpg  image_0942.jpg\n",
            "image_0111.jpg  image_0319.jpg  image_0527.jpg  image_0735.jpg  image_0943.jpg\n",
            "image_0112.jpg  image_0320.jpg  image_0528.jpg  image_0736.jpg  image_0944.jpg\n",
            "image_0113.jpg  image_0321.jpg  image_0529.jpg  image_0737.jpg  image_0945.jpg\n",
            "image_0114.jpg  image_0322.jpg  image_0530.jpg  image_0738.jpg  image_0946.jpg\n",
            "image_0115.jpg  image_0323.jpg  image_0531.jpg  image_0739.jpg  image_0947.jpg\n",
            "image_0116.jpg  image_0324.jpg  image_0532.jpg  image_0740.jpg  image_0948.jpg\n",
            "image_0117.jpg  image_0325.jpg  image_0533.jpg  image_0741.jpg  image_0949.jpg\n",
            "image_0118.jpg  image_0326.jpg  image_0534.jpg  image_0742.jpg  image_0950.jpg\n",
            "image_0119.jpg  image_0327.jpg  image_0535.jpg  image_0743.jpg  image_0951.jpg\n",
            "image_0120.jpg  image_0328.jpg  image_0536.jpg  image_0744.jpg  image_0952.jpg\n",
            "image_0121.jpg  image_0329.jpg  image_0537.jpg  image_0745.jpg  image_0953.jpg\n",
            "image_0122.jpg  image_0330.jpg  image_0538.jpg  image_0746.jpg  image_0954.jpg\n",
            "image_0123.jpg  image_0331.jpg  image_0539.jpg  image_0747.jpg  image_0955.jpg\n",
            "image_0124.jpg  image_0332.jpg  image_0540.jpg  image_0748.jpg  image_0956.jpg\n",
            "image_0125.jpg  image_0333.jpg  image_0541.jpg  image_0749.jpg  image_0957.jpg\n",
            "image_0126.jpg  image_0334.jpg  image_0542.jpg  image_0750.jpg  image_0958.jpg\n",
            "image_0127.jpg  image_0335.jpg  image_0543.jpg  image_0751.jpg  image_0959.jpg\n",
            "image_0128.jpg  image_0336.jpg  image_0544.jpg  image_0752.jpg  image_0960.jpg\n",
            "image_0129.jpg  image_0337.jpg  image_0545.jpg  image_0753.jpg  image_0961.jpg\n",
            "image_0130.jpg  image_0338.jpg  image_0546.jpg  image_0754.jpg  image_0962.jpg\n",
            "image_0131.jpg  image_0339.jpg  image_0547.jpg  image_0755.jpg  image_0963.jpg\n",
            "image_0132.jpg  image_0340.jpg  image_0548.jpg  image_0756.jpg  image_0964.jpg\n",
            "image_0133.jpg  image_0341.jpg  image_0549.jpg  image_0757.jpg  image_0965.jpg\n",
            "image_0134.jpg  image_0342.jpg  image_0550.jpg  image_0758.jpg  image_0966.jpg\n",
            "image_0135.jpg  image_0343.jpg  image_0551.jpg  image_0759.jpg  image_0967.jpg\n",
            "image_0136.jpg  image_0344.jpg  image_0552.jpg  image_0760.jpg  image_0968.jpg\n",
            "image_0137.jpg  image_0345.jpg  image_0553.jpg  image_0761.jpg  image_0969.jpg\n",
            "image_0138.jpg  image_0346.jpg  image_0554.jpg  image_0762.jpg  image_0970.jpg\n",
            "image_0139.jpg  image_0347.jpg  image_0555.jpg  image_0763.jpg  image_0971.jpg\n",
            "image_0140.jpg  image_0348.jpg  image_0556.jpg  image_0764.jpg  image_0972.jpg\n",
            "image_0141.jpg  image_0349.jpg  image_0557.jpg  image_0765.jpg  image_0973.jpg\n",
            "image_0142.jpg  image_0350.jpg  image_0558.jpg  image_0766.jpg  image_0974.jpg\n",
            "image_0143.jpg  image_0351.jpg  image_0559.jpg  image_0767.jpg  image_0975.jpg\n",
            "image_0144.jpg  image_0352.jpg  image_0560.jpg  image_0768.jpg  image_0976.jpg\n",
            "image_0145.jpg  image_0353.jpg  image_0561.jpg  image_0769.jpg  image_0977.jpg\n",
            "image_0146.jpg  image_0354.jpg  image_0562.jpg  image_0770.jpg  image_0978.jpg\n",
            "image_0147.jpg  image_0355.jpg  image_0563.jpg  image_0771.jpg  image_0979.jpg\n",
            "image_0148.jpg  image_0356.jpg  image_0564.jpg  image_0772.jpg  image_0980.jpg\n",
            "image_0149.jpg  image_0357.jpg  image_0565.jpg  image_0773.jpg  image_0981.jpg\n",
            "image_0150.jpg  image_0358.jpg  image_0566.jpg  image_0774.jpg  image_0982.jpg\n",
            "image_0151.jpg  image_0359.jpg  image_0567.jpg  image_0775.jpg  image_0983.jpg\n",
            "image_0152.jpg  image_0360.jpg  image_0568.jpg  image_0776.jpg  image_0984.jpg\n",
            "image_0153.jpg  image_0361.jpg  image_0569.jpg  image_0777.jpg  image_0985.jpg\n",
            "image_0154.jpg  image_0362.jpg  image_0570.jpg  image_0778.jpg  image_0986.jpg\n",
            "image_0155.jpg  image_0363.jpg  image_0571.jpg  image_0779.jpg  image_0987.jpg\n",
            "image_0156.jpg  image_0364.jpg  image_0572.jpg  image_0780.jpg  image_0988.jpg\n",
            "image_0157.jpg  image_0365.jpg  image_0573.jpg  image_0781.jpg  image_0989.jpg\n",
            "image_0158.jpg  image_0366.jpg  image_0574.jpg  image_0782.jpg  image_0990.jpg\n",
            "image_0159.jpg  image_0367.jpg  image_0575.jpg  image_0783.jpg  image_0991.jpg\n",
            "image_0160.jpg  image_0368.jpg  image_0576.jpg  image_0784.jpg  image_0992.jpg\n",
            "image_0161.jpg  image_0369.jpg  image_0577.jpg  image_0785.jpg  image_0993.jpg\n",
            "image_0162.jpg  image_0370.jpg  image_0578.jpg  image_0786.jpg  image_0994.jpg\n",
            "image_0163.jpg  image_0371.jpg  image_0579.jpg  image_0787.jpg  image_0995.jpg\n",
            "image_0164.jpg  image_0372.jpg  image_0580.jpg  image_0788.jpg  image_0996.jpg\n",
            "image_0165.jpg  image_0373.jpg  image_0581.jpg  image_0789.jpg  image_0997.jpg\n",
            "image_0166.jpg  image_0374.jpg  image_0582.jpg  image_0790.jpg  image_0998.jpg\n",
            "image_0167.jpg  image_0375.jpg  image_0583.jpg  image_0791.jpg  image_0999.jpg\n",
            "image_0168.jpg  image_0376.jpg  image_0584.jpg  image_0792.jpg  image_1000.jpg\n",
            "image_0169.jpg  image_0377.jpg  image_0585.jpg  image_0793.jpg  image_1001.jpg\n",
            "image_0170.jpg  image_0378.jpg  image_0586.jpg  image_0794.jpg  image_1002.jpg\n",
            "image_0171.jpg  image_0379.jpg  image_0587.jpg  image_0795.jpg  image_1003.jpg\n",
            "image_0172.jpg  image_0380.jpg  image_0588.jpg  image_0796.jpg  image_1004.jpg\n",
            "image_0173.jpg  image_0381.jpg  image_0589.jpg  image_0797.jpg  image_1005.jpg\n",
            "image_0174.jpg  image_0382.jpg  image_0590.jpg  image_0798.jpg  image_1006.jpg\n",
            "image_0175.jpg  image_0383.jpg  image_0591.jpg  image_0799.jpg  image_1007.jpg\n",
            "image_0176.jpg  image_0384.jpg  image_0592.jpg  image_0800.jpg  image_1008.jpg\n",
            "image_0177.jpg  image_0385.jpg  image_0593.jpg  image_0801.jpg  image_1009.jpg\n",
            "image_0178.jpg  image_0386.jpg  image_0594.jpg  image_0802.jpg  image_1010.jpg\n",
            "image_0179.jpg  image_0387.jpg  image_0595.jpg  image_0803.jpg  image_1011.jpg\n",
            "image_0180.jpg  image_0388.jpg  image_0596.jpg  image_0804.jpg  image_1012.jpg\n",
            "image_0181.jpg  image_0389.jpg  image_0597.jpg  image_0805.jpg  image_1013.jpg\n",
            "image_0182.jpg  image_0390.jpg  image_0598.jpg  image_0806.jpg  image_1014.jpg\n",
            "image_0183.jpg  image_0391.jpg  image_0599.jpg  image_0807.jpg  image_1015.jpg\n",
            "image_0184.jpg  image_0392.jpg  image_0600.jpg  image_0808.jpg  image_1016.jpg\n",
            "image_0185.jpg  image_0393.jpg  image_0601.jpg  image_0809.jpg  image_1017.jpg\n",
            "image_0186.jpg  image_0394.jpg  image_0602.jpg  image_0810.jpg  image_1018.jpg\n",
            "image_0187.jpg  image_0395.jpg  image_0603.jpg  image_0811.jpg  image_1019.jpg\n",
            "image_0188.jpg  image_0396.jpg  image_0604.jpg  image_0812.jpg  image_1020.jpg\n",
            "image_0189.jpg  image_0397.jpg  image_0605.jpg  image_0813.jpg  image_1021.jpg\n",
            "image_0190.jpg  image_0398.jpg  image_0606.jpg  image_0814.jpg  image_1022.jpg\n",
            "image_0191.jpg  image_0399.jpg  image_0607.jpg  image_0815.jpg  image_1023.jpg\n",
            "image_0192.jpg  image_0400.jpg  image_0608.jpg  image_0816.jpg  image_1024.jpg\n",
            "image_0193.jpg  image_0401.jpg  image_0609.jpg  image_0817.jpg  image_1025.jpg\n",
            "image_0194.jpg  image_0402.jpg  image_0610.jpg  image_0818.jpg  image_1026.jpg\n",
            "image_0195.jpg  image_0403.jpg  image_0611.jpg  image_0819.jpg  image_1027.jpg\n",
            "image_0196.jpg  image_0404.jpg  image_0612.jpg  image_0820.jpg  image_1028.jpg\n",
            "image_0197.jpg  image_0405.jpg  image_0613.jpg  image_0821.jpg  image_1029.jpg\n",
            "image_0198.jpg  image_0406.jpg  image_0614.jpg  image_0822.jpg  image_1030.jpg\n",
            "image_0199.jpg  image_0407.jpg  image_0615.jpg  image_0823.jpg  image_1031.jpg\n",
            "image_0200.jpg  image_0408.jpg  image_0616.jpg  image_0824.jpg  image_1032.jpg\n",
            "image_0201.jpg  image_0409.jpg  image_0617.jpg  image_0825.jpg  image_1033.jpg\n",
            "image_0202.jpg  image_0410.jpg  image_0618.jpg  image_0826.jpg  image_1034.jpg\n",
            "image_0203.jpg  image_0411.jpg  image_0619.jpg  image_0827.jpg  image_1035.jpg\n",
            "image_0204.jpg  image_0412.jpg  image_0620.jpg  image_0828.jpg  image_1036.jpg\n",
            "image_0205.jpg  image_0413.jpg  image_0621.jpg  image_0829.jpg  image_1037.jpg\n",
            "image_0206.jpg  image_0414.jpg  image_0622.jpg  image_0830.jpg  image_1038.jpg\n",
            "image_0207.jpg  image_0415.jpg  image_0623.jpg  image_0831.jpg  image_1039.jpg\n"
          ],
          "name": "stdout"
        }
      ]
    },
    {
      "cell_type": "markdown",
      "metadata": {
        "id": "-ljvBRjesODJ",
        "colab_type": "text"
      },
      "source": [
        "# Let's hack some code!"
      ]
    },
    {
      "cell_type": "markdown",
      "metadata": {
        "id": "np_wXkUYOgFK",
        "colab_type": "text"
      },
      "source": [
        "# Explore the data"
      ]
    },
    {
      "cell_type": "code",
      "metadata": {
        "id": "rgRGB-TS8emf",
        "colab_type": "code",
        "colab": {}
      },
      "source": [
        "\n",
        "# Import fastai\n",
        "from fastai.vision import *"
      ],
      "execution_count": 0,
      "outputs": []
    },
    {
      "cell_type": "code",
      "metadata": {
        "id": "id3xbKen8qin",
        "colab_type": "code",
        "colab": {}
      },
      "source": [
        "batch_size = 48\n",
        "size = 224\n",
        "data = ImageDataBunch.from_folder(path=\"./data\", train=\"train\", test=\"test\", \n",
        "                                  valid_pct=0.2, \n",
        "                                  ds_tfms=get_transforms(), size=size, \n",
        "                                  bs=batch_size\n",
        "                                  ).normalize(imagenet_stats)"
      ],
      "execution_count": 0,
      "outputs": []
    },
    {
      "cell_type": "code",
      "metadata": {
        "id": "ntl6uGFKCyEZ",
        "colab_type": "code",
        "outputId": "92768d18-e452-41be-da8b-83414c8a0bac",
        "colab": {
          "base_uri": "https://localhost:8080/",
          "height": 238
        }
      },
      "source": [
        "# Show classes\n",
        "data.classes"
      ],
      "execution_count": 0,
      "outputs": [
        {
          "output_type": "execute_result",
          "data": {
            "text/plain": [
              "['bedroom',\n",
              " 'coast',\n",
              " 'forest',\n",
              " 'highway',\n",
              " 'insidecity',\n",
              " 'kitchen',\n",
              " 'livingroom',\n",
              " 'mountain',\n",
              " 'office',\n",
              " 'opencountry',\n",
              " 'street',\n",
              " 'suburb',\n",
              " 'tallbuilding']"
            ]
          },
          "metadata": {
            "tags": []
          },
          "execution_count": 26
        }
      ]
    },
    {
      "cell_type": "code",
      "metadata": {
        "id": "XuNUXJnbC1Fx",
        "colab_type": "code",
        "outputId": "217bc29f-183f-4e92-88bc-dd9f3b5873e8",
        "colab": {
          "base_uri": "https://localhost:8080/",
          "height": 34
        }
      },
      "source": [
        "\n",
        "print(len(data.classes))"
      ],
      "execution_count": 0,
      "outputs": [
        {
          "output_type": "stream",
          "text": [
            "13\n"
          ],
          "name": "stdout"
        }
      ]
    },
    {
      "cell_type": "code",
      "metadata": {
        "id": "8y5X2M_GC4Kp",
        "colab_type": "code",
        "outputId": "8486b4d2-1807-4c8f-8bbd-91c5577f49b8",
        "colab": {
          "base_uri": "https://localhost:8080/",
          "height": 441
        }
      },
      "source": [
        "# Show samples of data\n",
        "data.show_batch(rows=3, figsize=(7,6))"
      ],
      "execution_count": 0,
      "outputs": [
        {
          "output_type": "display_data",
          "data": {
            "image/png": "[encoded data removed]",
            "text/plain": [
              "<Figure size 504x432 with 9 Axes>"
            ]
          },
          "metadata": {
            "tags": []
          }
        }
      ]
    },
    {
      "cell_type": "code",
      "metadata": {
        "id": "CjIUnk0UDV24",
        "colab_type": "code",
        "outputId": "fd8adf4e-d2f1-4153-b32b-6b4af840faf0",
        "colab": {
          "base_uri": "https://localhost:8080/",
          "height": 83,
          "referenced_widgets": [
            "50ba691e4fe94e44b28571700faa5609",
            "c27f2aea674d4a4bbe8de80e1a953bd9",
            "55856bdfe9774f48b1506270bd41f1b8",
            "cc25949e37ed4598ac5eb58315ccb707",
            "2aa4b1df9e8747e699f00a36e28bcfc4",
            "1fb65b41fb724fa7938f032db3384b52",
            "f373f2b295ec42a78b9ef76ab5fb497d",
            "44002627da2841e589638e718aa2552c"
          ]
        }
      },
      "source": [
        "# Initialize learner\n",
        "learn = cnn_learner(data, models.resnet34, metrics=accuracy)"
      ],
      "execution_count": 0,
      "outputs": [
        {
          "output_type": "stream",
          "text": [
            "Downloading: \"https://download.pytorch.org/models/resnet34-333f7ec4.pth\" to /root/.cache/torch/checkpoints/resnet34-333f7ec4.pth\n"
          ],
          "name": "stderr"
        },
        {
          "output_type": "display_data",
          "data": {
            "application/vnd.jupyter.widget-view+json": {
              "model_id": "50ba691e4fe94e44b28571700faa5609",
              "version_minor": 0,
              "version_major": 2
            },
            "text/plain": [
              "HBox(children=(IntProgress(value=0, max=87306240), HTML(value='')))"
            ]
          },
          "metadata": {
            "tags": []
          }
        },
        {
          "output_type": "stream",
          "text": [
            "\n"
          ],
          "name": "stdout"
        }
      ]
    },
    {
      "cell_type": "code",
      "metadata": {
        "id": "pddZa4Y3C7go",
        "colab_type": "code",
        "colab": {}
      },
      "source": [
        "\n",
        "# Configure learner with new data and freeze conv layers\n",
        "learn.data = data\n",
        "learn.freeze()"
      ],
      "execution_count": 0,
      "outputs": []
    },
    {
      "cell_type": "code",
      "metadata": {
        "id": "dGLTk1m7DnLq",
        "colab_type": "code",
        "outputId": "15c28ff7-7337-467e-cfcd-31b9c4d42eb2",
        "colab": {
          "base_uri": "https://localhost:8080/",
          "height": 405
        }
      },
      "source": [
        "# Find learning rate\n",
        "learn.lr_find()\n",
        "learn.recorder.plot()"
      ],
      "execution_count": 0,
      "outputs": [
        {
          "output_type": "display_data",
          "data": {
            "text/html": [
              "\n",
              "    <div>\n",
              "        <style>\n",
              "            /* Turns off some styling */\n",
              "            progress {\n",
              "                /* gets rid of default border in Firefox and Opera. */\n",
              "                border: none;\n",
              "                /* Needs to be in here for Safari polyfill so background images work as expected. */\n",
              "                background-size: auto;\n",
              "            }\n",
              "            .progress-bar-interrupted, .progress-bar-interrupted::-webkit-progress-bar {\n",
              "                background: #F44336;\n",
              "            }\n",
              "        </style>\n",
              "      <progress value='1' class='' max='3', style='width:300px; height:20px; vertical-align: middle;'></progress>\n",
              "      33.33% [1/3 00:16<00:32]\n",
              "    </div>\n",
              "    \n",
              "<table border=\"1\" class=\"dataframe\">\n",
              "  <thead>\n",
              "    <tr style=\"text-align: left;\">\n",
              "      <th>epoch</th>\n",
              "      <th>train_loss</th>\n",
              "      <th>valid_loss</th>\n",
              "      <th>accuracy</th>\n",
              "      <th>time</th>\n",
              "    </tr>\n",
              "  </thead>\n",
              "  <tbody>\n",
              "    <tr>\n",
              "      <td>0</td>\n",
              "      <td>3.894831</td>\n",
              "      <td>#na#</td>\n",
              "      <td>00:16</td>\n",
              "    </tr>\n",
              "  </tbody>\n",
              "</table><p>\n",
              "\n",
              "    <div>\n",
              "        <style>\n",
              "            /* Turns off some styling */\n",
              "            progress {\n",
              "                /* gets rid of default border in Firefox and Opera. */\n",
              "                border: none;\n",
              "                /* Needs to be in here for Safari polyfill so background images work as expected. */\n",
              "                background-size: auto;\n",
              "            }\n",
              "            .progress-bar-interrupted, .progress-bar-interrupted::-webkit-progress-bar {\n",
              "                background: #F44336;\n",
              "            }\n",
              "        </style>\n",
              "      <progress value='42' class='' max='47', style='width:300px; height:20px; vertical-align: middle;'></progress>\n",
              "      89.36% [42/47 00:14<00:01 8.4368]\n",
              "    </div>\n",
              "    "
            ],
            "text/plain": [
              "<IPython.core.display.HTML object>"
            ]
          },
          "metadata": {
            "tags": []
          }
        },
        {
          "output_type": "stream",
          "text": [
            "LR Finder is complete, type {learner_name}.recorder.plot() to see the graph.\n"
          ],
          "name": "stdout"
        },
        {
          "output_type": "display_data",
          "data": {
            "image/png": "[encoded data removed]",
            "text/plain": [
              "<Figure size 432x288 with 1 Axes>"
            ]
          },
          "metadata": {
            "tags": []
          }
        }
      ]
    },
    {
      "cell_type": "code",
      "metadata": {
        "id": "CJRl4A98DpIY",
        "colab_type": "code",
        "colab": {}
      },
      "source": [
        "\n",
        "# Set learning rate\n",
        "lr = 2e-4"
      ],
      "execution_count": 0,
      "outputs": []
    },
    {
      "cell_type": "code",
      "metadata": {
        "id": "T-r_1FaUDpg5",
        "colab_type": "code",
        "outputId": "be8a0e22-497c-45c6-d310-64f5431f8443",
        "colab": {
          "base_uri": "https://localhost:8080/",
          "height": 204
        }
      },
      "source": [
        "# Train 5 epochs\n",
        "learn.fit_one_cycle(5, max_lr=slice(lr))"
      ],
      "execution_count": 0,
      "outputs": [
        {
          "output_type": "display_data",
          "data": {
            "text/html": [
              "<table border=\"1\" class=\"dataframe\">\n",
              "  <thead>\n",
              "    <tr style=\"text-align: left;\">\n",
              "      <th>epoch</th>\n",
              "      <th>train_loss</th>\n",
              "      <th>valid_loss</th>\n",
              "      <th>accuracy</th>\n",
              "      <th>time</th>\n",
              "    </tr>\n",
              "  </thead>\n",
              "  <tbody>\n",
              "    <tr>\n",
              "      <td>0</td>\n",
              "      <td>3.591195</td>\n",
              "      <td>2.091342</td>\n",
              "      <td>0.303730</td>\n",
              "      <td>00:18</td>\n",
              "    </tr>\n",
              "    <tr>\n",
              "      <td>1</td>\n",
              "      <td>2.371818</td>\n",
              "      <td>0.772107</td>\n",
              "      <td>0.735346</td>\n",
              "      <td>00:18</td>\n",
              "    </tr>\n",
              "    <tr>\n",
              "      <td>2</td>\n",
              "      <td>1.595822</td>\n",
              "      <td>0.549121</td>\n",
              "      <td>0.813499</td>\n",
              "      <td>00:17</td>\n",
              "    </tr>\n",
              "    <tr>\n",
              "      <td>3</td>\n",
              "      <td>1.201182</td>\n",
              "      <td>0.495505</td>\n",
              "      <td>0.829485</td>\n",
              "      <td>00:18</td>\n",
              "    </tr>\n",
              "    <tr>\n",
              "      <td>4</td>\n",
              "      <td>1.044426</td>\n",
              "      <td>0.481929</td>\n",
              "      <td>0.831261</td>\n",
              "      <td>00:18</td>\n",
              "    </tr>\n",
              "  </tbody>\n",
              "</table>"
            ],
            "text/plain": [
              "<IPython.core.display.HTML object>"
            ]
          },
          "metadata": {
            "tags": []
          }
        }
      ]
    },
    {
      "cell_type": "code",
      "metadata": {
        "id": "FHlmgVD4Dpkn",
        "colab_type": "code",
        "colab": {}
      },
      "source": [
        "learn.unfreeze()"
      ],
      "execution_count": 0,
      "outputs": []
    },
    {
      "cell_type": "code",
      "metadata": {
        "id": "RGISWDceDxFa",
        "colab_type": "code",
        "outputId": "14de0cdd-9ed9-44a7-e2fa-a6516d26620f",
        "colab": {
          "base_uri": "https://localhost:8080/",
          "height": 405
        }
      },
      "source": [
        "# Find learning rate\n",
        "learn.lr_find()\n",
        "learn.recorder.plot()"
      ],
      "execution_count": 0,
      "outputs": [
        {
          "output_type": "display_data",
          "data": {
            "text/html": [
              "\n",
              "    <div>\n",
              "        <style>\n",
              "            /* Turns off some styling */\n",
              "            progress {\n",
              "                /* gets rid of default border in Firefox and Opera. */\n",
              "                border: none;\n",
              "                /* Needs to be in here for Safari polyfill so background images work as expected. */\n",
              "                background-size: auto;\n",
              "            }\n",
              "            .progress-bar-interrupted, .progress-bar-interrupted::-webkit-progress-bar {\n",
              "                background: #F44336;\n",
              "            }\n",
              "        </style>\n",
              "      <progress value='1' class='' max='3', style='width:300px; height:20px; vertical-align: middle;'></progress>\n",
              "      33.33% [1/3 00:16<00:33]\n",
              "    </div>\n",
              "    \n",
              "<table border=\"1\" class=\"dataframe\">\n",
              "  <thead>\n",
              "    <tr style=\"text-align: left;\">\n",
              "      <th>epoch</th>\n",
              "      <th>train_loss</th>\n",
              "      <th>valid_loss</th>\n",
              "      <th>accuracy</th>\n",
              "      <th>time</th>\n",
              "    </tr>\n",
              "  </thead>\n",
              "  <tbody>\n",
              "    <tr>\n",
              "      <td>0</td>\n",
              "      <td>0.817106</td>\n",
              "      <td>#na#</td>\n",
              "      <td>00:16</td>\n",
              "    </tr>\n",
              "  </tbody>\n",
              "</table><p>\n",
              "\n",
              "    <div>\n",
              "        <style>\n",
              "            /* Turns off some styling */\n",
              "            progress {\n",
              "                /* gets rid of default border in Firefox and Opera. */\n",
              "                border: none;\n",
              "                /* Needs to be in here for Safari polyfill so background images work as expected. */\n",
              "                background-size: auto;\n",
              "            }\n",
              "            .progress-bar-interrupted, .progress-bar-interrupted::-webkit-progress-bar {\n",
              "                background: #F44336;\n",
              "            }\n",
              "        </style>\n",
              "      <progress value='35' class='' max='47', style='width:300px; height:20px; vertical-align: middle;'></progress>\n",
              "      74.47% [35/47 00:12<00:04 3.0037]\n",
              "    </div>\n",
              "    "
            ],
            "text/plain": [
              "<IPython.core.display.HTML object>"
            ]
          },
          "metadata": {
            "tags": []
          }
        },
        {
          "output_type": "stream",
          "text": [
            "LR Finder is complete, type {learner_name}.recorder.plot() to see the graph.\n"
          ],
          "name": "stdout"
        },
        {
          "output_type": "display_data",
          "data": {
            "image/png": "[encoded data removed]",
            "text/plain": [
              "<Figure size 432x288 with 1 Axes>"
            ]
          },
          "metadata": {
            "tags": []
          }
        }
      ]
    },
    {
      "cell_type": "code",
      "metadata": {
        "id": "mvZLfOyZDxIq",
        "colab_type": "code",
        "colab": {}
      },
      "source": [
        "\n",
        "# Set learning rate\n",
        "lr = 2e-6"
      ],
      "execution_count": 0,
      "outputs": []
    },
    {
      "cell_type": "code",
      "metadata": {
        "id": "DP7w0CSIDxLq",
        "colab_type": "code",
        "outputId": "287b14d2-c976-4857-cf1e-37cbe642da9e",
        "colab": {
          "base_uri": "https://localhost:8080/",
          "height": 266
        }
      },
      "source": [
        "# Train 7 epochs\n",
        "learn.fit_one_cycle(7, max_lr=slice(lr/100,lr))"
      ],
      "execution_count": 0,
      "outputs": [
        {
          "output_type": "display_data",
          "data": {
            "text/html": [
              "<table border=\"1\" class=\"dataframe\">\n",
              "  <thead>\n",
              "    <tr style=\"text-align: left;\">\n",
              "      <th>epoch</th>\n",
              "      <th>train_loss</th>\n",
              "      <th>valid_loss</th>\n",
              "      <th>accuracy</th>\n",
              "      <th>time</th>\n",
              "    </tr>\n",
              "  </thead>\n",
              "  <tbody>\n",
              "    <tr>\n",
              "      <td>0</td>\n",
              "      <td>0.919500</td>\n",
              "      <td>0.483256</td>\n",
              "      <td>0.827709</td>\n",
              "      <td>00:19</td>\n",
              "    </tr>\n",
              "    <tr>\n",
              "      <td>1</td>\n",
              "      <td>0.919445</td>\n",
              "      <td>0.481394</td>\n",
              "      <td>0.838366</td>\n",
              "      <td>00:18</td>\n",
              "    </tr>\n",
              "    <tr>\n",
              "      <td>2</td>\n",
              "      <td>0.886047</td>\n",
              "      <td>0.479507</td>\n",
              "      <td>0.838366</td>\n",
              "      <td>00:18</td>\n",
              "    </tr>\n",
              "    <tr>\n",
              "      <td>3</td>\n",
              "      <td>0.933171</td>\n",
              "      <td>0.478373</td>\n",
              "      <td>0.829485</td>\n",
              "      <td>00:19</td>\n",
              "    </tr>\n",
              "    <tr>\n",
              "      <td>4</td>\n",
              "      <td>0.882854</td>\n",
              "      <td>0.475222</td>\n",
              "      <td>0.838366</td>\n",
              "      <td>00:18</td>\n",
              "    </tr>\n",
              "    <tr>\n",
              "      <td>5</td>\n",
              "      <td>0.868028</td>\n",
              "      <td>0.471696</td>\n",
              "      <td>0.838366</td>\n",
              "      <td>00:18</td>\n",
              "    </tr>\n",
              "    <tr>\n",
              "      <td>6</td>\n",
              "      <td>0.882950</td>\n",
              "      <td>0.469339</td>\n",
              "      <td>0.838366</td>\n",
              "      <td>00:19</td>\n",
              "    </tr>\n",
              "  </tbody>\n",
              "</table>"
            ],
            "text/plain": [
              "<IPython.core.display.HTML object>"
            ]
          },
          "metadata": {
            "tags": []
          }
        }
      ]
    },
    {
      "cell_type": "code",
      "metadata": {
        "id": "wqhjzRLhD3zO",
        "colab_type": "code",
        "outputId": "417992f7-6e6e-4c1c-f62c-c144b9a3a77e",
        "colab": {
          "base_uri": "https://localhost:8080/",
          "height": 83,
          "referenced_widgets": [
            "5b924c5d174946b38c1b979cd00fa5b5",
            "5371f1eae1044396bd7ed9c546ce7106",
            "de3f481a71c64410bd77a96e42a29fac",
            "2c20d80fdded43f9b2ef578f7e82b0d9",
            "f56842b0b1c345a2ba470d9a2eeccd11",
            "a8cd0b7f884b4f1d83a441def0a17f8c",
            "2af6402a8092425cabe4530d8e90b94f",
            "237fcde6b97d46549b7d3fbd825c06b7"
          ]
        }
      },
      "source": [
        "#other model with NEW LEARNER\n",
        "learn = cnn_learner(data, models.resnet18, metrics=accuracy)"
      ],
      "execution_count": 0,
      "outputs": [
        {
          "output_type": "stream",
          "text": [
            "Downloading: \"https://download.pytorch.org/models/resnet18-5c106cde.pth\" to /root/.cache/torch/checkpoints/resnet18-5c106cde.pth\n"
          ],
          "name": "stderr"
        },
        {
          "output_type": "display_data",
          "data": {
            "application/vnd.jupyter.widget-view+json": {
              "model_id": "5b924c5d174946b38c1b979cd00fa5b5",
              "version_minor": 0,
              "version_major": 2
            },
            "text/plain": [
              "HBox(children=(IntProgress(value=0, max=46827520), HTML(value='')))"
            ]
          },
          "metadata": {
            "tags": []
          }
        },
        {
          "output_type": "stream",
          "text": [
            "\n"
          ],
          "name": "stdout"
        }
      ]
    },
    {
      "cell_type": "code",
      "metadata": {
        "id": "uo_xkfcPD31-",
        "colab_type": "code",
        "colab": {}
      },
      "source": [
        "\n",
        "# Configure learner with new data and freeze conv layers\n",
        "learn.data = data\n",
        "learn.freeze()"
      ],
      "execution_count": 0,
      "outputs": []
    },
    {
      "cell_type": "code",
      "metadata": {
        "id": "nibs_iakF2EW",
        "colab_type": "code",
        "outputId": "cc9c1840-a715-4831-ba55-e298c8e8bd33",
        "colab": {
          "base_uri": "https://localhost:8080/",
          "height": 405
        }
      },
      "source": [
        "# Find learning rate\n",
        "learn.lr_find()\n",
        "learn.recorder.plot()"
      ],
      "execution_count": 0,
      "outputs": [
        {
          "output_type": "display_data",
          "data": {
            "text/html": [
              "\n",
              "    <div>\n",
              "        <style>\n",
              "            /* Turns off some styling */\n",
              "            progress {\n",
              "                /* gets rid of default border in Firefox and Opera. */\n",
              "                border: none;\n",
              "                /* Needs to be in here for Safari polyfill so background images work as expected. */\n",
              "                background-size: auto;\n",
              "            }\n",
              "            .progress-bar-interrupted, .progress-bar-interrupted::-webkit-progress-bar {\n",
              "                background: #F44336;\n",
              "            }\n",
              "        </style>\n",
              "      <progress value='1' class='' max='3', style='width:300px; height:20px; vertical-align: middle;'></progress>\n",
              "      33.33% [1/3 00:15<00:31]\n",
              "    </div>\n",
              "    \n",
              "<table border=\"1\" class=\"dataframe\">\n",
              "  <thead>\n",
              "    <tr style=\"text-align: left;\">\n",
              "      <th>epoch</th>\n",
              "      <th>train_loss</th>\n",
              "      <th>valid_loss</th>\n",
              "      <th>accuracy</th>\n",
              "      <th>time</th>\n",
              "    </tr>\n",
              "  </thead>\n",
              "  <tbody>\n",
              "    <tr>\n",
              "      <td>0</td>\n",
              "      <td>3.864788</td>\n",
              "      <td>#na#</td>\n",
              "      <td>00:15</td>\n",
              "    </tr>\n",
              "  </tbody>\n",
              "</table><p>\n",
              "\n",
              "    <div>\n",
              "        <style>\n",
              "            /* Turns off some styling */\n",
              "            progress {\n",
              "                /* gets rid of default border in Firefox and Opera. */\n",
              "                border: none;\n",
              "                /* Needs to be in here for Safari polyfill so background images work as expected. */\n",
              "                background-size: auto;\n",
              "            }\n",
              "            .progress-bar-interrupted, .progress-bar-interrupted::-webkit-progress-bar {\n",
              "                background: #F44336;\n",
              "            }\n",
              "        </style>\n",
              "      <progress value='42' class='' max='47', style='width:300px; height:20px; vertical-align: middle;'></progress>\n",
              "      89.36% [42/47 00:14<00:01 7.2800]\n",
              "    </div>\n",
              "    "
            ],
            "text/plain": [
              "<IPython.core.display.HTML object>"
            ]
          },
          "metadata": {
            "tags": []
          }
        },
        {
          "output_type": "stream",
          "text": [
            "LR Finder is complete, type {learner_name}.recorder.plot() to see the graph.\n"
          ],
          "name": "stdout"
        },
        {
          "output_type": "display_data",
          "data": {
            "image/png": "[encoded data removed]",
            "text/plain": [
              "<Figure size 432x288 with 1 Axes>"
            ]
          },
          "metadata": {
            "tags": []
          }
        }
      ]
    },
    {
      "cell_type": "code",
      "metadata": {
        "id": "SvXcyHSGF_KT",
        "colab_type": "code",
        "colab": {}
      },
      "source": [
        "# Set learning rate\n",
        "lr = 2e-7"
      ],
      "execution_count": 0,
      "outputs": []
    },
    {
      "cell_type": "code",
      "metadata": {
        "id": "XiZNaeoaF_NW",
        "colab_type": "code",
        "outputId": "48ed7fe6-fab0-4bcd-920e-a8ac815a73f4",
        "colab": {
          "base_uri": "https://localhost:8080/",
          "height": 297
        }
      },
      "source": [
        "# Train 8 epochs\n",
        "learn.fit_one_cycle(8, max_lr=slice(1e-3, 1e-2))"
      ],
      "execution_count": 0,
      "outputs": [
        {
          "output_type": "display_data",
          "data": {
            "text/html": [
              "<table border=\"1\" class=\"dataframe\">\n",
              "  <thead>\n",
              "    <tr style=\"text-align: left;\">\n",
              "      <th>epoch</th>\n",
              "      <th>train_loss</th>\n",
              "      <th>valid_loss</th>\n",
              "      <th>accuracy</th>\n",
              "      <th>time</th>\n",
              "    </tr>\n",
              "  </thead>\n",
              "  <tbody>\n",
              "    <tr>\n",
              "      <td>0</td>\n",
              "      <td>0.620023</td>\n",
              "      <td>0.379954</td>\n",
              "      <td>0.875666</td>\n",
              "      <td>00:17</td>\n",
              "    </tr>\n",
              "    <tr>\n",
              "      <td>1</td>\n",
              "      <td>0.594692</td>\n",
              "      <td>0.465373</td>\n",
              "      <td>0.868561</td>\n",
              "      <td>00:18</td>\n",
              "    </tr>\n",
              "    <tr>\n",
              "      <td>2</td>\n",
              "      <td>0.640067</td>\n",
              "      <td>0.488334</td>\n",
              "      <td>0.870337</td>\n",
              "      <td>00:17</td>\n",
              "    </tr>\n",
              "    <tr>\n",
              "      <td>3</td>\n",
              "      <td>0.548728</td>\n",
              "      <td>0.323612</td>\n",
              "      <td>0.916519</td>\n",
              "      <td>00:17</td>\n",
              "    </tr>\n",
              "    <tr>\n",
              "      <td>4</td>\n",
              "      <td>0.447811</td>\n",
              "      <td>0.300881</td>\n",
              "      <td>0.921847</td>\n",
              "      <td>00:17</td>\n",
              "    </tr>\n",
              "    <tr>\n",
              "      <td>5</td>\n",
              "      <td>0.321546</td>\n",
              "      <td>0.251219</td>\n",
              "      <td>0.930728</td>\n",
              "      <td>00:17</td>\n",
              "    </tr>\n",
              "    <tr>\n",
              "      <td>6</td>\n",
              "      <td>0.241559</td>\n",
              "      <td>0.257478</td>\n",
              "      <td>0.930728</td>\n",
              "      <td>00:17</td>\n",
              "    </tr>\n",
              "    <tr>\n",
              "      <td>7</td>\n",
              "      <td>0.189331</td>\n",
              "      <td>0.250617</td>\n",
              "      <td>0.936057</td>\n",
              "      <td>00:17</td>\n",
              "    </tr>\n",
              "  </tbody>\n",
              "</table>"
            ],
            "text/plain": [
              "<IPython.core.display.HTML object>"
            ]
          },
          "metadata": {
            "tags": []
          }
        }
      ]
    },
    {
      "cell_type": "code",
      "metadata": {
        "id": "Y_5NXn3QHtm0",
        "colab_type": "code",
        "outputId": "136e7566-9508-4a98-b957-5a2e222221ac",
        "colab": {
          "base_uri": "https://localhost:8080/",
          "height": 1000
        }
      },
      "source": [
        "learner = create_cnn(data, models.resnet18, metrics=[accuracy], callback_fns=ShowGraph)\n",
        "interpreter = ClassificationInterpretation.from_learner(learner)\n",
        "interpreter.most_confused(min_val=2)"
      ],
      "execution_count": 0,
      "outputs": [
        {
          "output_type": "stream",
          "text": [
            "/usr/local/lib/python3.6/dist-packages/fastai/vision/learner.py:106: UserWarning: `create_cnn` is deprecated and is now named `cnn_learner`.\n",
            "  warn(\"`create_cnn` is deprecated and is now named `cnn_learner`.\")\n"
          ],
          "name": "stderr"
        },
        {
          "output_type": "display_data",
          "data": {
            "text/html": [
              ""
            ],
            "text/plain": [
              "<IPython.core.display.HTML object>"
            ]
          },
          "metadata": {
            "tags": []
          }
        },
        {
          "output_type": "stream",
          "text": [
            "Exception ignored in: <bound method _MultiProcessingDataLoaderIter.__del__ of <torch.utils.data.dataloader._MultiProcessingDataLoaderIter object at 0x7f19e5989a58>>\n",
            "Traceback (most recent call last):\n",
            "  File \"/usr/local/lib/python3.6/dist-packages/torch/utils/data/dataloader.py\", line 961, in __del__\n",
            "    self._shutdown_workers()\n",
            "  File \"/usr/local/lib/python3.6/dist-packages/torch/utils/data/dataloader.py\", line 941, in _shutdown_workers\n",
            "    w.join()\n",
            "  File \"/usr/lib/python3.6/multiprocessing/process.py\", line 122, in join\n",
            "    assert self._parent_pid == os.getpid(), 'can only join a child process'\n",
            "AssertionError: can only join a child process\n",
            "Exception ignored in: <bound method _MultiProcessingDataLoaderIter.__del__ of <torch.utils.data.dataloader._MultiProcessingDataLoaderIter object at 0x7f19e5989a58>>\n",
            "Traceback (most recent call last):\n",
            "  File \"/usr/local/lib/python3.6/dist-packages/torch/utils/data/dataloader.py\", line 961, in __del__\n",
            "    self._shutdown_workers()\n",
            "  File \"/usr/local/lib/python3.6/dist-packages/torch/utils/data/dataloader.py\", line 941, in _shutdown_workers\n",
            "    w.join()\n",
            "  File \"/usr/lib/python3.6/multiprocessing/process.py\", line 122, in join\n",
            "    assert self._parent_pid == os.getpid(), 'can only join a child process'\n",
            "AssertionError: can only join a child process\n"
          ],
          "name": "stderr"
        },
        {
          "output_type": "execute_result",
          "data": {
            "text/plain": [
              "[('opencountry', 'forest', 68),\n",
              " ('mountain', 'forest', 47),\n",
              " ('coast', 'forest', 36),\n",
              " ('livingroom', 'forest', 23),\n",
              " ('tallbuilding', 'livingroom', 21),\n",
              " ('tallbuilding', 'forest', 20),\n",
              " ('suburb', 'forest', 19),\n",
              " ('kitchen', 'forest', 16),\n",
              " ('street', 'coast', 16),\n",
              " ('highway', 'coast', 15),\n",
              " ('highway', 'forest', 15),\n",
              " ('tallbuilding', 'coast', 14),\n",
              " ('bedroom', 'forest', 13),\n",
              " ('street', 'forest', 13),\n",
              " ('insidecity', 'forest', 12),\n",
              " ('office', 'forest', 11),\n",
              " ('insidecity', 'tallbuilding', 10),\n",
              " ('mountain', 'coast', 8),\n",
              " ('insidecity', 'livingroom', 7),\n",
              " ('kitchen', 'tallbuilding', 7),\n",
              " ('office', 'livingroom', 7),\n",
              " ('office', 'tallbuilding', 7),\n",
              " ('street', 'livingroom', 7),\n",
              " ('bedroom', 'coast', 6),\n",
              " ('forest', 'coast', 6),\n",
              " ('livingroom', 'coast', 6),\n",
              " ('office', 'coast', 6),\n",
              " ('coast', 'office', 5),\n",
              " ('coast', 'tallbuilding', 5),\n",
              " ('highway', 'livingroom', 5),\n",
              " ('insidecity', 'coast', 5),\n",
              " ('kitchen', 'coast', 5),\n",
              " ('opencountry', 'coast', 5),\n",
              " ('suburb', 'livingroom', 5),\n",
              " ('mountain', 'office', 4),\n",
              " ('suburb', 'coast', 4),\n",
              " ('bedroom', 'tallbuilding', 3),\n",
              " ('coast', 'insidecity', 3),\n",
              " ('forest', 'livingroom', 3),\n",
              " ('forest', 'office', 3),\n",
              " ('kitchen', 'livingroom', 3),\n",
              " ('opencountry', 'insidecity', 3),\n",
              " ('bedroom', 'livingroom', 2),\n",
              " ('forest', 'tallbuilding', 2),\n",
              " ('highway', 'tallbuilding', 2),\n",
              " ('kitchen', 'office', 2),\n",
              " ('kitchen', 'suburb', 2),\n",
              " ('street', 'office', 2),\n",
              " ('street', 'tallbuilding', 2),\n",
              " ('tallbuilding', 'office', 2)]"
            ]
          },
          "metadata": {
            "tags": []
          },
          "execution_count": 55
        }
      ]
    },
    {
      "cell_type": "code",
      "metadata": {
        "id": "buWbczh3F_Qk",
        "colab_type": "code",
        "colab": {}
      },
      "source": [
        "learn.unfreeze()"
      ],
      "execution_count": 0,
      "outputs": []
    },
    {
      "cell_type": "code",
      "metadata": {
        "id": "4js2CLHDH0-Q",
        "colab_type": "code",
        "outputId": "57cc2722-1bcd-4c79-e270-cb9ed9095f75",
        "colab": {
          "base_uri": "https://localhost:8080/",
          "height": 1000
        }
      },
      "source": [
        "# Find learning rate\n",
        "learn.lr_find()\n",
        "learn.recorder.plot()"
      ],
      "execution_count": 0,
      "outputs": [
        {
          "output_type": "display_data",
          "data": {
            "text/html": [
              "\n",
              "    <div>\n",
              "        <style>\n",
              "            /* Turns off some styling */\n",
              "            progress {\n",
              "                /* gets rid of default border in Firefox and Opera. */\n",
              "                border: none;\n",
              "                /* Needs to be in here for Safari polyfill so background images work as expected. */\n",
              "                background-size: auto;\n",
              "            }\n",
              "            .progress-bar-interrupted, .progress-bar-interrupted::-webkit-progress-bar {\n",
              "                background: #F44336;\n",
              "            }\n",
              "        </style>\n",
              "      <progress value='1' class='' max='3', style='width:300px; height:20px; vertical-align: middle;'></progress>\n",
              "      33.33% [1/3 00:16<00:32]\n",
              "    </div>\n",
              "    \n",
              "<table border=\"1\" class=\"dataframe\">\n",
              "  <thead>\n",
              "    <tr style=\"text-align: left;\">\n",
              "      <th>epoch</th>\n",
              "      <th>train_loss</th>\n",
              "      <th>valid_loss</th>\n",
              "      <th>accuracy</th>\n",
              "      <th>time</th>\n",
              "    </tr>\n",
              "  </thead>\n",
              "  <tbody>\n",
              "    <tr>\n",
              "      <td>0</td>\n",
              "      <td>0.179259</td>\n",
              "      <td>#na#</td>\n",
              "      <td>00:16</td>\n",
              "    </tr>\n",
              "  </tbody>\n",
              "</table><p>\n",
              "\n",
              "    <div>\n",
              "        <style>\n",
              "            /* Turns off some styling */\n",
              "            progress {\n",
              "                /* gets rid of default border in Firefox and Opera. */\n",
              "                border: none;\n",
              "                /* Needs to be in here for Safari polyfill so background images work as expected. */\n",
              "                background-size: auto;\n",
              "            }\n",
              "            .progress-bar-interrupted, .progress-bar-interrupted::-webkit-progress-bar {\n",
              "                background: #F44336;\n",
              "            }\n",
              "        </style>\n",
              "      <progress value='11' class='' max='47', style='width:300px; height:20px; vertical-align: middle;'></progress>\n",
              "      23.40% [11/47 00:04<00:13 0.4241]\n",
              "    </div>\n",
              "    "
            ],
            "text/plain": [
              "<IPython.core.display.HTML object>"
            ]
          },
          "metadata": {
            "tags": []
          }
        },
        {
          "output_type": "stream",
          "text": [
            "Exception ignored in: <bound method _MultiProcessingDataLoaderIter.__del__ of <torch.utils.data.dataloader._MultiProcessingDataLoaderIter object at 0x7f19e5989a58>>\n",
            "Exception ignored in: <bound method _MultiProcessingDataLoaderIter.__del__ of <torch.utils.data.dataloader._MultiProcessingDataLoaderIter object at 0x7f19e5989a58>>\n",
            "Traceback (most recent call last):\n",
            "Traceback (most recent call last):\n",
            "  File \"/usr/local/lib/python3.6/dist-packages/torch/utils/data/dataloader.py\", line 961, in __del__\n",
            "    self._shutdown_workers()\n",
            "  File \"/usr/local/lib/python3.6/dist-packages/torch/utils/data/dataloader.py\", line 941, in _shutdown_workers\n",
            "  File \"/usr/local/lib/python3.6/dist-packages/torch/utils/data/dataloader.py\", line 961, in __del__\n",
            "    w.join()\n",
            "  File \"/usr/lib/python3.6/multiprocessing/process.py\", line 122, in join\n",
            "    assert self._parent_pid == os.getpid(), 'can only join a child process'\n",
            "    self._shutdown_workers()\n",
            "  File \"/usr/local/lib/python3.6/dist-packages/torch/utils/data/dataloader.py\", line 941, in _shutdown_workers\n",
            "AssertionError: can only join a child process\n",
            "    w.join()\n",
            "  File \"/usr/lib/python3.6/multiprocessing/process.py\", line 122, in join\n",
            "    assert self._parent_pid == os.getpid(), 'can only join a child process'\n",
            "AssertionError: can only join a child process\n",
            "Exception ignored in: <bound method _MultiProcessingDataLoaderIter.__del__ of <torch.utils.data.dataloader._MultiProcessingDataLoaderIter object at 0x7f19e5989a58>>\n",
            "Traceback (most recent call last):\n",
            "  File \"/usr/local/lib/python3.6/dist-packages/torch/utils/data/dataloader.py\", line 961, in __del__\n",
            "    self._shutdown_workers()\n",
            "  File \"/usr/local/lib/python3.6/dist-packages/torch/utils/data/dataloader.py\", line 941, in _shutdown_workers\n",
            "    w.join()\n",
            "  File \"/usr/lib/python3.6/multiprocessing/process.py\", line 122, in join\n",
            "    assert self._parent_pid == os.getpid(), 'can only join a child process'\n",
            "Exception ignored in: <bound method _MultiProcessingDataLoaderIter.__del__ of <torch.utils.data.dataloader._MultiProcessingDataLoaderIter object at 0x7f19e5989a58>>\n",
            "AssertionError: can only join a child process\n",
            "Traceback (most recent call last):\n",
            "  File \"/usr/local/lib/python3.6/dist-packages/torch/utils/data/dataloader.py\", line 961, in __del__\n",
            "    self._shutdown_workers()\n",
            "  File \"/usr/local/lib/python3.6/dist-packages/torch/utils/data/dataloader.py\", line 941, in _shutdown_workers\n",
            "    w.join()\n",
            "  File \"/usr/lib/python3.6/multiprocessing/process.py\", line 122, in join\n",
            "    assert self._parent_pid == os.getpid(), 'can only join a child process'\n",
            "AssertionError: can only join a child process\n"
          ],
          "name": "stderr"
        },
        {
          "output_type": "stream",
          "text": [
            "LR Finder is complete, type {learner_name}.recorder.plot() to see the graph.\n"
          ],
          "name": "stdout"
        },
        {
          "output_type": "display_data",
          "data": {
            "image/png": "[encoded data removed]",
            "text/plain": [
              "<Figure size 432x288 with 1 Axes>"
            ]
          },
          "metadata": {
            "tags": []
          }
        }
      ]
    },
    {
      "cell_type": "code",
      "metadata": {
        "id": "F-hum70WH1yt",
        "colab_type": "code",
        "outputId": "c480e9bf-a921-409f-bf06-a9a2faf1301d",
        "colab": {
          "base_uri": "https://localhost:8080/",
          "height": 421
        }
      },
      "source": [
        "# Train 12 epochs\n",
        "learn.fit_one_cycle(12, max_lr=slice(1e-4, 1e-3))"
      ],
      "execution_count": 0,
      "outputs": [
        {
          "output_type": "display_data",
          "data": {
            "text/html": [
              "<table border=\"1\" class=\"dataframe\">\n",
              "  <thead>\n",
              "    <tr style=\"text-align: left;\">\n",
              "      <th>epoch</th>\n",
              "      <th>train_loss</th>\n",
              "      <th>valid_loss</th>\n",
              "      <th>accuracy</th>\n",
              "      <th>time</th>\n",
              "    </tr>\n",
              "  </thead>\n",
              "  <tbody>\n",
              "    <tr>\n",
              "      <td>0</td>\n",
              "      <td>0.163186</td>\n",
              "      <td>0.249555</td>\n",
              "      <td>0.927176</td>\n",
              "      <td>00:18</td>\n",
              "    </tr>\n",
              "    <tr>\n",
              "      <td>1</td>\n",
              "      <td>0.178596</td>\n",
              "      <td>0.386774</td>\n",
              "      <td>0.911190</td>\n",
              "      <td>00:19</td>\n",
              "    </tr>\n",
              "    <tr>\n",
              "      <td>2</td>\n",
              "      <td>0.288761</td>\n",
              "      <td>0.433079</td>\n",
              "      <td>0.895204</td>\n",
              "      <td>00:19</td>\n",
              "    </tr>\n",
              "    <tr>\n",
              "      <td>3</td>\n",
              "      <td>0.313168</td>\n",
              "      <td>0.548434</td>\n",
              "      <td>0.877442</td>\n",
              "      <td>00:18</td>\n",
              "    </tr>\n",
              "    <tr>\n",
              "      <td>4</td>\n",
              "      <td>0.241059</td>\n",
              "      <td>0.329890</td>\n",
              "      <td>0.923623</td>\n",
              "      <td>00:18</td>\n",
              "    </tr>\n",
              "    <tr>\n",
              "      <td>5</td>\n",
              "      <td>0.198882</td>\n",
              "      <td>0.420067</td>\n",
              "      <td>0.888099</td>\n",
              "      <td>00:18</td>\n",
              "    </tr>\n",
              "    <tr>\n",
              "      <td>6</td>\n",
              "      <td>0.154577</td>\n",
              "      <td>0.317282</td>\n",
              "      <td>0.920071</td>\n",
              "      <td>00:18</td>\n",
              "    </tr>\n",
              "    <tr>\n",
              "      <td>7</td>\n",
              "      <td>0.106093</td>\n",
              "      <td>0.301619</td>\n",
              "      <td>0.923623</td>\n",
              "      <td>00:18</td>\n",
              "    </tr>\n",
              "    <tr>\n",
              "      <td>8</td>\n",
              "      <td>0.070906</td>\n",
              "      <td>0.287690</td>\n",
              "      <td>0.937833</td>\n",
              "      <td>00:18</td>\n",
              "    </tr>\n",
              "    <tr>\n",
              "      <td>9</td>\n",
              "      <td>0.053247</td>\n",
              "      <td>0.271714</td>\n",
              "      <td>0.939609</td>\n",
              "      <td>00:18</td>\n",
              "    </tr>\n",
              "    <tr>\n",
              "      <td>10</td>\n",
              "      <td>0.040228</td>\n",
              "      <td>0.264711</td>\n",
              "      <td>0.941385</td>\n",
              "      <td>00:18</td>\n",
              "    </tr>\n",
              "    <tr>\n",
              "      <td>11</td>\n",
              "      <td>0.034376</td>\n",
              "      <td>0.260638</td>\n",
              "      <td>0.946714</td>\n",
              "      <td>00:18</td>\n",
              "    </tr>\n",
              "  </tbody>\n",
              "</table>"
            ],
            "text/plain": [
              "<IPython.core.display.HTML object>"
            ]
          },
          "metadata": {
            "tags": []
          }
        }
      ]
    },
    {
      "cell_type": "code",
      "metadata": {
        "id": "vLIpfC17J5bA",
        "colab_type": "code",
        "colab": {}
      },
      "source": [
        "learn.save('stage-resnet18')"
      ],
      "execution_count": 0,
      "outputs": []
    },
    {
      "cell_type": "code",
      "metadata": {
        "id": "HAFtpymQJ-Pc",
        "colab_type": "code",
        "colab": {}
      },
      "source": [
        ""
      ],
      "execution_count": 0,
      "outputs": []
    },
    {
      "cell_type": "code",
      "metadata": {
        "id": "aDmkrCerJ-U4",
        "colab_type": "code",
        "outputId": "a6d4614d-751e-425f-ea61-45898be378a4",
        "colab": {
          "base_uri": "https://localhost:8080/",
          "height": 83,
          "referenced_widgets": [
            "bb38c36872594be1b19a18e85d6e492f",
            "167b3915d95d47599071fbc492af3128",
            "bc122c120e314bce960b4954fe5568da",
            "4ecf53b1e99f4aabbbeb962ecf064350",
            "eb455239ef6848279bc35523be24e847",
            "19516b81ee74463b96494d80f653de58",
            "c75a291471b043a19e444504550dbb0b",
            "8ac737257e594dffade2916877c381f1"
          ]
        }
      },
      "source": [
        "#new learner\n",
        "# Initialize learner\n",
        "learn = cnn_learner(data, models.resnet50, metrics=accuracy)"
      ],
      "execution_count": 0,
      "outputs": [
        {
          "output_type": "stream",
          "text": [
            "Downloading: \"https://download.pytorch.org/models/resnet50-19c8e357.pth\" to /root/.cache/torch/checkpoints/resnet50-19c8e357.pth\n"
          ],
          "name": "stderr"
        },
        {
          "output_type": "display_data",
          "data": {
            "application/vnd.jupyter.widget-view+json": {
              "model_id": "bb38c36872594be1b19a18e85d6e492f",
              "version_minor": 0,
              "version_major": 2
            },
            "text/plain": [
              "HBox(children=(IntProgress(value=0, max=102502400), HTML(value='')))"
            ]
          },
          "metadata": {
            "tags": []
          }
        },
        {
          "output_type": "stream",
          "text": [
            "\n"
          ],
          "name": "stdout"
        }
      ]
    },
    {
      "cell_type": "code",
      "metadata": {
        "id": "Th8OVXCPJ-YZ",
        "colab_type": "code",
        "colab": {}
      },
      "source": [
        "# Configure learner with new data and freeze conv layers\n",
        "learn.data = data\n",
        "learn.freeze()"
      ],
      "execution_count": 0,
      "outputs": []
    },
    {
      "cell_type": "code",
      "metadata": {
        "id": "9syxXuL6J-ba",
        "colab_type": "code",
        "outputId": "7f92f513-87f6-431a-f732-d56011c897ad",
        "colab": {
          "base_uri": "https://localhost:8080/",
          "height": 405
        }
      },
      "source": [
        "# Find learning rate\n",
        "learn.lr_find()\n",
        "learn.recorder.plot()"
      ],
      "execution_count": 0,
      "outputs": [
        {
          "output_type": "display_data",
          "data": {
            "text/html": [
              "\n",
              "    <div>\n",
              "        <style>\n",
              "            /* Turns off some styling */\n",
              "            progress {\n",
              "                /* gets rid of default border in Firefox and Opera. */\n",
              "                border: none;\n",
              "                /* Needs to be in here for Safari polyfill so background images work as expected. */\n",
              "                background-size: auto;\n",
              "            }\n",
              "            .progress-bar-interrupted, .progress-bar-interrupted::-webkit-progress-bar {\n",
              "                background: #F44336;\n",
              "            }\n",
              "        </style>\n",
              "      <progress value='1' class='' max='3', style='width:300px; height:20px; vertical-align: middle;'></progress>\n",
              "      33.33% [1/3 00:18<00:36]\n",
              "    </div>\n",
              "    \n",
              "<table border=\"1\" class=\"dataframe\">\n",
              "  <thead>\n",
              "    <tr style=\"text-align: left;\">\n",
              "      <th>epoch</th>\n",
              "      <th>train_loss</th>\n",
              "      <th>valid_loss</th>\n",
              "      <th>accuracy</th>\n",
              "      <th>time</th>\n",
              "    </tr>\n",
              "  </thead>\n",
              "  <tbody>\n",
              "    <tr>\n",
              "      <td>0</td>\n",
              "      <td>3.560917</td>\n",
              "      <td>#na#</td>\n",
              "      <td>00:18</td>\n",
              "    </tr>\n",
              "  </tbody>\n",
              "</table><p>\n",
              "\n",
              "    <div>\n",
              "        <style>\n",
              "            /* Turns off some styling */\n",
              "            progress {\n",
              "                /* gets rid of default border in Firefox and Opera. */\n",
              "                border: none;\n",
              "                /* Needs to be in here for Safari polyfill so background images work as expected. */\n",
              "                background-size: auto;\n",
              "            }\n",
              "            .progress-bar-interrupted, .progress-bar-interrupted::-webkit-progress-bar {\n",
              "                background: #F44336;\n",
              "            }\n",
              "        </style>\n",
              "      <progress value='41' class='' max='47', style='width:300px; height:20px; vertical-align: middle;'></progress>\n",
              "      87.23% [41/47 00:14<00:02 7.2639]\n",
              "    </div>\n",
              "    "
            ],
            "text/plain": [
              "<IPython.core.display.HTML object>"
            ]
          },
          "metadata": {
            "tags": []
          }
        },
        {
          "output_type": "stream",
          "text": [
            "LR Finder is complete, type {learner_name}.recorder.plot() to see the graph.\n"
          ],
          "name": "stdout"
        },
        {
          "output_type": "display_data",
          "data": {
            "image/png": "[encoded data removed]",
            "text/plain": [
              "<Figure size 432x288 with 1 Axes>"
            ]
          },
          "metadata": {
            "tags": []
          }
        }
      ]
    },
    {
      "cell_type": "code",
      "metadata": {
        "id": "Can1JqY-KZbs",
        "colab_type": "code",
        "outputId": "46a49ffe-811a-4dc2-c25d-aab0b2124667",
        "colab": {
          "base_uri": "https://localhost:8080/",
          "height": 297
        }
      },
      "source": [
        "# Train 8 epochs\n",
        "learn.fit_one_cycle(8, max_lr=slice(1e-4, 1e-3))"
      ],
      "execution_count": 0,
      "outputs": [
        {
          "output_type": "display_data",
          "data": {
            "text/html": [
              "<table border=\"1\" class=\"dataframe\">\n",
              "  <thead>\n",
              "    <tr style=\"text-align: left;\">\n",
              "      <th>epoch</th>\n",
              "      <th>train_loss</th>\n",
              "      <th>valid_loss</th>\n",
              "      <th>accuracy</th>\n",
              "      <th>time</th>\n",
              "    </tr>\n",
              "  </thead>\n",
              "  <tbody>\n",
              "    <tr>\n",
              "      <td>0</td>\n",
              "      <td>1.978235</td>\n",
              "      <td>0.493319</td>\n",
              "      <td>0.841918</td>\n",
              "      <td>00:20</td>\n",
              "    </tr>\n",
              "    <tr>\n",
              "      <td>1</td>\n",
              "      <td>0.997489</td>\n",
              "      <td>0.363012</td>\n",
              "      <td>0.893428</td>\n",
              "      <td>00:19</td>\n",
              "    </tr>\n",
              "    <tr>\n",
              "      <td>2</td>\n",
              "      <td>0.644908</td>\n",
              "      <td>0.340289</td>\n",
              "      <td>0.895204</td>\n",
              "      <td>00:19</td>\n",
              "    </tr>\n",
              "    <tr>\n",
              "      <td>3</td>\n",
              "      <td>0.458432</td>\n",
              "      <td>0.288561</td>\n",
              "      <td>0.912966</td>\n",
              "      <td>00:19</td>\n",
              "    </tr>\n",
              "    <tr>\n",
              "      <td>4</td>\n",
              "      <td>0.359538</td>\n",
              "      <td>0.250284</td>\n",
              "      <td>0.916519</td>\n",
              "      <td>00:19</td>\n",
              "    </tr>\n",
              "    <tr>\n",
              "      <td>5</td>\n",
              "      <td>0.248035</td>\n",
              "      <td>0.272041</td>\n",
              "      <td>0.927176</td>\n",
              "      <td>00:19</td>\n",
              "    </tr>\n",
              "    <tr>\n",
              "      <td>6</td>\n",
              "      <td>0.203316</td>\n",
              "      <td>0.261219</td>\n",
              "      <td>0.916519</td>\n",
              "      <td>00:19</td>\n",
              "    </tr>\n",
              "    <tr>\n",
              "      <td>7</td>\n",
              "      <td>0.168078</td>\n",
              "      <td>0.259162</td>\n",
              "      <td>0.921847</td>\n",
              "      <td>00:19</td>\n",
              "    </tr>\n",
              "  </tbody>\n",
              "</table>"
            ],
            "text/plain": [
              "<IPython.core.display.HTML object>"
            ]
          },
          "metadata": {
            "tags": []
          }
        }
      ]
    },
    {
      "cell_type": "code",
      "metadata": {
        "id": "MDjKyh1jKZeg",
        "colab_type": "code",
        "colab": {}
      },
      "source": [
        "learn.unfreeze()"
      ],
      "execution_count": 0,
      "outputs": []
    },
    {
      "cell_type": "code",
      "metadata": {
        "id": "Y-SNHk31KthQ",
        "colab_type": "code",
        "outputId": "b7764b8f-982f-4f39-b155-6be7e85b00af",
        "colab": {
          "base_uri": "https://localhost:8080/",
          "height": 405
        }
      },
      "source": [
        "# Find learning rate\n",
        "learn.lr_find()\n",
        "learn.recorder.plot()"
      ],
      "execution_count": 0,
      "outputs": [
        {
          "output_type": "display_data",
          "data": {
            "text/html": [
              "\n",
              "    <div>\n",
              "        <style>\n",
              "            /* Turns off some styling */\n",
              "            progress {\n",
              "                /* gets rid of default border in Firefox and Opera. */\n",
              "                border: none;\n",
              "                /* Needs to be in here for Safari polyfill so background images work as expected. */\n",
              "                background-size: auto;\n",
              "            }\n",
              "            .progress-bar-interrupted, .progress-bar-interrupted::-webkit-progress-bar {\n",
              "                background: #F44336;\n",
              "            }\n",
              "        </style>\n",
              "      <progress value='1' class='' max='3', style='width:300px; height:20px; vertical-align: middle;'></progress>\n",
              "      33.33% [1/3 00:18<00:36]\n",
              "    </div>\n",
              "    \n",
              "<table border=\"1\" class=\"dataframe\">\n",
              "  <thead>\n",
              "    <tr style=\"text-align: left;\">\n",
              "      <th>epoch</th>\n",
              "      <th>train_loss</th>\n",
              "      <th>valid_loss</th>\n",
              "      <th>accuracy</th>\n",
              "      <th>time</th>\n",
              "    </tr>\n",
              "  </thead>\n",
              "  <tbody>\n",
              "    <tr>\n",
              "      <td>0</td>\n",
              "      <td>0.172290</td>\n",
              "      <td>#na#</td>\n",
              "      <td>00:18</td>\n",
              "    </tr>\n",
              "  </tbody>\n",
              "</table><p>\n",
              "\n",
              "    <div>\n",
              "        <style>\n",
              "            /* Turns off some styling */\n",
              "            progress {\n",
              "                /* gets rid of default border in Firefox and Opera. */\n",
              "                border: none;\n",
              "                /* Needs to be in here for Safari polyfill so background images work as expected. */\n",
              "                background-size: auto;\n",
              "            }\n",
              "            .progress-bar-interrupted, .progress-bar-interrupted::-webkit-progress-bar {\n",
              "                background: #F44336;\n",
              "            }\n",
              "        </style>\n",
              "      <progress value='7' class='' max='47', style='width:300px; height:20px; vertical-align: middle;'></progress>\n",
              "      14.89% [7/47 00:03<00:18 0.2901]\n",
              "    </div>\n",
              "    "
            ],
            "text/plain": [
              "<IPython.core.display.HTML object>"
            ]
          },
          "metadata": {
            "tags": []
          }
        },
        {
          "output_type": "stream",
          "text": [
            "LR Finder is complete, type {learner_name}.recorder.plot() to see the graph.\n"
          ],
          "name": "stdout"
        },
        {
          "output_type": "display_data",
          "data": {
            "image/png": "[encoded data removed]",
            "text/plain": [
              "<Figure size 432x288 with 1 Axes>"
            ]
          },
          "metadata": {
            "tags": []
          }
        }
      ]
    },
    {
      "cell_type": "code",
      "metadata": {
        "id": "OecYD5-3Ktj_",
        "colab_type": "code",
        "outputId": "11ef6bdb-deae-459a-9722-ecd251128c5f",
        "colab": {
          "base_uri": "https://localhost:8080/",
          "height": 514
        }
      },
      "source": [
        "# Train 15 epochs\n",
        "learn.fit_one_cycle(15, max_lr=slice(1e-5, 1e-4))"
      ],
      "execution_count": 0,
      "outputs": [
        {
          "output_type": "display_data",
          "data": {
            "text/html": [
              "<table border=\"1\" class=\"dataframe\">\n",
              "  <thead>\n",
              "    <tr style=\"text-align: left;\">\n",
              "      <th>epoch</th>\n",
              "      <th>train_loss</th>\n",
              "      <th>valid_loss</th>\n",
              "      <th>accuracy</th>\n",
              "      <th>time</th>\n",
              "    </tr>\n",
              "  </thead>\n",
              "  <tbody>\n",
              "    <tr>\n",
              "      <td>0</td>\n",
              "      <td>0.153520</td>\n",
              "      <td>0.255495</td>\n",
              "      <td>0.921847</td>\n",
              "      <td>00:20</td>\n",
              "    </tr>\n",
              "    <tr>\n",
              "      <td>1</td>\n",
              "      <td>0.150353</td>\n",
              "      <td>0.247386</td>\n",
              "      <td>0.927176</td>\n",
              "      <td>00:20</td>\n",
              "    </tr>\n",
              "    <tr>\n",
              "      <td>2</td>\n",
              "      <td>0.141753</td>\n",
              "      <td>0.240541</td>\n",
              "      <td>0.934281</td>\n",
              "      <td>00:20</td>\n",
              "    </tr>\n",
              "    <tr>\n",
              "      <td>3</td>\n",
              "      <td>0.124637</td>\n",
              "      <td>0.275845</td>\n",
              "      <td>0.930728</td>\n",
              "      <td>00:20</td>\n",
              "    </tr>\n",
              "    <tr>\n",
              "      <td>4</td>\n",
              "      <td>0.115823</td>\n",
              "      <td>0.264269</td>\n",
              "      <td>0.944938</td>\n",
              "      <td>00:20</td>\n",
              "    </tr>\n",
              "    <tr>\n",
              "      <td>5</td>\n",
              "      <td>0.098472</td>\n",
              "      <td>0.229224</td>\n",
              "      <td>0.943162</td>\n",
              "      <td>00:20</td>\n",
              "    </tr>\n",
              "    <tr>\n",
              "      <td>6</td>\n",
              "      <td>0.083447</td>\n",
              "      <td>0.201437</td>\n",
              "      <td>0.946714</td>\n",
              "      <td>00:20</td>\n",
              "    </tr>\n",
              "    <tr>\n",
              "      <td>7</td>\n",
              "      <td>0.060874</td>\n",
              "      <td>0.192703</td>\n",
              "      <td>0.957371</td>\n",
              "      <td>00:20</td>\n",
              "    </tr>\n",
              "    <tr>\n",
              "      <td>8</td>\n",
              "      <td>0.053513</td>\n",
              "      <td>0.193707</td>\n",
              "      <td>0.957371</td>\n",
              "      <td>00:20</td>\n",
              "    </tr>\n",
              "    <tr>\n",
              "      <td>9</td>\n",
              "      <td>0.045212</td>\n",
              "      <td>0.196565</td>\n",
              "      <td>0.957371</td>\n",
              "      <td>00:21</td>\n",
              "    </tr>\n",
              "    <tr>\n",
              "      <td>10</td>\n",
              "      <td>0.032956</td>\n",
              "      <td>0.196896</td>\n",
              "      <td>0.952043</td>\n",
              "      <td>00:21</td>\n",
              "    </tr>\n",
              "    <tr>\n",
              "      <td>11</td>\n",
              "      <td>0.031650</td>\n",
              "      <td>0.188334</td>\n",
              "      <td>0.957371</td>\n",
              "      <td>00:20</td>\n",
              "    </tr>\n",
              "    <tr>\n",
              "      <td>12</td>\n",
              "      <td>0.028154</td>\n",
              "      <td>0.199035</td>\n",
              "      <td>0.960924</td>\n",
              "      <td>00:20</td>\n",
              "    </tr>\n",
              "    <tr>\n",
              "      <td>13</td>\n",
              "      <td>0.028581</td>\n",
              "      <td>0.191851</td>\n",
              "      <td>0.960924</td>\n",
              "      <td>00:20</td>\n",
              "    </tr>\n",
              "    <tr>\n",
              "      <td>14</td>\n",
              "      <td>0.028098</td>\n",
              "      <td>0.191934</td>\n",
              "      <td>0.959147</td>\n",
              "      <td>00:20</td>\n",
              "    </tr>\n",
              "  </tbody>\n",
              "</table>"
            ],
            "text/plain": [
              "<IPython.core.display.HTML object>"
            ]
          },
          "metadata": {
            "tags": []
          }
        }
      ]
    },
    {
      "cell_type": "code",
      "metadata": {
        "id": "xpq4uI10MoKS",
        "colab_type": "code",
        "outputId": "9e620ff1-2621-4f0b-bbbd-aecefdcca11d",
        "colab": {
          "base_uri": "https://localhost:8080/",
          "height": 561
        }
      },
      "source": [
        "learner = create_cnn(data, models.resnet50, metrics=[accuracy], callback_fns=ShowGraph)\n",
        "interpreter = ClassificationInterpretation.from_learner(learner)\n",
        "interpreter.most_confused(min_val=2)"
      ],
      "execution_count": 0,
      "outputs": [
        {
          "output_type": "stream",
          "text": [
            "/usr/local/lib/python3.6/dist-packages/fastai/vision/learner.py:106: UserWarning: `create_cnn` is deprecated and is now named `cnn_learner`.\n",
            "  warn(\"`create_cnn` is deprecated and is now named `cnn_learner`.\")\n"
          ],
          "name": "stderr"
        },
        {
          "output_type": "display_data",
          "data": {
            "text/html": [
              ""
            ],
            "text/plain": [
              "<IPython.core.display.HTML object>"
            ]
          },
          "metadata": {
            "tags": []
          }
        },
        {
          "output_type": "execute_result",
          "data": {
            "text/plain": [
              "[('opencountry', 'mountain', 51),\n",
              " ('tallbuilding', 'highway', 38),\n",
              " ('coast', 'mountain', 36),\n",
              " ('highway', 'mountain', 31),\n",
              " ('office', 'highway', 29),\n",
              " ('livingroom', 'highway', 27),\n",
              " ('mountain', 'highway', 26),\n",
              " ('street', 'mountain', 25),\n",
              " ('insidecity', 'highway', 24),\n",
              " ('tallbuilding', 'mountain', 23),\n",
              " ('suburb', 'highway', 21),\n",
              " ('bedroom', 'highway', 20),\n",
              " ('forest', 'highway', 18),\n",
              " ('kitchen', 'highway', 18),\n",
              " ('opencountry', 'highway', 18),\n",
              " ('mountain', 'kitchen', 17),\n",
              " ('forest', 'mountain', 16),\n",
              " ('kitchen', 'mountain', 16),\n",
              " ('coast', 'highway', 14),\n",
              " ('insidecity', 'mountain', 14),\n",
              " ('street', 'highway', 13),\n",
              " ('suburb', 'mountain', 9),\n",
              " ('coast', 'kitchen', 7),\n",
              " ('opencountry', 'kitchen', 7),\n",
              " ('mountain', 'office', 6),\n",
              " ('office', 'mountain', 5),\n",
              " ('bedroom', 'kitchen', 3),\n",
              " ('livingroom', 'mountain', 3),\n",
              " ('bedroom', 'mountain', 2),\n",
              " ('street', 'kitchen', 2)]"
            ]
          },
          "metadata": {
            "tags": []
          },
          "execution_count": 68
        }
      ]
    }
  ]
}
