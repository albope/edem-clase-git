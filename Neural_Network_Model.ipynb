{
  "nbformat": 4,
  "nbformat_minor": 0,
  "metadata": {
    "colab": {
      "name": "Neural Network Model.ipynb",
      "provenance": [],
      "collapsed_sections": [],
      "include_colab_link": true
    },
    "kernelspec": {
      "name": "python3",
      "display_name": "Python 3"
    }
  },
  "cells": [
    {
      "cell_type": "markdown",
      "metadata": {
        "id": "view-in-github",
        "colab_type": "text"
      },
      "source": [
        "<a href=\"https://colab.research.google.com/github/albope/master-data-analytics-content/blob/master/Neural_Network_Model.ipynb\" target=\"_parent\"><img src=\"https://colab.research.google.com/assets/colab-badge.svg\" alt=\"Open In Colab\"/></a>"
      ]
    },
    {
      "cell_type": "markdown",
      "metadata": {
        "id": "HZenyhaE7D5U",
        "colab_type": "text"
      },
      "source": [
        "# Workshop 1: Mobile Price Range Classification\n",
        "\n",
        "In this workshop we will learn how to train a neural network with numeric data as input to predict the price range of mobile phones ([info of the data](https://www.kaggle.com/iabhishekofficial/mobile-price-classification/data#)). The main blocks of the workshop are:\n",
        "\n",
        "1. Get the data from Google Drive.\n",
        "2. Load and Pre-process the data.\n",
        "3. Define a Fully Connected Neural Network.\n",
        "4. Choose loss function and optimizer.\n",
        "5. Train the network.\n",
        "\n",
        "The main libraries thar will be used in the workshop are:\n",
        "\n",
        "- Tensorflow\n",
        "- Keras\n",
        "- Sci-kit Learn\n",
        "- Matplotlib\n",
        "- Numpy\n",
        "- Pandas\n",
        "\n",
        "[Reference](https://towardsdatascience.com/building-our-first-neural-network-in-keras-bdc8abbc17f5)"
      ]
    },
    {
      "cell_type": "markdown",
      "metadata": {
        "id": "ptnsZfN-7A_0",
        "colab_type": "text"
      },
      "source": [
        "## 1. Get the data from Google Drive"
      ]
    },
    {
      "cell_type": "code",
      "metadata": {
        "id": "yvo1e0KT4zTv",
        "colab_type": "code",
        "colab": {}
      },
      "source": [
        "# Import libraries to interact with Google Drive\n",
        "from pydrive.auth import GoogleAuth\n",
        "from pydrive.drive import GoogleDrive\n",
        "from google.colab import auth\n",
        "from oauth2client.client import GoogleCredentials"
      ],
      "execution_count": 0,
      "outputs": []
    },
    {
      "cell_type": "code",
      "metadata": {
        "id": "qw0YVraI5hjG",
        "colab_type": "code",
        "colab": {}
      },
      "source": [
        "# Authenticate with your Google account to get access to the data\n",
        "auth.authenticate_user()\n",
        "gauth = GoogleAuth()\n",
        "gauth.credentials = GoogleCredentials.get_application_default()\n",
        "drive = GoogleDrive(gauth)"
      ],
      "execution_count": 0,
      "outputs": []
    },
    {
      "cell_type": "code",
      "metadata": {
        "id": "vIJOt1lg5pvG",
        "colab_type": "code",
        "colab": {}
      },
      "source": [
        "# Download data\n",
        "download = drive.CreateFile({'id': '1igTyUp-YTHG0ig9VeNu83R8jBWn5Djji'})\n",
        "download.GetContentFile('mobile_price.zip')"
      ],
      "execution_count": 0,
      "outputs": []
    },
    {
      "cell_type": "code",
      "metadata": {
        "id": "jRnbuD8c6LLp",
        "colab_type": "code",
        "colab": {}
      },
      "source": [
        "# Extract data from zip file\n",
        "import zipfile\n",
        "from pathlib import Path\n",
        "data_path = Path(\"./mobile_price.zip\")\n",
        "\n",
        "with zipfile.ZipFile(str(data_path), 'r') as zip_ref:\n",
        "    zip_ref.extractall(\"./data\")"
      ],
      "execution_count": 0,
      "outputs": []
    },
    {
      "cell_type": "code",
      "metadata": {
        "id": "bxAVc9xw6eHQ",
        "colab_type": "code",
        "outputId": "5165a5eb-ec28-4127-97b7-128a0809f80e",
        "colab": {
          "base_uri": "https://localhost:8080/",
          "height": 34
        }
      },
      "source": [
        "# List files of ./data directory\n",
        "ls ./data"
      ],
      "execution_count": 0,
      "outputs": [
        {
          "output_type": "stream",
          "text": [
            "test.csv  train.csv\n"
          ],
          "name": "stdout"
        }
      ]
    },
    {
      "cell_type": "markdown",
      "metadata": {
        "id": "67CgIbop9ScG",
        "colab_type": "text"
      },
      "source": [
        "## 2. Load and Pre-process the data\n",
        "\n"
      ]
    },
    {
      "cell_type": "code",
      "metadata": {
        "id": "DvnZlJFV-21i",
        "colab_type": "code",
        "colab": {}
      },
      "source": [
        "# Load dependencies for loading data\n",
        "import numpy as np\n",
        "import pandas as pd"
      ],
      "execution_count": 0,
      "outputs": []
    },
    {
      "cell_type": "code",
      "metadata": {
        "id": "LT55rVd2_IkM",
        "colab_type": "code",
        "colab": {}
      },
      "source": [
        "# Load training dataset and check variables\n",
        "dataset = pd.read_csv('./data/train.csv')"
      ],
      "execution_count": 0,
      "outputs": []
    },
    {
      "cell_type": "code",
      "metadata": {
        "id": "m2cpgTmCDqzQ",
        "colab_type": "code",
        "outputId": "900ec372-cefb-465f-a7fa-73f2d0053523",
        "colab": {
          "base_uri": "https://localhost:8080/",
          "height": 102
        }
      },
      "source": [
        "# Show variables\n",
        "dataset.columns"
      ],
      "execution_count": 0,
      "outputs": [
        {
          "output_type": "execute_result",
          "data": {
            "text/plain": [
              "Index(['battery_power', 'blue', 'clock_speed', 'dual_sim', 'fc', 'four_g',\n",
              "       'int_memory', 'm_dep', 'mobile_wt', 'n_cores', 'pc', 'px_height',\n",
              "       'px_width', 'ram', 'sc_h', 'sc_w', 'talk_time', 'three_g',\n",
              "       'touch_screen', 'wifi', 'price_range'],\n",
              "      dtype='object')"
            ]
          },
          "metadata": {
            "tags": []
          },
          "execution_count": 8
        }
      ]
    },
    {
      "cell_type": "code",
      "metadata": {
        "id": "L2fZ3NwMB0qD",
        "colab_type": "code",
        "outputId": "08ee4d1e-a752-48aa-c9a9-96fa906487c0",
        "colab": {
          "base_uri": "https://localhost:8080/",
          "height": 224
        }
      },
      "source": [
        "# Show first 5 rows\n",
        "dataset.head()"
      ],
      "execution_count": 0,
      "outputs": [
        {
          "output_type": "execute_result",
          "data": {
            "text/html": [
              "<div>\n",
              "<style scoped>\n",
              "    .dataframe tbody tr th:only-of-type {\n",
              "        vertical-align: middle;\n",
              "    }\n",
              "\n",
              "    .dataframe tbody tr th {\n",
              "        vertical-align: top;\n",
              "    }\n",
              "\n",
              "    .dataframe thead th {\n",
              "        text-align: right;\n",
              "    }\n",
              "</style>\n",
              "<table border=\"1\" class=\"dataframe\">\n",
              "  <thead>\n",
              "    <tr style=\"text-align: right;\">\n",
              "      <th></th>\n",
              "      <th>battery_power</th>\n",
              "      <th>blue</th>\n",
              "      <th>clock_speed</th>\n",
              "      <th>dual_sim</th>\n",
              "      <th>fc</th>\n",
              "      <th>four_g</th>\n",
              "      <th>int_memory</th>\n",
              "      <th>m_dep</th>\n",
              "      <th>mobile_wt</th>\n",
              "      <th>n_cores</th>\n",
              "      <th>pc</th>\n",
              "      <th>px_height</th>\n",
              "      <th>px_width</th>\n",
              "      <th>ram</th>\n",
              "      <th>sc_h</th>\n",
              "      <th>sc_w</th>\n",
              "      <th>talk_time</th>\n",
              "      <th>three_g</th>\n",
              "      <th>touch_screen</th>\n",
              "      <th>wifi</th>\n",
              "      <th>price_range</th>\n",
              "    </tr>\n",
              "  </thead>\n",
              "  <tbody>\n",
              "    <tr>\n",
              "      <th>0</th>\n",
              "      <td>842</td>\n",
              "      <td>0</td>\n",
              "      <td>2.2</td>\n",
              "      <td>0</td>\n",
              "      <td>1</td>\n",
              "      <td>0</td>\n",
              "      <td>7</td>\n",
              "      <td>0.6</td>\n",
              "      <td>188</td>\n",
              "      <td>2</td>\n",
              "      <td>2</td>\n",
              "      <td>20</td>\n",
              "      <td>756</td>\n",
              "      <td>2549</td>\n",
              "      <td>9</td>\n",
              "      <td>7</td>\n",
              "      <td>19</td>\n",
              "      <td>0</td>\n",
              "      <td>0</td>\n",
              "      <td>1</td>\n",
              "      <td>1</td>\n",
              "    </tr>\n",
              "    <tr>\n",
              "      <th>1</th>\n",
              "      <td>1021</td>\n",
              "      <td>1</td>\n",
              "      <td>0.5</td>\n",
              "      <td>1</td>\n",
              "      <td>0</td>\n",
              "      <td>1</td>\n",
              "      <td>53</td>\n",
              "      <td>0.7</td>\n",
              "      <td>136</td>\n",
              "      <td>3</td>\n",
              "      <td>6</td>\n",
              "      <td>905</td>\n",
              "      <td>1988</td>\n",
              "      <td>2631</td>\n",
              "      <td>17</td>\n",
              "      <td>3</td>\n",
              "      <td>7</td>\n",
              "      <td>1</td>\n",
              "      <td>1</td>\n",
              "      <td>0</td>\n",
              "      <td>2</td>\n",
              "    </tr>\n",
              "    <tr>\n",
              "      <th>2</th>\n",
              "      <td>563</td>\n",
              "      <td>1</td>\n",
              "      <td>0.5</td>\n",
              "      <td>1</td>\n",
              "      <td>2</td>\n",
              "      <td>1</td>\n",
              "      <td>41</td>\n",
              "      <td>0.9</td>\n",
              "      <td>145</td>\n",
              "      <td>5</td>\n",
              "      <td>6</td>\n",
              "      <td>1263</td>\n",
              "      <td>1716</td>\n",
              "      <td>2603</td>\n",
              "      <td>11</td>\n",
              "      <td>2</td>\n",
              "      <td>9</td>\n",
              "      <td>1</td>\n",
              "      <td>1</td>\n",
              "      <td>0</td>\n",
              "      <td>2</td>\n",
              "    </tr>\n",
              "    <tr>\n",
              "      <th>3</th>\n",
              "      <td>615</td>\n",
              "      <td>1</td>\n",
              "      <td>2.5</td>\n",
              "      <td>0</td>\n",
              "      <td>0</td>\n",
              "      <td>0</td>\n",
              "      <td>10</td>\n",
              "      <td>0.8</td>\n",
              "      <td>131</td>\n",
              "      <td>6</td>\n",
              "      <td>9</td>\n",
              "      <td>1216</td>\n",
              "      <td>1786</td>\n",
              "      <td>2769</td>\n",
              "      <td>16</td>\n",
              "      <td>8</td>\n",
              "      <td>11</td>\n",
              "      <td>1</td>\n",
              "      <td>0</td>\n",
              "      <td>0</td>\n",
              "      <td>2</td>\n",
              "    </tr>\n",
              "    <tr>\n",
              "      <th>4</th>\n",
              "      <td>1821</td>\n",
              "      <td>1</td>\n",
              "      <td>1.2</td>\n",
              "      <td>0</td>\n",
              "      <td>13</td>\n",
              "      <td>1</td>\n",
              "      <td>44</td>\n",
              "      <td>0.6</td>\n",
              "      <td>141</td>\n",
              "      <td>2</td>\n",
              "      <td>14</td>\n",
              "      <td>1208</td>\n",
              "      <td>1212</td>\n",
              "      <td>1411</td>\n",
              "      <td>8</td>\n",
              "      <td>2</td>\n",
              "      <td>15</td>\n",
              "      <td>1</td>\n",
              "      <td>1</td>\n",
              "      <td>0</td>\n",
              "      <td>1</td>\n",
              "    </tr>\n",
              "  </tbody>\n",
              "</table>\n",
              "</div>"
            ],
            "text/plain": [
              "   battery_power  blue  clock_speed  ...  touch_screen  wifi  price_range\n",
              "0            842     0          2.2  ...             0     1            1\n",
              "1           1021     1          0.5  ...             1     0            2\n",
              "2            563     1          0.5  ...             1     0            2\n",
              "3            615     1          2.5  ...             0     0            2\n",
              "4           1821     1          1.2  ...             1     0            1\n",
              "\n",
              "[5 rows x 21 columns]"
            ]
          },
          "metadata": {
            "tags": []
          },
          "execution_count": 9
        }
      ]
    },
    {
      "cell_type": "code",
      "metadata": {
        "id": "GdXq9ybYCAij",
        "colab_type": "code",
        "colab": {}
      },
      "source": [
        "# Import dependencies for pre-processing\n",
        "from sklearn.preprocessing import StandardScaler\n",
        "from sklearn.preprocessing import OneHotEncoder\n",
        "from sklearn.model_selection import train_test_split"
      ],
      "execution_count": 0,
      "outputs": []
    },
    {
      "cell_type": "code",
      "metadata": {
        "id": "wcNOetOZDZ8B",
        "colab_type": "code",
        "colab": {}
      },
      "source": [
        "# Convert pandas Dataframe to Numpy Array\n",
        "dataset_numpy = dataset.values"
      ],
      "execution_count": 0,
      "outputs": []
    },
    {
      "cell_type": "code",
      "metadata": {
        "id": "jCSxYok-ByDS",
        "colab_type": "code",
        "outputId": "dbab90dd-35c2-454a-cd3d-846284b17def",
        "colab": {
          "base_uri": "https://localhost:8080/",
          "height": 51
        }
      },
      "source": [
        "# Show data type before and after conversion\n",
        "print(type(dataset))\n",
        "print(type(dataset_numpy.dtype))"
      ],
      "execution_count": 0,
      "outputs": [
        {
          "output_type": "stream",
          "text": [
            "<class 'pandas.core.frame.DataFrame'>\n",
            "<class 'numpy.dtype'>\n"
          ],
          "name": "stdout"
        }
      ]
    },
    {
      "cell_type": "code",
      "metadata": {
        "id": "H9H_gM8eHe5O",
        "colab_type": "code",
        "colab": {}
      },
      "source": [
        "# Separate input variables from output label\n",
        "X = dataset_numpy[:, :20]\n",
        "y = dataset_numpy[:, 20:21]"
      ],
      "execution_count": 0,
      "outputs": []
    },
    {
      "cell_type": "code",
      "metadata": {
        "id": "YOciSYTzB8QT",
        "colab_type": "code",
        "outputId": "ea9e3b4d-5809-4054-d943-5c48b1c93810",
        "colab": {
          "base_uri": "https://localhost:8080/",
          "height": 51
        }
      },
      "source": [
        "# Show shape of training data and labels\n",
        "print(\"Shape of training data: \", X.shape)\n",
        "print(\"Shape of training labels: \", y.shape)"
      ],
      "execution_count": 0,
      "outputs": [
        {
          "output_type": "stream",
          "text": [
            "Shape of training data:  (2000, 20)\n",
            "Shape of training labels:  (2000, 1)\n"
          ],
          "name": "stdout"
        }
      ]
    },
    {
      "cell_type": "code",
      "metadata": {
        "id": "uu1afk5OIt2c",
        "colab_type": "code",
        "outputId": "a6f4201d-f060-4d5e-995d-e40b9170cfda",
        "colab": {
          "base_uri": "https://localhost:8080/",
          "height": 34
        }
      },
      "source": [
        "# Show different classes to predict\n",
        "np.unique(y)"
      ],
      "execution_count": 0,
      "outputs": [
        {
          "output_type": "execute_result",
          "data": {
            "text/plain": [
              "array([0., 1., 2., 3.])"
            ]
          },
          "metadata": {
            "tags": []
          },
          "execution_count": 15
        }
      ]
    },
    {
      "cell_type": "code",
      "metadata": {
        "id": "yD9F7PoxIhR7",
        "colab_type": "code",
        "colab": {}
      },
      "source": [
        "# Normalizing the data to improve stability while training\n",
        "sc = StandardScaler()\n",
        "sc.fit(X)\n",
        "X_norm = sc.transform(X)"
      ],
      "execution_count": 0,
      "outputs": []
    },
    {
      "cell_type": "code",
      "metadata": {
        "id": "GcYYTbkIHl1p",
        "colab_type": "code",
        "outputId": "b53679b8-bb9b-4907-c11f-3233ad6e490e",
        "colab": {
          "base_uri": "https://localhost:8080/",
          "height": 204
        }
      },
      "source": [
        "# Show mean and Standard Deviation learnt from training data\n",
        "print(\"Mean per variable: \\n\", sc.mean_)\n",
        "print(\"Standard Deviation per variable: \\n\", sc.scale_)"
      ],
      "execution_count": 0,
      "outputs": [
        {
          "output_type": "stream",
          "text": [
            "Mean per variable: \n",
            " [1.2385185e+03 4.9500000e-01 1.5222500e+00 5.0950000e-01 4.3095000e+00\n",
            " 5.2150000e-01 3.2046500e+01 5.0175000e-01 1.4024900e+02 4.5205000e+00\n",
            " 9.9165000e+00 6.4510800e+02 1.2515155e+03 2.1242130e+03 1.2306500e+01\n",
            " 5.7670000e+00 1.1011000e+01 7.6150000e-01 5.0300000e-01 5.0700000e-01]\n",
            "Standard Deviation per variable: \n",
            " [4.39308338e+02 4.99974999e-01 8.15800182e-01 4.99909742e-01\n",
            " 4.34035825e+00 4.99537536e-01 1.81411780e+01 2.88343437e-01\n",
            " 3.53908039e+01 2.28726469e+00 6.06279867e+00 4.43669852e+02\n",
            " 4.32091384e+02 1.08446083e+03 4.21219156e+00 4.35530837e+00\n",
            " 5.46258904e+00 4.26166341e-01 4.99991000e-01 4.99950998e-01]\n"
          ],
          "name": "stdout"
        }
      ]
    },
    {
      "cell_type": "code",
      "metadata": {
        "colab_type": "code",
        "id": "-PgxBF8oBkYS",
        "outputId": "d97f43e1-6e67-44fc-8902-417c0fae34a7",
        "colab": {
          "base_uri": "https://localhost:8080/",
          "height": 170
        }
      },
      "source": [
        "# Show data before and after normalization\n",
        "print(\"Before normalization: \\n\", X[1, :])\n",
        "print(\"After normalization: \\n\", X_norm[1, :])"
      ],
      "execution_count": 0,
      "outputs": [
        {
          "output_type": "stream",
          "text": [
            "Before normalization: \n",
            " [1.021e+03 1.000e+00 5.000e-01 1.000e+00 0.000e+00 1.000e+00 5.300e+01\n",
            " 7.000e-01 1.360e+02 3.000e+00 6.000e+00 9.050e+02 1.988e+03 2.631e+03\n",
            " 1.700e+01 3.000e+00 7.000e+00 1.000e+00 1.000e+00 0.000e+00]\n",
            "After normalization: \n",
            " [-0.49513857  1.0100505  -1.2530642   0.98117712 -0.99289039  0.95788598\n",
            "  1.15502422  0.68754816 -0.12005944 -0.66476784 -0.64598879  0.58577791\n",
            "  1.70446468  0.46731702  1.11426556 -0.63531667 -0.73426721  0.55964063\n",
            "  0.99401789 -1.01409939]\n"
          ],
          "name": "stdout"
        }
      ]
    },
    {
      "cell_type": "code",
      "metadata": {
        "id": "5Z_i4ZxzLS5R",
        "colab_type": "code",
        "colab": {}
      },
      "source": [
        "# One-hot encoding of labels\n",
        "onehot_enc = OneHotEncoder()\n",
        "y_onehot = onehot_enc.fit_transform(y).toarray()"
      ],
      "execution_count": 0,
      "outputs": []
    },
    {
      "cell_type": "code",
      "metadata": {
        "id": "suaSrXbWMeZx",
        "colab_type": "code",
        "outputId": "62260e05-3233-4598-ff93-4abaa830836e",
        "colab": {
          "base_uri": "https://localhost:8080/",
          "height": 85
        }
      },
      "source": [
        "# Show labels before and after one-hot encoding\n",
        "print(\"Before onet-hot encodeing: \\n\", y[0])\n",
        "print(\"After onet-hot encodeing: \\n\", y_onehot[0])"
      ],
      "execution_count": 0,
      "outputs": [
        {
          "output_type": "stream",
          "text": [
            "Before onet-hot encodeing: \n",
            " [1.]\n",
            "After onet-hot encodeing: \n",
            " [0. 1. 0. 0.]\n"
          ],
          "name": "stdout"
        }
      ]
    },
    {
      "cell_type": "code",
      "metadata": {
        "id": "5SbrKQ10Navz",
        "colab_type": "code",
        "colab": {}
      },
      "source": [
        "# Split data in training and validation partitions\n",
        "X_train, X_val, y_train, y_val = train_test_split(X_norm, y_onehot, \n",
        "                                                  test_size=0.1)"
      ],
      "execution_count": 0,
      "outputs": []
    },
    {
      "cell_type": "code",
      "metadata": {
        "id": "BP1GOQRmOMSK",
        "colab_type": "code",
        "outputId": "1fad1a6d-b3ee-466a-c55f-6700cf161340",
        "colab": {
          "base_uri": "https://localhost:8080/",
          "height": 85
        }
      },
      "source": [
        "# Show sizes of partitions\n",
        "print(\"Size of training data: \", X_train.shape)\n",
        "print(\"Size of training labels: \", y_train.shape)\n",
        "print(\"Size of validation data: \", X_val.shape)\n",
        "print(\"Size of validation labels: \", y_val.shape)"
      ],
      "execution_count": 0,
      "outputs": [
        {
          "output_type": "stream",
          "text": [
            "Size of training data:  (1800, 20)\n",
            "Size of training labels:  (1800, 4)\n",
            "Size of validation data:  (200, 20)\n",
            "Size of validation labels:  (200, 4)\n"
          ],
          "name": "stdout"
        }
      ]
    },
    {
      "cell_type": "markdown",
      "metadata": {
        "id": "M_aOe_XI9Vw7",
        "colab_type": "text"
      },
      "source": [
        "## 3. Define a Fully Connected Neural Network"
      ]
    },
    {
      "cell_type": "code",
      "metadata": {
        "id": "fdemo-HaPBej",
        "colab_type": "code",
        "outputId": "b187f6a4-dcc1-43c3-a7fa-513712f032a2",
        "colab": {
          "base_uri": "https://localhost:8080/",
          "height": 80
        }
      },
      "source": [
        "# Import dependencies for designing Keras model\n",
        "import keras\n",
        "from keras.models import Sequential\n",
        "from keras.layers import Dense\n",
        "%tensorflow_version 1.x"
      ],
      "execution_count": 0,
      "outputs": [
        {
          "output_type": "stream",
          "text": [
            "Using TensorFlow backend.\n"
          ],
          "name": "stderr"
        },
        {
          "output_type": "display_data",
          "data": {
            "text/html": [
              "<p style=\"color: red;\">\n",
              "The default version of TensorFlow in Colab will soon switch to TensorFlow 2.x.<br>\n",
              "We recommend you <a href=\"https://www.tensorflow.org/guide/migrate\" target=\"_blank\">upgrade</a> now \n",
              "or ensure your notebook will continue to use TensorFlow 1.x via the <code>%tensorflow_version 1.x</code> magic:\n",
              "<a href=\"https://colab.research.google.com/notebooks/tensorflow_version.ipynb\" target=\"_blank\">more info</a>.</p>\n"
            ],
            "text/plain": [
              "<IPython.core.display.HTML object>"
            ]
          },
          "metadata": {
            "tags": []
          }
        }
      ]
    },
    {
      "cell_type": "code",
      "metadata": {
        "id": "WW5nXU1YPOtl",
        "colab_type": "code",
        "outputId": "a8d5f18a-f6e3-4f71-f66f-3210b22cb733",
        "colab": {
          "base_uri": "https://localhost:8080/",
          "height": 139
        }
      },
      "source": [
        "# Design simple neural network architecture\n",
        "model = Sequential()\n",
        "model.add(Dense(16, input_dim=20, activation='relu'))\n",
        "model.add(Dense(12, activation='relu'))\n",
        "model.add(Dense(4, activation='softmax'))"
      ],
      "execution_count": 0,
      "outputs": [
        {
          "output_type": "stream",
          "text": [
            "WARNING:tensorflow:From /usr/local/lib/python3.6/dist-packages/keras/backend/tensorflow_backend.py:66: The name tf.get_default_graph is deprecated. Please use tf.compat.v1.get_default_graph instead.\n",
            "\n",
            "WARNING:tensorflow:From /usr/local/lib/python3.6/dist-packages/keras/backend/tensorflow_backend.py:541: The name tf.placeholder is deprecated. Please use tf.compat.v1.placeholder instead.\n",
            "\n",
            "WARNING:tensorflow:From /usr/local/lib/python3.6/dist-packages/keras/backend/tensorflow_backend.py:4432: The name tf.random_uniform is deprecated. Please use tf.random.uniform instead.\n",
            "\n"
          ],
          "name": "stdout"
        }
      ]
    },
    {
      "cell_type": "code",
      "metadata": {
        "id": "HRp_OCx8QNXd",
        "colab_type": "code",
        "outputId": "c943b656-23bb-4339-8ef7-bcf4754eb259",
        "colab": {
          "base_uri": "https://localhost:8080/",
          "height": 255
        }
      },
      "source": [
        "# Show model information\n",
        "model.summary()"
      ],
      "execution_count": 0,
      "outputs": [
        {
          "output_type": "stream",
          "text": [
            "Model: \"sequential_1\"\n",
            "_________________________________________________________________\n",
            "Layer (type)                 Output Shape              Param #   \n",
            "=================================================================\n",
            "dense_1 (Dense)              (None, 16)                336       \n",
            "_________________________________________________________________\n",
            "dense_2 (Dense)              (None, 12)                204       \n",
            "_________________________________________________________________\n",
            "dense_3 (Dense)              (None, 4)                 52        \n",
            "=================================================================\n",
            "Total params: 592\n",
            "Trainable params: 592\n",
            "Non-trainable params: 0\n",
            "_________________________________________________________________\n"
          ],
          "name": "stdout"
        }
      ]
    },
    {
      "cell_type": "markdown",
      "metadata": {
        "id": "fBhIc1LbQfEC",
        "colab_type": "text"
      },
      "source": [
        "The number of parameters of each layer is obtained as follows:\n",
        "\n",
        "\n",
        "*   params_dense_1 = (input_var_num + 1) * dense_1_neurons = (20 + 1) * 16 = 336\n",
        "*   params_dense_2 = (dense_1_neurons + 1) * dense_2_neurons = (16 + 1) * 12 =      204\n",
        "*   params_dense_3 = (dense_2_neurons + 1) * dense_3_neurons = (12 + 1) * 4 =      52\n",
        "\n",
        "Where +1 comes from the bias term added in each layer.\n",
        "\n",
        "\n"
      ]
    },
    {
      "cell_type": "markdown",
      "metadata": {
        "id": "_pSRNx4w9UKo",
        "colab_type": "text"
      },
      "source": [
        "## 4. Choose loss function and optimizer\n"
      ]
    },
    {
      "cell_type": "code",
      "metadata": {
        "id": "zBF6dr1oSRIC",
        "colab_type": "code",
        "outputId": "24f5726a-0b56-41fa-efcd-e6327ab1fd68",
        "colab": {
          "base_uri": "https://localhost:8080/",
          "height": 105
        }
      },
      "source": [
        "# Choose loss function, optimizer and training metrics\n",
        "model.compile(loss='categorical_crossentropy', optimizer='adam', \n",
        "              metrics=['accuracy'])"
      ],
      "execution_count": 0,
      "outputs": [
        {
          "output_type": "stream",
          "text": [
            "WARNING:tensorflow:From /usr/local/lib/python3.6/dist-packages/keras/optimizers.py:793: The name tf.train.Optimizer is deprecated. Please use tf.compat.v1.train.Optimizer instead.\n",
            "\n",
            "WARNING:tensorflow:From /usr/local/lib/python3.6/dist-packages/keras/backend/tensorflow_backend.py:3576: The name tf.log is deprecated. Please use tf.math.log instead.\n",
            "\n"
          ],
          "name": "stdout"
        }
      ]
    },
    {
      "cell_type": "markdown",
      "metadata": {
        "id": "CgyWHPSG9wZ1",
        "colab_type": "text"
      },
      "source": [
        "## 5. Train the network\n",
        "\n"
      ]
    },
    {
      "cell_type": "code",
      "metadata": {
        "id": "97AQk6XZ92pZ",
        "colab_type": "code",
        "outputId": "377427ce-369a-42f1-b917-02e9f404ad37",
        "colab": {
          "base_uri": "https://localhost:8080/",
          "height": 1000
        }
      },
      "source": [
        "# Choose number of epochs and batch size and train the model\n",
        "history = model.fit(X_train, y_train, epochs=100, batch_size=64, \n",
        "                    validation_data=(X_val, y_val))"
      ],
      "execution_count": 0,
      "outputs": [
        {
          "output_type": "stream",
          "text": [
            "WARNING:tensorflow:From /usr/local/lib/python3.6/dist-packages/tensorflow_core/python/ops/math_grad.py:1424: where (from tensorflow.python.ops.array_ops) is deprecated and will be removed in a future version.\n",
            "Instructions for updating:\n",
            "Use tf.where in 2.0, which has the same broadcast rule as np.where\n",
            "WARNING:tensorflow:From /usr/local/lib/python3.6/dist-packages/keras/backend/tensorflow_backend.py:1033: The name tf.assign_add is deprecated. Please use tf.compat.v1.assign_add instead.\n",
            "\n",
            "WARNING:tensorflow:From /usr/local/lib/python3.6/dist-packages/keras/backend/tensorflow_backend.py:1020: The name tf.assign is deprecated. Please use tf.compat.v1.assign instead.\n",
            "\n",
            "WARNING:tensorflow:From /usr/local/lib/python3.6/dist-packages/keras/backend/tensorflow_backend.py:3005: The name tf.Session is deprecated. Please use tf.compat.v1.Session instead.\n",
            "\n",
            "Train on 1800 samples, validate on 200 samples\n",
            "Epoch 1/100\n",
            "WARNING:tensorflow:From /usr/local/lib/python3.6/dist-packages/keras/backend/tensorflow_backend.py:190: The name tf.get_default_session is deprecated. Please use tf.compat.v1.get_default_session instead.\n",
            "\n",
            "WARNING:tensorflow:From /usr/local/lib/python3.6/dist-packages/keras/backend/tensorflow_backend.py:197: The name tf.ConfigProto is deprecated. Please use tf.compat.v1.ConfigProto instead.\n",
            "\n",
            "WARNING:tensorflow:From /usr/local/lib/python3.6/dist-packages/keras/backend/tensorflow_backend.py:207: The name tf.global_variables is deprecated. Please use tf.compat.v1.global_variables instead.\n",
            "\n",
            "WARNING:tensorflow:From /usr/local/lib/python3.6/dist-packages/keras/backend/tensorflow_backend.py:216: The name tf.is_variable_initialized is deprecated. Please use tf.compat.v1.is_variable_initialized instead.\n",
            "\n",
            "WARNING:tensorflow:From /usr/local/lib/python3.6/dist-packages/keras/backend/tensorflow_backend.py:223: The name tf.variables_initializer is deprecated. Please use tf.compat.v1.variables_initializer instead.\n",
            "\n",
            "1800/1800 [==============================] - 1s 375us/step - loss: 1.5578 - acc: 0.2289 - val_loss: 1.4994 - val_acc: 0.2700\n",
            "Epoch 2/100\n",
            "1800/1800 [==============================] - 0s 26us/step - loss: 1.4371 - acc: 0.2778 - val_loss: 1.4186 - val_acc: 0.3000\n",
            "Epoch 3/100\n",
            "1800/1800 [==============================] - 0s 22us/step - loss: 1.3768 - acc: 0.3156 - val_loss: 1.3719 - val_acc: 0.3100\n",
            "Epoch 4/100\n",
            "1800/1800 [==============================] - 0s 22us/step - loss: 1.3300 - acc: 0.3528 - val_loss: 1.3242 - val_acc: 0.3350\n",
            "Epoch 5/100\n",
            "1800/1800 [==============================] - 0s 21us/step - loss: 1.2827 - acc: 0.3900 - val_loss: 1.2709 - val_acc: 0.3750\n",
            "Epoch 6/100\n",
            "1800/1800 [==============================] - 0s 23us/step - loss: 1.2279 - acc: 0.4350 - val_loss: 1.2160 - val_acc: 0.4050\n",
            "Epoch 7/100\n",
            "1800/1800 [==============================] - 0s 22us/step - loss: 1.1639 - acc: 0.4967 - val_loss: 1.1430 - val_acc: 0.5000\n",
            "Epoch 8/100\n",
            "1800/1800 [==============================] - 0s 24us/step - loss: 1.0893 - acc: 0.5528 - val_loss: 1.0628 - val_acc: 0.5500\n",
            "Epoch 9/100\n",
            "1800/1800 [==============================] - 0s 22us/step - loss: 1.0079 - acc: 0.5950 - val_loss: 0.9788 - val_acc: 0.5700\n",
            "Epoch 10/100\n",
            "1800/1800 [==============================] - 0s 22us/step - loss: 0.9264 - acc: 0.6233 - val_loss: 0.8957 - val_acc: 0.6000\n",
            "Epoch 11/100\n",
            "1800/1800 [==============================] - 0s 22us/step - loss: 0.8478 - acc: 0.6594 - val_loss: 0.8189 - val_acc: 0.6650\n",
            "Epoch 12/100\n",
            "1800/1800 [==============================] - 0s 22us/step - loss: 0.7755 - acc: 0.7011 - val_loss: 0.7489 - val_acc: 0.6750\n",
            "Epoch 13/100\n",
            "1800/1800 [==============================] - 0s 21us/step - loss: 0.7115 - acc: 0.7267 - val_loss: 0.6885 - val_acc: 0.7050\n",
            "Epoch 14/100\n",
            "1800/1800 [==============================] - 0s 22us/step - loss: 0.6538 - acc: 0.7600 - val_loss: 0.6336 - val_acc: 0.7450\n",
            "Epoch 15/100\n",
            "1800/1800 [==============================] - 0s 23us/step - loss: 0.6021 - acc: 0.7739 - val_loss: 0.5863 - val_acc: 0.7800\n",
            "Epoch 16/100\n",
            "1800/1800 [==============================] - 0s 23us/step - loss: 0.5572 - acc: 0.7944 - val_loss: 0.5454 - val_acc: 0.8200\n",
            "Epoch 17/100\n",
            "1800/1800 [==============================] - 0s 22us/step - loss: 0.5176 - acc: 0.8150 - val_loss: 0.5080 - val_acc: 0.8400\n",
            "Epoch 18/100\n",
            "1800/1800 [==============================] - 0s 21us/step - loss: 0.4811 - acc: 0.8422 - val_loss: 0.4733 - val_acc: 0.8550\n",
            "Epoch 19/100\n",
            "1800/1800 [==============================] - 0s 23us/step - loss: 0.4491 - acc: 0.8528 - val_loss: 0.4438 - val_acc: 0.8700\n",
            "Epoch 20/100\n",
            "1800/1800 [==============================] - 0s 21us/step - loss: 0.4199 - acc: 0.8644 - val_loss: 0.4201 - val_acc: 0.8700\n",
            "Epoch 21/100\n",
            "1800/1800 [==============================] - 0s 23us/step - loss: 0.3940 - acc: 0.8767 - val_loss: 0.3958 - val_acc: 0.8800\n",
            "Epoch 22/100\n",
            "1800/1800 [==============================] - 0s 22us/step - loss: 0.3714 - acc: 0.8883 - val_loss: 0.3717 - val_acc: 0.8850\n",
            "Epoch 23/100\n",
            "1800/1800 [==============================] - 0s 21us/step - loss: 0.3484 - acc: 0.8961 - val_loss: 0.3559 - val_acc: 0.8850\n",
            "Epoch 24/100\n",
            "1800/1800 [==============================] - 0s 22us/step - loss: 0.3285 - acc: 0.9033 - val_loss: 0.3417 - val_acc: 0.8950\n",
            "Epoch 25/100\n",
            "1800/1800 [==============================] - 0s 21us/step - loss: 0.3097 - acc: 0.9100 - val_loss: 0.3319 - val_acc: 0.9100\n",
            "Epoch 26/100\n",
            "1800/1800 [==============================] - 0s 21us/step - loss: 0.2934 - acc: 0.9122 - val_loss: 0.3125 - val_acc: 0.9100\n",
            "Epoch 27/100\n",
            "1800/1800 [==============================] - 0s 24us/step - loss: 0.2764 - acc: 0.9206 - val_loss: 0.3081 - val_acc: 0.9050\n",
            "Epoch 28/100\n",
            "1800/1800 [==============================] - 0s 24us/step - loss: 0.2627 - acc: 0.9233 - val_loss: 0.2914 - val_acc: 0.9100\n",
            "Epoch 29/100\n",
            "1800/1800 [==============================] - 0s 23us/step - loss: 0.2489 - acc: 0.9250 - val_loss: 0.2858 - val_acc: 0.9050\n",
            "Epoch 30/100\n",
            "1800/1800 [==============================] - 0s 20us/step - loss: 0.2374 - acc: 0.9322 - val_loss: 0.2777 - val_acc: 0.9100\n",
            "Epoch 31/100\n",
            "1800/1800 [==============================] - 0s 21us/step - loss: 0.2266 - acc: 0.9339 - val_loss: 0.2714 - val_acc: 0.9100\n",
            "Epoch 32/100\n",
            "1800/1800 [==============================] - 0s 22us/step - loss: 0.2173 - acc: 0.9350 - val_loss: 0.2641 - val_acc: 0.9000\n",
            "Epoch 33/100\n",
            "1800/1800 [==============================] - 0s 21us/step - loss: 0.2091 - acc: 0.9367 - val_loss: 0.2610 - val_acc: 0.8950\n",
            "Epoch 34/100\n",
            "1800/1800 [==============================] - 0s 21us/step - loss: 0.2017 - acc: 0.9406 - val_loss: 0.2580 - val_acc: 0.9050\n",
            "Epoch 35/100\n",
            "1800/1800 [==============================] - 0s 21us/step - loss: 0.1930 - acc: 0.9433 - val_loss: 0.2443 - val_acc: 0.9050\n",
            "Epoch 36/100\n",
            "1800/1800 [==============================] - 0s 22us/step - loss: 0.1860 - acc: 0.9456 - val_loss: 0.2430 - val_acc: 0.9050\n",
            "Epoch 37/100\n",
            "1800/1800 [==============================] - 0s 25us/step - loss: 0.1806 - acc: 0.9472 - val_loss: 0.2413 - val_acc: 0.9100\n",
            "Epoch 38/100\n",
            "1800/1800 [==============================] - 0s 24us/step - loss: 0.1746 - acc: 0.9461 - val_loss: 0.2382 - val_acc: 0.9150\n",
            "Epoch 39/100\n",
            "1800/1800 [==============================] - 0s 23us/step - loss: 0.1691 - acc: 0.9483 - val_loss: 0.2259 - val_acc: 0.9100\n",
            "Epoch 40/100\n",
            "1800/1800 [==============================] - 0s 23us/step - loss: 0.1640 - acc: 0.9506 - val_loss: 0.2297 - val_acc: 0.9050\n",
            "Epoch 41/100\n",
            "1800/1800 [==============================] - 0s 21us/step - loss: 0.1598 - acc: 0.9489 - val_loss: 0.2384 - val_acc: 0.9000\n",
            "Epoch 42/100\n",
            "1800/1800 [==============================] - 0s 22us/step - loss: 0.1552 - acc: 0.9539 - val_loss: 0.2206 - val_acc: 0.9100\n",
            "Epoch 43/100\n",
            "1800/1800 [==============================] - 0s 25us/step - loss: 0.1501 - acc: 0.9561 - val_loss: 0.2176 - val_acc: 0.9150\n",
            "Epoch 44/100\n",
            "1800/1800 [==============================] - 0s 21us/step - loss: 0.1465 - acc: 0.9556 - val_loss: 0.2156 - val_acc: 0.9150\n",
            "Epoch 45/100\n",
            "1800/1800 [==============================] - 0s 21us/step - loss: 0.1423 - acc: 0.9594 - val_loss: 0.2214 - val_acc: 0.9250\n",
            "Epoch 46/100\n",
            "1800/1800 [==============================] - 0s 23us/step - loss: 0.1384 - acc: 0.9600 - val_loss: 0.2100 - val_acc: 0.9200\n",
            "Epoch 47/100\n",
            "1800/1800 [==============================] - 0s 22us/step - loss: 0.1348 - acc: 0.9622 - val_loss: 0.2125 - val_acc: 0.9200\n",
            "Epoch 48/100\n",
            "1800/1800 [==============================] - 0s 21us/step - loss: 0.1324 - acc: 0.9639 - val_loss: 0.2103 - val_acc: 0.9200\n",
            "Epoch 49/100\n",
            "1800/1800 [==============================] - 0s 22us/step - loss: 0.1285 - acc: 0.9633 - val_loss: 0.2052 - val_acc: 0.9200\n",
            "Epoch 50/100\n",
            "1800/1800 [==============================] - 0s 24us/step - loss: 0.1263 - acc: 0.9633 - val_loss: 0.2037 - val_acc: 0.9250\n",
            "Epoch 51/100\n",
            "1800/1800 [==============================] - 0s 22us/step - loss: 0.1233 - acc: 0.9633 - val_loss: 0.2033 - val_acc: 0.9150\n",
            "Epoch 52/100\n",
            "1800/1800 [==============================] - 0s 22us/step - loss: 0.1205 - acc: 0.9667 - val_loss: 0.1996 - val_acc: 0.9100\n",
            "Epoch 53/100\n",
            "1800/1800 [==============================] - 0s 23us/step - loss: 0.1188 - acc: 0.9667 - val_loss: 0.2005 - val_acc: 0.9150\n",
            "Epoch 54/100\n",
            "1800/1800 [==============================] - 0s 21us/step - loss: 0.1172 - acc: 0.9672 - val_loss: 0.1976 - val_acc: 0.9150\n",
            "Epoch 55/100\n",
            "1800/1800 [==============================] - 0s 21us/step - loss: 0.1132 - acc: 0.9622 - val_loss: 0.1988 - val_acc: 0.9250\n",
            "Epoch 56/100\n",
            "1800/1800 [==============================] - 0s 24us/step - loss: 0.1101 - acc: 0.9683 - val_loss: 0.1974 - val_acc: 0.9250\n",
            "Epoch 57/100\n",
            "1800/1800 [==============================] - 0s 27us/step - loss: 0.1086 - acc: 0.9700 - val_loss: 0.2088 - val_acc: 0.9250\n",
            "Epoch 58/100\n",
            "1800/1800 [==============================] - 0s 21us/step - loss: 0.1059 - acc: 0.9700 - val_loss: 0.1956 - val_acc: 0.9250\n",
            "Epoch 59/100\n",
            "1800/1800 [==============================] - 0s 21us/step - loss: 0.1032 - acc: 0.9717 - val_loss: 0.1974 - val_acc: 0.9200\n",
            "Epoch 60/100\n",
            "1800/1800 [==============================] - 0s 21us/step - loss: 0.1019 - acc: 0.9694 - val_loss: 0.1985 - val_acc: 0.9250\n",
            "Epoch 61/100\n",
            "1800/1800 [==============================] - 0s 21us/step - loss: 0.1005 - acc: 0.9694 - val_loss: 0.2004 - val_acc: 0.9200\n",
            "Epoch 62/100\n",
            "1800/1800 [==============================] - 0s 21us/step - loss: 0.0971 - acc: 0.9728 - val_loss: 0.1951 - val_acc: 0.9250\n",
            "Epoch 63/100\n",
            "1800/1800 [==============================] - 0s 25us/step - loss: 0.0954 - acc: 0.9739 - val_loss: 0.1945 - val_acc: 0.9250\n",
            "Epoch 64/100\n",
            "1800/1800 [==============================] - 0s 24us/step - loss: 0.0935 - acc: 0.9744 - val_loss: 0.1888 - val_acc: 0.9250\n",
            "Epoch 65/100\n",
            "1800/1800 [==============================] - 0s 22us/step - loss: 0.0919 - acc: 0.9728 - val_loss: 0.1925 - val_acc: 0.9300\n",
            "Epoch 66/100\n",
            "1800/1800 [==============================] - 0s 23us/step - loss: 0.0899 - acc: 0.9739 - val_loss: 0.1886 - val_acc: 0.9300\n",
            "Epoch 67/100\n",
            "1800/1800 [==============================] - 0s 23us/step - loss: 0.0881 - acc: 0.9772 - val_loss: 0.1822 - val_acc: 0.9300\n",
            "Epoch 68/100\n",
            "1800/1800 [==============================] - 0s 23us/step - loss: 0.0863 - acc: 0.9767 - val_loss: 0.1861 - val_acc: 0.9300\n",
            "Epoch 69/100\n",
            "1800/1800 [==============================] - 0s 23us/step - loss: 0.0845 - acc: 0.9778 - val_loss: 0.1845 - val_acc: 0.9350\n",
            "Epoch 70/100\n",
            "1800/1800 [==============================] - 0s 22us/step - loss: 0.0830 - acc: 0.9783 - val_loss: 0.1820 - val_acc: 0.9300\n",
            "Epoch 71/100\n",
            "1800/1800 [==============================] - 0s 22us/step - loss: 0.0825 - acc: 0.9761 - val_loss: 0.1819 - val_acc: 0.9350\n",
            "Epoch 72/100\n",
            "1800/1800 [==============================] - 0s 21us/step - loss: 0.0801 - acc: 0.9756 - val_loss: 0.1797 - val_acc: 0.9300\n",
            "Epoch 73/100\n",
            "1800/1800 [==============================] - 0s 22us/step - loss: 0.0799 - acc: 0.9767 - val_loss: 0.1810 - val_acc: 0.9350\n",
            "Epoch 74/100\n",
            "1800/1800 [==============================] - 0s 22us/step - loss: 0.0773 - acc: 0.9772 - val_loss: 0.1784 - val_acc: 0.9350\n",
            "Epoch 75/100\n",
            "1800/1800 [==============================] - 0s 21us/step - loss: 0.0769 - acc: 0.9789 - val_loss: 0.1705 - val_acc: 0.9400\n",
            "Epoch 76/100\n",
            "1800/1800 [==============================] - 0s 21us/step - loss: 0.0738 - acc: 0.9800 - val_loss: 0.1799 - val_acc: 0.9300\n",
            "Epoch 77/100\n",
            "1800/1800 [==============================] - 0s 21us/step - loss: 0.0731 - acc: 0.9811 - val_loss: 0.1784 - val_acc: 0.9350\n",
            "Epoch 78/100\n",
            "1800/1800 [==============================] - 0s 23us/step - loss: 0.0714 - acc: 0.9833 - val_loss: 0.1808 - val_acc: 0.9400\n",
            "Epoch 79/100\n",
            "1800/1800 [==============================] - 0s 22us/step - loss: 0.0705 - acc: 0.9822 - val_loss: 0.1853 - val_acc: 0.9250\n",
            "Epoch 80/100\n",
            "1800/1800 [==============================] - 0s 23us/step - loss: 0.0702 - acc: 0.9811 - val_loss: 0.1831 - val_acc: 0.9250\n",
            "Epoch 81/100\n",
            "1800/1800 [==============================] - 0s 22us/step - loss: 0.0678 - acc: 0.9850 - val_loss: 0.1768 - val_acc: 0.9300\n",
            "Epoch 82/100\n",
            "1800/1800 [==============================] - 0s 22us/step - loss: 0.0660 - acc: 0.9856 - val_loss: 0.1720 - val_acc: 0.9350\n",
            "Epoch 83/100\n",
            "1800/1800 [==============================] - 0s 22us/step - loss: 0.0640 - acc: 0.9867 - val_loss: 0.1759 - val_acc: 0.9400\n",
            "Epoch 84/100\n",
            "1800/1800 [==============================] - 0s 20us/step - loss: 0.0635 - acc: 0.9878 - val_loss: 0.1907 - val_acc: 0.9250\n",
            "Epoch 85/100\n",
            "1800/1800 [==============================] - 0s 21us/step - loss: 0.0628 - acc: 0.9872 - val_loss: 0.1773 - val_acc: 0.9300\n",
            "Epoch 86/100\n",
            "1800/1800 [==============================] - 0s 23us/step - loss: 0.0606 - acc: 0.9867 - val_loss: 0.1781 - val_acc: 0.9300\n",
            "Epoch 87/100\n",
            "1800/1800 [==============================] - 0s 23us/step - loss: 0.0601 - acc: 0.9906 - val_loss: 0.1780 - val_acc: 0.9250\n",
            "Epoch 88/100\n",
            "1800/1800 [==============================] - 0s 25us/step - loss: 0.0610 - acc: 0.9894 - val_loss: 0.1613 - val_acc: 0.9450\n",
            "Epoch 89/100\n",
            "1800/1800 [==============================] - 0s 21us/step - loss: 0.0607 - acc: 0.9861 - val_loss: 0.1694 - val_acc: 0.9350\n",
            "Epoch 90/100\n",
            "1800/1800 [==============================] - 0s 24us/step - loss: 0.0581 - acc: 0.9889 - val_loss: 0.1792 - val_acc: 0.9300\n",
            "Epoch 91/100\n",
            "1800/1800 [==============================] - 0s 21us/step - loss: 0.0570 - acc: 0.9883 - val_loss: 0.1721 - val_acc: 0.9300\n",
            "Epoch 92/100\n",
            "1800/1800 [==============================] - 0s 22us/step - loss: 0.0557 - acc: 0.9867 - val_loss: 0.1752 - val_acc: 0.9350\n",
            "Epoch 93/100\n",
            "1800/1800 [==============================] - 0s 21us/step - loss: 0.0539 - acc: 0.9911 - val_loss: 0.1800 - val_acc: 0.9250\n",
            "Epoch 94/100\n",
            "1800/1800 [==============================] - 0s 21us/step - loss: 0.0529 - acc: 0.9906 - val_loss: 0.1756 - val_acc: 0.9350\n",
            "Epoch 95/100\n",
            "1800/1800 [==============================] - 0s 24us/step - loss: 0.0518 - acc: 0.9922 - val_loss: 0.1749 - val_acc: 0.9250\n",
            "Epoch 96/100\n",
            "1800/1800 [==============================] - 0s 24us/step - loss: 0.0515 - acc: 0.9906 - val_loss: 0.1840 - val_acc: 0.9300\n",
            "Epoch 97/100\n",
            "1800/1800 [==============================] - 0s 24us/step - loss: 0.0498 - acc: 0.9917 - val_loss: 0.1699 - val_acc: 0.9350\n",
            "Epoch 98/100\n",
            "1800/1800 [==============================] - 0s 22us/step - loss: 0.0493 - acc: 0.9922 - val_loss: 0.1778 - val_acc: 0.9300\n",
            "Epoch 99/100\n",
            "1800/1800 [==============================] - 0s 22us/step - loss: 0.0480 - acc: 0.9933 - val_loss: 0.1668 - val_acc: 0.9300\n",
            "Epoch 100/100\n",
            "1800/1800 [==============================] - 0s 21us/step - loss: 0.0487 - acc: 0.9900 - val_loss: 0.1831 - val_acc: 0.9350\n"
          ],
          "name": "stdout"
        }
      ]
    },
    {
      "cell_type": "code",
      "metadata": {
        "id": "bCIrA7nQTjV8",
        "colab_type": "code",
        "colab": {}
      },
      "source": [
        "# Import dependence for plotting training process \n",
        "import matplotlib.pyplot as plt"
      ],
      "execution_count": 0,
      "outputs": []
    },
    {
      "cell_type": "code",
      "metadata": {
        "id": "_5VTbyxsSeOh",
        "colab_type": "code",
        "outputId": "fb91aa24-888d-4d9f-d431-73ea799a41e3",
        "colab": {
          "base_uri": "https://localhost:8080/",
          "height": 295
        }
      },
      "source": [
        "# Plot training and validation accuracy\n",
        "plt.plot(history.history['acc'])\n",
        "plt.plot(history.history['val_acc'])\n",
        "plt.title('Model accuracy')\n",
        "plt.ylabel('Accuracy')\n",
        "plt.xlabel('Epoch')\n",
        "plt.legend(['Train', 'Val'], loc='upper left')\n",
        "plt.show()"
      ],
      "execution_count": 0,
      "outputs": [
        {
          "output_type": "display_data",
          "data": {
            "image/png": "[encoded data removed]",
            "text/plain": [
              "<Figure size 432x288 with 1 Axes>"
            ]
          },
          "metadata": {
            "tags": []
          }
        }
      ]
    },
    {
      "cell_type": "code",
      "metadata": {
        "id": "_d47pYo5TUEm",
        "colab_type": "code",
        "outputId": "49480474-b9a1-4a2e-b929-63084cf3cccd",
        "colab": {
          "base_uri": "https://localhost:8080/",
          "height": 295
        }
      },
      "source": [
        "# Plot training and test loss\n",
        "plt.plot(history.history['loss']) \n",
        "plt.plot(history.history['val_loss']) \n",
        "plt.title('Model loss') \n",
        "plt.ylabel('Loss')\n",
        "plt.xlabel('Epoch') \n",
        "plt.legend(['Train', 'Val'], loc='upper left') \n",
        "plt.show()"
      ],
      "execution_count": 0,
      "outputs": [
        {
          "output_type": "display_data",
          "data": {
            "image/png": "[encoded data removed]",
            "text/plain": [
              "<Figure size 432x288 with 1 Axes>"
            ]
          },
          "metadata": {
            "tags": []
          }
        }
      ]
    },
    {
      "cell_type": "code",
      "metadata": {
        "id": "6klS2OaQJwAK",
        "colab_type": "code",
        "colab": {}
      },
      "source": [
        "# Save the model\n",
        "from pathlib import Path\n",
        "path = Path('./models')\n",
        "if not path.exists():\n",
        "  path.mkdir()\n",
        "model.save('./models/model_1.h5')"
      ],
      "execution_count": 0,
      "outputs": []
    },
    {
      "cell_type": "code",
      "metadata": {
        "id": "Ss_CZ2veKTMl",
        "colab_type": "code",
        "outputId": "b3c9ed87-4c08-4f28-c916-6a34bbf78239",
        "colab": {
          "base_uri": "https://localhost:8080/",
          "height": 34
        }
      },
      "source": [
        "# List files of ./models directory\n",
        "ls ./models"
      ],
      "execution_count": 0,
      "outputs": [
        {
          "output_type": "stream",
          "text": [
            "model_1.h5\n"
          ],
          "name": "stdout"
        }
      ]
    }
  ]
}