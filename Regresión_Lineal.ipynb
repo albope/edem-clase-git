{
  "nbformat": 4,
  "nbformat_minor": 0,
  "metadata": {
    "kernelspec": {
      "display_name": "Python [default]",
      "language": "python",
      "name": "python3"
    },
    "language_info": {
      "codemirror_mode": {
        "name": "ipython",
        "version": 3
      },
      "file_extension": ".py",
      "mimetype": "text/x-python",
      "name": "python",
      "nbconvert_exporter": "python",
      "pygments_lexer": "ipython3",
      "version": "3.6.3"
    },
    "colab": {
      "name": "Regresión Lineal.ipynb",
      "provenance": [],
      "include_colab_link": true
    }
  },
  "cells": [
    {
      "cell_type": "markdown",
      "metadata": {
        "id": "view-in-github",
        "colab_type": "text"
      },
      "source": [
        "<a href=\"https://colab.research.google.com/github/albope/master-data-analytics-content/blob/master/Regresi%C3%B3n_Lineal.ipynb\" target=\"_parent\"><img src=\"https://colab.research.google.com/assets/colab-badge.svg\" alt=\"Open In Colab\"/></a>"
      ]
    },
    {
      "cell_type": "markdown",
      "metadata": {
        "id": "7hOEjWNVebRi",
        "colab_type": "text"
      },
      "source": [
        "# Introducción a Regresión Lineal\n",
        "\n",
        "\n",
        "||continuous|categorical|\n",
        "|---|---|---|\n",
        "|**supervised**|**regression**|classification|\n",
        "|**unsupervised**|dimension reduction|clustering|\n",
        "\n",
        "## Motivación\n",
        "\n",
        "Puntos a favor:\n",
        "\n",
        "- Muy usada.\n",
        "- Rápida.\n",
        "- Fácil de usar (solo hiperparámetros de regularización).\n",
        "- Muy interpretable.\n",
        "- Primer paso para entender otros modelos.\n",
        "\n",
        "Puntos en contra:\n",
        "\n",
        "- Poca capacidad predictiva.\n",
        "- Low variance.\n",
        "- No es capaz de captar no linealidad"
      ]
    },
    {
      "cell_type": "code",
      "metadata": {
        "id": "tHWso1GuebRl",
        "colab_type": "code",
        "colab": {}
      },
      "source": [
        "# imports\n",
        "import pandas as pd\n",
        "import matplotlib.pyplot as plt\n",
        "import numpy as np\n",
        "from sklearn.model_selection import train_test_split\n",
        "\n",
        "# this allows plots to appear directly in the notebook\n",
        "%matplotlib inline"
      ],
      "execution_count": 0,
      "outputs": []
    },
    {
      "cell_type": "markdown",
      "metadata": {
        "id": "_KfLI7WqebRo",
        "colab_type": "text"
      },
      "source": [
        "## Datos\n",
        "\n",
        "Primero leamos los datos con los que vamos a trabajar, el dataset iris."
      ]
    },
    {
      "cell_type": "code",
      "metadata": {
        "id": "wK5IkdwQebRp",
        "colab_type": "code",
        "colab": {}
      },
      "source": [
        "# read data into a DataFrame\n",
        "from sklearn.datasets import load_iris;\n",
        "iris = load_iris();\n",
        "X = pd.DataFrame(iris.data, columns=['sepal_length', 'sepal_width', 'petal_length','petal_width']);\n",
        "y = iris.target;"
      ],
      "execution_count": 0,
      "outputs": []
    },
    {
      "cell_type": "markdown",
      "metadata": {
        "id": "PJ3lpQInebRs",
        "colab_type": "text"
      },
      "source": [
        "150 filas y 4 variables:\n",
        "    \n",
        "- sepal length in cm\n",
        "- sepal width in cm\n",
        "- petal length in cm\n",
        "- petal width in cm"
      ]
    },
    {
      "cell_type": "code",
      "metadata": {
        "id": "ozmaJ__xebRt",
        "colab_type": "code",
        "outputId": "7b8e7221-0caf-4375-8d7e-56c54010e92d",
        "colab": {
          "base_uri": "https://localhost:8080/",
          "height": 34
        }
      },
      "source": [
        "X.shape"
      ],
      "execution_count": 0,
      "outputs": [
        {
          "output_type": "execute_result",
          "data": {
            "text/plain": [
              "(150, 4)"
            ]
          },
          "metadata": {
            "tags": []
          },
          "execution_count": 7
        }
      ]
    },
    {
      "cell_type": "code",
      "metadata": {
        "id": "2OMw7qhAebRw",
        "colab_type": "code",
        "outputId": "e1f37da2-efa4-4688-b3af-c0e473f7c881",
        "colab": {
          "base_uri": "https://localhost:8080/",
          "height": 195
        }
      },
      "source": [
        "X.head()"
      ],
      "execution_count": 0,
      "outputs": [
        {
          "output_type": "execute_result",
          "data": {
            "text/html": [
              "<div>\n",
              "<style scoped>\n",
              "    .dataframe tbody tr th:only-of-type {\n",
              "        vertical-align: middle;\n",
              "    }\n",
              "\n",
              "    .dataframe tbody tr th {\n",
              "        vertical-align: top;\n",
              "    }\n",
              "\n",
              "    .dataframe thead th {\n",
              "        text-align: right;\n",
              "    }\n",
              "</style>\n",
              "<table border=\"1\" class=\"dataframe\">\n",
              "  <thead>\n",
              "    <tr style=\"text-align: right;\">\n",
              "      <th></th>\n",
              "      <th>sepal_length</th>\n",
              "      <th>sepal_width</th>\n",
              "      <th>petal_length</th>\n",
              "      <th>petal_width</th>\n",
              "    </tr>\n",
              "  </thead>\n",
              "  <tbody>\n",
              "    <tr>\n",
              "      <th>0</th>\n",
              "      <td>5.1</td>\n",
              "      <td>3.5</td>\n",
              "      <td>1.4</td>\n",
              "      <td>0.2</td>\n",
              "    </tr>\n",
              "    <tr>\n",
              "      <th>1</th>\n",
              "      <td>4.9</td>\n",
              "      <td>3.0</td>\n",
              "      <td>1.4</td>\n",
              "      <td>0.2</td>\n",
              "    </tr>\n",
              "    <tr>\n",
              "      <th>2</th>\n",
              "      <td>4.7</td>\n",
              "      <td>3.2</td>\n",
              "      <td>1.3</td>\n",
              "      <td>0.2</td>\n",
              "    </tr>\n",
              "    <tr>\n",
              "      <th>3</th>\n",
              "      <td>4.6</td>\n",
              "      <td>3.1</td>\n",
              "      <td>1.5</td>\n",
              "      <td>0.2</td>\n",
              "    </tr>\n",
              "    <tr>\n",
              "      <th>4</th>\n",
              "      <td>5.0</td>\n",
              "      <td>3.6</td>\n",
              "      <td>1.4</td>\n",
              "      <td>0.2</td>\n",
              "    </tr>\n",
              "  </tbody>\n",
              "</table>\n",
              "</div>"
            ],
            "text/plain": [
              "   sepal_length  sepal_width  petal_length  petal_width\n",
              "0           5.1          3.5           1.4          0.2\n",
              "1           4.9          3.0           1.4          0.2\n",
              "2           4.7          3.2           1.3          0.2\n",
              "3           4.6          3.1           1.5          0.2\n",
              "4           5.0          3.6           1.4          0.2"
            ]
          },
          "metadata": {
            "tags": []
          },
          "execution_count": 8
        }
      ]
    },
    {
      "cell_type": "code",
      "metadata": {
        "id": "-nyJkNajebRz",
        "colab_type": "code",
        "outputId": "5356e8e2-0a05-4458-b973-a7b989d6ba1c",
        "colab": {}
      },
      "source": [
        "# visualize the relationship between the features and the response using scatterplots\n",
        "X.plot(kind='scatter', x='petal_length', y='petal_width',  figsize=(16, 8))"
      ],
      "execution_count": 0,
      "outputs": [
        {
          "output_type": "execute_result",
          "data": {
            "text/plain": [
              "<matplotlib.axes._subplots.AxesSubplot at 0x1ae1ecdbbe0>"
            ]
          },
          "metadata": {
            "tags": []
          },
          "execution_count": 5
        },
        {
          "output_type": "display_data",
          "data": {
            "image/png": "[encoded data removed]",
            "text/plain": [
              "<matplotlib.figure.Figure at 0x1ae1ecdb7f0>"
            ]
          },
          "metadata": {
            "tags": []
          }
        }
      ]
    },
    {
      "cell_type": "markdown",
      "metadata": {
        "id": "4veqJzhQebR2",
        "colab_type": "text"
      },
      "source": [
        "## Split Data"
      ]
    },
    {
      "cell_type": "markdown",
      "metadata": {
        "id": "wqFTA7LqebR2",
        "colab_type": "text"
      },
      "source": [
        "Definimos los porcentajes a usar para el split."
      ]
    },
    {
      "cell_type": "code",
      "metadata": {
        "id": "KoCzK0YJebR3",
        "colab_type": "code",
        "colab": {}
      },
      "source": [
        "perc_values = [0.7, 0.15, 0.15];"
      ],
      "execution_count": 0,
      "outputs": []
    },
    {
      "cell_type": "markdown",
      "metadata": {
        "id": "CIGnQoGfebR6",
        "colab_type": "text"
      },
      "source": [
        "Dividimos en train, validación y test."
      ]
    },
    {
      "cell_type": "code",
      "metadata": {
        "id": "NC46z0yQebR7",
        "colab_type": "code",
        "colab": {}
      },
      "source": [
        "X_train, X_valtest, y_train, y_valtest = train_test_split(X, y, test_size=perc_values[1] + perc_values[2], random_state=1);\n",
        "\n",
        "X_val, X_test, y_val, y_test = train_test_split(X_valtest, y_valtest, test_size= perc_values[2] / (perc_values[1] + perc_values[2]), random_state=1)"
      ],
      "execution_count": 0,
      "outputs": []
    },
    {
      "cell_type": "markdown",
      "metadata": {
        "id": "B00Lcq8oebR9",
        "colab_type": "text"
      },
      "source": [
        "Comprobamos las dimensiones."
      ]
    },
    {
      "cell_type": "code",
      "metadata": {
        "id": "dPqUsIC4ebR-",
        "colab_type": "code",
        "outputId": "7ffc74e8-03cb-48a1-9a28-06612f220a76",
        "colab": {
          "base_uri": "https://localhost:8080/",
          "height": 118
        }
      },
      "source": [
        "print('Train data size = ' + str(X_train.shape))\n",
        "print('Train target size = ' + str(y_train.shape))\n",
        "print('Validation data size = ' + str(X_val.shape))\n",
        "print('Validation target size = ' + str(y_val.shape))\n",
        "print('Test data size = ' + str(X_test.shape))\n",
        "print('Test target size = ' + str(y_test.shape))"
      ],
      "execution_count": 0,
      "outputs": [
        {
          "output_type": "stream",
          "text": [
            "Train data size = (105, 4)\n",
            "Train target size = (105,)\n",
            "Validation data size = (22, 4)\n",
            "Validation target size = (22,)\n",
            "Test data size = (23, 4)\n",
            "Test target size = (23,)\n"
          ],
          "name": "stdout"
        }
      ]
    },
    {
      "cell_type": "markdown",
      "metadata": {
        "id": "MYue71lLebSB",
        "colab_type": "text"
      },
      "source": [
        "## Regresión Lineal. 1 Variable\n",
        "\n",
        "Trata de modelar la relación entre las variables de entrada o patrones y la variable de salida o target mediante la siguiente ecuación:\n",
        "\n",
        "$\\hat{y} = w_0 + w_1x$\n",
        "\n",
        "\n",
        "\n",
        "![imagen.png](attachment:imagen.png)\n",
        "\n",
        "En este caso en concreto:\n",
        "\n",
        "- x = petal_length\n",
        "- y = petal_width.\n",
        "\n",
        "$w_0$ y $w_1$ son en este caso los coeficientes del modelo, es decir, los pesos que tenemos que optimizar al entrenar nuestra regresión lineal sobre el conjunto de train."
      ]
    },
    {
      "cell_type": "markdown",
      "metadata": {
        "id": "EFPe__6nebSC",
        "colab_type": "text"
      },
      "source": [
        "### Estimación de los pesos, w\n",
        "\n",
        "Son aquellos que minimizan una métrica, normalmente llamada función de coste.\n",
        "\n",
        "En la regresión lineal, la función de coste es la distancia al cuadrado entre las predicciones del modelo, 𝑦 ̂, y el valor real del target, 𝑦. Es decir, el MSE."
      ]
    },
    {
      "cell_type": "markdown",
      "metadata": {
        "id": "IRbnrITrebSC",
        "colab_type": "text"
      },
      "source": [
        "<img src=figures/08_estimating_coefficients.png>"
      ]
    },
    {
      "cell_type": "markdown",
      "metadata": {
        "id": "qLKvLQBFebSD",
        "colab_type": "text"
      },
      "source": [
        "Nuestros parámetros $w_0$ y $w_1$ serán calculados para minimizar este error cuadrático. \n",
        "\n",
        "La intuición geométrica de esots parámetros es la siguiente:"
      ]
    },
    {
      "cell_type": "markdown",
      "metadata": {
        "id": "XdG1UIy8ebSE",
        "colab_type": "text"
      },
      "source": [
        "<img src=\"figures/08_slope_intercept.png\">"
      ]
    },
    {
      "cell_type": "markdown",
      "metadata": {
        "id": "uykHU0w2ebSE",
        "colab_type": "text"
      },
      "source": [
        "- $w_0$ es el bias o **intercept** (el valor de $y$ cuando $x=0$)\n",
        "- $w_1$ es la **pendiente** (el incremento de $y$ por cada incremento en $x$)"
      ]
    },
    {
      "cell_type": "markdown",
      "metadata": {
        "id": "nMpd-YpYebSF",
        "colab_type": "text"
      },
      "source": [
        "### Creación del modelo"
      ]
    },
    {
      "cell_type": "markdown",
      "metadata": {
        "id": "DTdDyyFpebSH",
        "colab_type": "text"
      },
      "source": [
        "1) Importar modelo que se quiere emplear."
      ]
    },
    {
      "cell_type": "code",
      "metadata": {
        "collapsed": true,
        "id": "_K6F9hoWebSI",
        "colab_type": "code",
        "colab": {}
      },
      "source": [
        "from sklearn.linear_model import LinearRegression"
      ],
      "execution_count": 0,
      "outputs": []
    },
    {
      "cell_type": "markdown",
      "metadata": {
        "id": "BJyREhM0ebSM",
        "colab_type": "text"
      },
      "source": [
        "2) Importar métrica a emplear."
      ]
    },
    {
      "cell_type": "code",
      "metadata": {
        "collapsed": true,
        "id": "yj5iGT4mebSN",
        "colab_type": "code",
        "colab": {}
      },
      "source": [
        "from sklearn.metrics import mean_absolute_error as metric"
      ],
      "execution_count": 0,
      "outputs": []
    },
    {
      "cell_type": "markdown",
      "metadata": {
        "id": "rhSh7l9IebSQ",
        "colab_type": "text"
      },
      "source": [
        "3) Definir modelo."
      ]
    },
    {
      "cell_type": "code",
      "metadata": {
        "collapsed": true,
        "id": "EjuHztIdebSR",
        "colab_type": "code",
        "colab": {}
      },
      "source": [
        "model = LinearRegression()\n"
      ],
      "execution_count": 0,
      "outputs": []
    },
    {
      "cell_type": "markdown",
      "metadata": {
        "id": "UGtQog7gebSU",
        "colab_type": "text"
      },
      "source": [
        "4) Llamar al método fit para entrenar el modelo."
      ]
    },
    {
      "cell_type": "code",
      "metadata": {
        "id": "poRzzhyEebSU",
        "colab_type": "code",
        "outputId": "02f0add2-b90a-4281-aaa5-cf0aa8aafa73",
        "colab": {}
      },
      "source": [
        "model.fit(X= X_train[['petal_length']], y = X_train['petal_width'])"
      ],
      "execution_count": 0,
      "outputs": [
        {
          "output_type": "execute_result",
          "data": {
            "text/plain": [
              "LinearRegression(copy_X=True, fit_intercept=True, n_jobs=None, normalize=False)"
            ]
          },
          "metadata": {
            "tags": []
          },
          "execution_count": 12
        }
      ]
    },
    {
      "cell_type": "markdown",
      "metadata": {
        "id": "5EAspgDiebSX",
        "colab_type": "text"
      },
      "source": [
        "Veamos los valores de $w_0$ y $w_1$"
      ]
    },
    {
      "cell_type": "code",
      "metadata": {
        "id": "fhcbL9DCebSY",
        "colab_type": "code",
        "outputId": "5880d739-82f9-46ed-a7e1-74349458e483",
        "colab": {}
      },
      "source": [
        "# print intercept and coefficients\n",
        "print ('w_0 = ' + str(model.intercept_))\n",
        "print ('w_1 = ' + str(model.coef_))"
      ],
      "execution_count": 0,
      "outputs": [
        {
          "output_type": "stream",
          "text": [
            "w_0 = -0.38662970426260324\n",
            "w_1 = [0.42190094]\n"
          ],
          "name": "stdout"
        }
      ]
    },
    {
      "cell_type": "markdown",
      "metadata": {
        "id": "98faA58vebSb",
        "colab_type": "text"
      },
      "source": [
        "Es decir:\n",
        "\n",
        "petal_width = -0.38662970426260324 + 0.42190094*petal_length"
      ]
    },
    {
      "cell_type": "markdown",
      "metadata": {
        "id": "a8RMft00ebSc",
        "colab_type": "text"
      },
      "source": [
        "Por tanto, por cada aumento de una unidad en petal_length aumentamos aproximadamente 0.4 unidades en petal_width (pendiente)."
      ]
    },
    {
      "cell_type": "markdown",
      "metadata": {
        "id": "SozuK7FLebSd",
        "colab_type": "text"
      },
      "source": [
        "5) Llamar al método predict para generar las predicciones."
      ]
    },
    {
      "cell_type": "code",
      "metadata": {
        "collapsed": true,
        "id": "GosvOHAgebSe",
        "colab_type": "code",
        "colab": {}
      },
      "source": [
        "pred_train = model.predict(X_train[['petal_length']])\n",
        "pred_val = model.predict(X_val[['petal_length']])\n",
        "pred_test = model.predict(X_test[['petal_length']])"
      ],
      "execution_count": 0,
      "outputs": []
    },
    {
      "cell_type": "code",
      "metadata": {
        "id": "9ghPWSSPebSg",
        "colab_type": "code",
        "outputId": "480ec5ad-deb9-4a80-8e28-124b7b857fe7",
        "colab": {}
      },
      "source": [
        "print(pred_test[0:5])\n",
        "print(np.array(X_test['petal_width'][0:5]))"
      ],
      "execution_count": 0,
      "outputs": [
        {
          "output_type": "stream",
          "text": [
            "[0.16184152 1.46973443 1.55411462 1.51192453 1.722875  ]\n",
            "[0.4 1.4 1.4 1.5 1.7]\n"
          ],
          "name": "stdout"
        }
      ]
    },
    {
      "cell_type": "markdown",
      "metadata": {
        "id": "q2b_PfODebSi",
        "colab_type": "text"
      },
      "source": [
        "En el caso de la regresión lineal podemos calcular las predicciones manualmente."
      ]
    },
    {
      "cell_type": "code",
      "metadata": {
        "collapsed": true,
        "id": "s3RELa4LebSj",
        "colab_type": "code",
        "colab": {}
      },
      "source": [
        "# manually calculate the prediction\n",
        "pred_test_manual = -0.38662970426260324 + 0.42190094*X_test['petal_length']"
      ],
      "execution_count": 0,
      "outputs": []
    },
    {
      "cell_type": "markdown",
      "metadata": {
        "id": "zBdT0Xt4ebSl",
        "colab_type": "text"
      },
      "source": [
        "Vemos que ambas predicciones son idénticas"
      ]
    },
    {
      "cell_type": "code",
      "metadata": {
        "id": "jaQLoVv1ebSm",
        "colab_type": "code",
        "outputId": "916f91a1-89ae-4676-addb-32ed3d6f22f9",
        "colab": {}
      },
      "source": [
        "print(np.array(pred_test_manual[0:5]))\n",
        "print(pred_test[0:5])"
      ],
      "execution_count": 0,
      "outputs": [
        {
          "output_type": "stream",
          "text": [
            "[0.16184152 1.46973443 1.55411462 1.51192453 1.722875  ]\n",
            "[0.16184152 1.46973443 1.55411462 1.51192453 1.722875  ]\n"
          ],
          "name": "stdout"
        }
      ]
    },
    {
      "cell_type": "markdown",
      "metadata": {
        "id": "FPlMZZk6ebSo",
        "colab_type": "text"
      },
      "source": [
        "6) Calcular métrica usando las predicciones obtenidas en el paso anterior."
      ]
    },
    {
      "cell_type": "code",
      "metadata": {
        "collapsed": true,
        "id": "GxPo96awebSo",
        "colab_type": "code",
        "colab": {}
      },
      "source": [
        "mae_train = metric(y_train, pred_train)\n",
        "mae_val = metric(y_val, pred_val)\n",
        "mae_test = metric(y_test, pred_test)\n",
        "results = pd.DataFrame()\n",
        "results = results.append(pd.DataFrame(data={'model':['1 Variable'],'mae_train':[mae_train],'mae_val':[mae_val],'mae_test':[mae_test]}, columns=['model', 'mae_train','mae_val', 'mae_test']), ignore_index=True)"
      ],
      "execution_count": 0,
      "outputs": []
    },
    {
      "cell_type": "code",
      "metadata": {
        "id": "pW9ifpFMebSr",
        "colab_type": "code",
        "outputId": "b8d2cce9-cd1b-42e7-8383-0f09af806e00",
        "colab": {}
      },
      "source": [
        "results"
      ],
      "execution_count": 0,
      "outputs": [
        {
          "output_type": "execute_result",
          "data": {
            "text/html": [
              "<div>\n",
              "<style>\n",
              "    .dataframe thead tr:only-child th {\n",
              "        text-align: right;\n",
              "    }\n",
              "\n",
              "    .dataframe thead th {\n",
              "        text-align: left;\n",
              "    }\n",
              "\n",
              "    .dataframe tbody tr th {\n",
              "        vertical-align: top;\n",
              "    }\n",
              "</style>\n",
              "<table border=\"1\" class=\"dataframe\">\n",
              "  <thead>\n",
              "    <tr style=\"text-align: right;\">\n",
              "      <th></th>\n",
              "      <th>model</th>\n",
              "      <th>mae_train</th>\n",
              "      <th>mae_val</th>\n",
              "      <th>mae_test</th>\n",
              "    </tr>\n",
              "  </thead>\n",
              "  <tbody>\n",
              "    <tr>\n",
              "      <th>0</th>\n",
              "      <td>1 Variable</td>\n",
              "      <td>0.271475</td>\n",
              "      <td>0.289376</td>\n",
              "      <td>0.303618</td>\n",
              "    </tr>\n",
              "  </tbody>\n",
              "</table>\n",
              "</div>"
            ],
            "text/plain": [
              "        model  mae_train   mae_val  mae_test\n",
              "0  1 Variable   0.271475  0.289376  0.303618"
            ]
          },
          "metadata": {
            "tags": []
          },
          "execution_count": 19
        }
      ]
    },
    {
      "cell_type": "markdown",
      "metadata": {
        "id": "3B34jvaxebSt",
        "colab_type": "text"
      },
      "source": [
        "## Visualizar\n",
        "\n",
        "Vamos a visualizar la regresión lineal, para ello hacemos una predicción para el mínimo y máximo valor de petal_length."
      ]
    },
    {
      "cell_type": "code",
      "metadata": {
        "id": "554hjjrUebSt",
        "colab_type": "code",
        "outputId": "c16613f4-f8e1-4c73-dcfc-62ffad8a245c",
        "colab": {}
      },
      "source": [
        "# make predictions for those x values and store them\n",
        "lims = model.predict(np.array([X['petal_length'].min(), X['petal_length'].max()]).reshape(-1, 1))\n",
        "lims"
      ],
      "execution_count": 0,
      "outputs": [
        {
          "output_type": "execute_result",
          "data": {
            "text/plain": [
              "array([0.03527124, 2.52448678])"
            ]
          },
          "metadata": {
            "tags": []
          },
          "execution_count": 20
        }
      ]
    },
    {
      "cell_type": "code",
      "metadata": {
        "id": "MfiEwC4eebSw",
        "colab_type": "code",
        "outputId": "9af4e1b3-ffa7-4d5d-87ee-12273a528f87",
        "colab": {}
      },
      "source": [
        "# first, plot the observed data\n",
        "X.plot(kind='scatter', x='petal_length', y='petal_width')\n",
        "\n",
        "# then, plot the least squares line\n",
        "plt.plot(np.array([X['petal_length'].min(), X['petal_length'].max()]).reshape(-1, 1), lims,c='red', linewidth=2)"
      ],
      "execution_count": 0,
      "outputs": [
        {
          "output_type": "execute_result",
          "data": {
            "text/plain": [
              "[<matplotlib.lines.Line2D at 0x1ae1f1955f8>]"
            ]
          },
          "metadata": {
            "tags": []
          },
          "execution_count": 21
        },
        {
          "output_type": "display_data",
          "data": {
            "image/png": "[encoded data removed]",
            "text/plain": [
              "<matplotlib.figure.Figure at 0x1ae1f160080>"
            ]
          },
          "metadata": {
            "tags": []
          }
        }
      ]
    },
    {
      "cell_type": "markdown",
      "metadata": {
        "id": "7GIy9dD1ebSy",
        "colab_type": "text"
      },
      "source": [
        "En esta gráfica se ve claramente porque la regresión lineal es un modelo de low variance. Recibiendo como input puntos muy distintos apenas varía su valor."
      ]
    },
    {
      "cell_type": "markdown",
      "metadata": {
        "id": "7d68jy9VebSz",
        "colab_type": "text"
      },
      "source": [
        "## Regresión Lineal. Múltiples Variables\n",
        "\n",
        "La regresión lineal se extiende fácilmente a usar varias variables predictoras. En ese la fórmula cambia a:\n",
        "\n",
        "$\\hat{y} = w_0 + w_1x_1 + ... + w_nx_n$\n",
        "\n",
        "En este caso vamos a intentar predecir petal_width en función de las otras variables numéricas, es decir:\n",
        "\n",
        "$petal width = w_0 + w_1 \\times sepal length + w_2 \\times sepal width + w_3 \\times petal length$\n"
      ]
    },
    {
      "cell_type": "markdown",
      "metadata": {
        "id": "l6S6bJfXebS0",
        "colab_type": "text"
      },
      "source": [
        "4) Llamar al método fit para entrenar el modelo."
      ]
    },
    {
      "cell_type": "code",
      "metadata": {
        "id": "bXVV07EPebS0",
        "colab_type": "code",
        "outputId": "5ebe9387-d86f-491f-cc26-ddac3aa3676a",
        "colab": {
          "base_uri": "https://localhost:8080/",
          "height": 162
        }
      },
      "source": [
        "model.fit(X= X_train[['sepal_length', 'sepal_width','petal_length']], y = X_train['petal_width'])"
      ],
      "execution_count": 0,
      "outputs": [
        {
          "output_type": "error",
          "ename": "NameError",
          "evalue": "ignored",
          "traceback": [
            "\u001b[0;31m---------------------------------------------------------------------------\u001b[0m",
            "\u001b[0;31mNameError\u001b[0m                                 Traceback (most recent call last)",
            "\u001b[0;32m<ipython-input-4-d30334aa166c>\u001b[0m in \u001b[0;36m<module>\u001b[0;34m()\u001b[0m\n\u001b[0;32m----> 1\u001b[0;31m \u001b[0mmodel\u001b[0m\u001b[0;34m.\u001b[0m\u001b[0mfit\u001b[0m\u001b[0;34m(\u001b[0m\u001b[0mX\u001b[0m\u001b[0;34m=\u001b[0m \u001b[0mX_train\u001b[0m\u001b[0;34m[\u001b[0m\u001b[0;34m[\u001b[0m\u001b[0;34m'sepal_length'\u001b[0m\u001b[0;34m,\u001b[0m \u001b[0;34m'sepal_width'\u001b[0m\u001b[0;34m,\u001b[0m\u001b[0;34m'petal_length'\u001b[0m\u001b[0;34m]\u001b[0m\u001b[0;34m]\u001b[0m\u001b[0;34m,\u001b[0m \u001b[0my\u001b[0m \u001b[0;34m=\u001b[0m \u001b[0mX_train\u001b[0m\u001b[0;34m[\u001b[0m\u001b[0;34m'petal_width'\u001b[0m\u001b[0;34m]\u001b[0m\u001b[0;34m)\u001b[0m\u001b[0;34m\u001b[0m\u001b[0;34m\u001b[0m\u001b[0m\n\u001b[0m",
            "\u001b[0;31mNameError\u001b[0m: name 'model' is not defined"
          ]
        }
      ]
    },
    {
      "cell_type": "markdown",
      "metadata": {
        "id": "axacOdYSebS3",
        "colab_type": "text"
      },
      "source": [
        "Veamos los valores de $w_0$, $w_1$, $w_2$ y $w_3$"
      ]
    },
    {
      "cell_type": "code",
      "metadata": {
        "id": "_u6sfZhpebS5",
        "colab_type": "code",
        "outputId": "a5553d5e-aab2-4cef-decd-a9c4b89ca34b",
        "colab": {}
      },
      "source": [
        "# print intercept and coefficients\n",
        "print ('w_0 = ' + str(model.intercept_))\n",
        "print ('w_1 = ' + str(model.coef_[0]))\n",
        "print ('w_2 = ' + str(model.coef_[1]))\n",
        "print ('w_3 = ' + str(model.coef_[2]))"
      ],
      "execution_count": 0,
      "outputs": [
        {
          "output_type": "stream",
          "text": [
            "w_0 = -0.09958520777530211\n",
            "w_1 = -0.27559295988698085\n",
            "w_2 = 0.262297654780667\n",
            "w_3 = 0.5595404013058478\n"
          ],
          "name": "stdout"
        }
      ]
    },
    {
      "cell_type": "markdown",
      "metadata": {
        "id": "9QkL_2jsebS8",
        "colab_type": "text"
      },
      "source": [
        "Es decir:\n",
        "\n",
        "petal_width = -0.09958520777530211 - 0.27559295988698085sepal_length + 0.262297654780667*sepal_width + 0.5595404013058478*petal_length"
      ]
    },
    {
      "cell_type": "markdown",
      "metadata": {
        "id": "h4iabpgBebS8",
        "colab_type": "text"
      },
      "source": [
        "5) Llamar al método predict para generar las predicciones."
      ]
    },
    {
      "cell_type": "code",
      "metadata": {
        "id": "LaOhdKxMebS9",
        "colab_type": "code",
        "outputId": "3c17e139-0acc-4bbf-ce3f-f3cd155fed9d",
        "colab": {
          "base_uri": "https://localhost:8080/",
          "height": 195
        }
      },
      "source": [
        "pred_train = model.predict(X_train[['sepal_length', 'sepal_width','petal_length']])\n",
        "pred_val = model.predict(X_val[['sepal_length', 'sepal_width','petal_length']])\n",
        "pred_test = model.predict(X_test[['sepal_length', 'sepal_width','petal_length']])"
      ],
      "execution_count": 0,
      "outputs": [
        {
          "output_type": "error",
          "ename": "NameError",
          "evalue": "ignored",
          "traceback": [
            "\u001b[0;31m---------------------------------------------------------------------------\u001b[0m",
            "\u001b[0;31mNameError\u001b[0m                                 Traceback (most recent call last)",
            "\u001b[0;32m<ipython-input-1-1486f986fae1>\u001b[0m in \u001b[0;36m<module>\u001b[0;34m()\u001b[0m\n\u001b[0;32m----> 1\u001b[0;31m \u001b[0mpred_train\u001b[0m \u001b[0;34m=\u001b[0m \u001b[0mmodel\u001b[0m\u001b[0;34m.\u001b[0m\u001b[0mpredict\u001b[0m\u001b[0;34m(\u001b[0m\u001b[0mX_train\u001b[0m\u001b[0;34m[\u001b[0m\u001b[0;34m[\u001b[0m\u001b[0;34m'sepal_length'\u001b[0m\u001b[0;34m,\u001b[0m \u001b[0;34m'sepal_width'\u001b[0m\u001b[0;34m,\u001b[0m\u001b[0;34m'petal_length'\u001b[0m\u001b[0;34m]\u001b[0m\u001b[0;34m]\u001b[0m\u001b[0;34m)\u001b[0m\u001b[0;34m\u001b[0m\u001b[0;34m\u001b[0m\u001b[0m\n\u001b[0m\u001b[1;32m      2\u001b[0m \u001b[0mpred_val\u001b[0m \u001b[0;34m=\u001b[0m \u001b[0mmodel\u001b[0m\u001b[0;34m.\u001b[0m\u001b[0mpredict\u001b[0m\u001b[0;34m(\u001b[0m\u001b[0mX_val\u001b[0m\u001b[0;34m[\u001b[0m\u001b[0;34m[\u001b[0m\u001b[0;34m'sepal_length'\u001b[0m\u001b[0;34m,\u001b[0m \u001b[0;34m'sepal_width'\u001b[0m\u001b[0;34m,\u001b[0m\u001b[0;34m'petal_length'\u001b[0m\u001b[0;34m]\u001b[0m\u001b[0;34m]\u001b[0m\u001b[0;34m)\u001b[0m\u001b[0;34m\u001b[0m\u001b[0;34m\u001b[0m\u001b[0m\n\u001b[1;32m      3\u001b[0m \u001b[0mpred_test\u001b[0m \u001b[0;34m=\u001b[0m \u001b[0mmodel\u001b[0m\u001b[0;34m.\u001b[0m\u001b[0mpredict\u001b[0m\u001b[0;34m(\u001b[0m\u001b[0mX_test\u001b[0m\u001b[0;34m[\u001b[0m\u001b[0;34m[\u001b[0m\u001b[0;34m'sepal_length'\u001b[0m\u001b[0;34m,\u001b[0m \u001b[0;34m'sepal_width'\u001b[0m\u001b[0;34m,\u001b[0m\u001b[0;34m'petal_length'\u001b[0m\u001b[0;34m]\u001b[0m\u001b[0;34m]\u001b[0m\u001b[0;34m)\u001b[0m\u001b[0;34m\u001b[0m\u001b[0;34m\u001b[0m\u001b[0m\n",
            "\u001b[0;31mNameError\u001b[0m: name 'model' is not defined"
          ]
        }
      ]
    },
    {
      "cell_type": "code",
      "metadata": {
        "id": "49i-n7KJebS_",
        "colab_type": "code",
        "outputId": "7a78bd6c-05c3-4c86-d715-a6159e1d856f",
        "colab": {
          "base_uri": "https://localhost:8080/",
          "height": 178
        }
      },
      "source": [
        "print(pred_test[0:5])\n",
        "print(np.array(X_test['petal_width'][0:5]))"
      ],
      "execution_count": 0,
      "outputs": [
        {
          "output_type": "error",
          "ename": "NameError",
          "evalue": "ignored",
          "traceback": [
            "\u001b[0;31m---------------------------------------------------------------------------\u001b[0m",
            "\u001b[0;31mNameError\u001b[0m                                 Traceback (most recent call last)",
            "\u001b[0;32m<ipython-input-3-125f03bb288a>\u001b[0m in \u001b[0;36m<module>\u001b[0;34m()\u001b[0m\n\u001b[0;32m----> 1\u001b[0;31m \u001b[0mprint\u001b[0m\u001b[0;34m(\u001b[0m\u001b[0mpred_test\u001b[0m\u001b[0;34m[\u001b[0m\u001b[0;36m0\u001b[0m\u001b[0;34m:\u001b[0m\u001b[0;36m5\u001b[0m\u001b[0;34m]\u001b[0m\u001b[0;34m)\u001b[0m\u001b[0;34m\u001b[0m\u001b[0;34m\u001b[0m\u001b[0m\n\u001b[0m\u001b[1;32m      2\u001b[0m \u001b[0mprint\u001b[0m\u001b[0;34m(\u001b[0m\u001b[0mnp\u001b[0m\u001b[0;34m.\u001b[0m\u001b[0marray\u001b[0m\u001b[0;34m(\u001b[0m\u001b[0mX_test\u001b[0m\u001b[0;34m[\u001b[0m\u001b[0;34m'petal_width'\u001b[0m\u001b[0;34m]\u001b[0m\u001b[0;34m[\u001b[0m\u001b[0;36m0\u001b[0m\u001b[0;34m:\u001b[0m\u001b[0;36m5\u001b[0m\u001b[0;34m]\u001b[0m\u001b[0;34m)\u001b[0m\u001b[0;34m)\u001b[0m\u001b[0;34m\u001b[0m\u001b[0;34m\u001b[0m\u001b[0m\n",
            "\u001b[0;31mNameError\u001b[0m: name 'pred_test' is not defined"
          ]
        }
      ]
    },
    {
      "cell_type": "markdown",
      "metadata": {
        "id": "Cyyam08WebTB",
        "colab_type": "text"
      },
      "source": [
        "En el caso de la regresión lineal podemos calcular las predicciones manualmente."
      ]
    },
    {
      "cell_type": "code",
      "metadata": {
        "id": "nC_jyVpsebTB",
        "colab_type": "code",
        "colab": {}
      },
      "source": [
        "# manually calculate the prediction\n",
        "pred_test_manual = -0.09958520777530211 - 0.27559295988698085*X_test['sepal_length'] + 0.262297654780667*X_test['sepal_width'] + 0.5595404013058478*X_test['petal_length']"
      ],
      "execution_count": 0,
      "outputs": []
    },
    {
      "cell_type": "markdown",
      "metadata": {
        "id": "1aqgw0j4ebTD",
        "colab_type": "text"
      },
      "source": [
        "Vemos que ambas predicciones son idénticas"
      ]
    },
    {
      "cell_type": "code",
      "metadata": {
        "id": "3AviHEBUebTE",
        "colab_type": "code",
        "outputId": "b68e4ce5-39cd-46c8-9a11-27b432a6534e",
        "colab": {}
      },
      "source": [
        "print(np.array(pred_test_manual[0:5]))\n",
        "print(pred_test[0:5])"
      ],
      "execution_count": 0,
      "outputs": [
        {
          "output_type": "stream",
          "text": [
            "[0.16257618 1.33037199 1.58007655 1.71703758 1.63853693]\n",
            "[0.16257618 1.33037199 1.58007655 1.71703758 1.63853693]\n"
          ],
          "name": "stdout"
        }
      ]
    },
    {
      "cell_type": "markdown",
      "metadata": {
        "id": "l1sU4yN1ebTG",
        "colab_type": "text"
      },
      "source": [
        "6) Calcular métrica usando las predicciones obtenidas en el paso anterior."
      ]
    },
    {
      "cell_type": "code",
      "metadata": {
        "id": "MvxXxRAkebTH",
        "colab_type": "code",
        "outputId": "e287c547-625f-4236-842e-069214540880",
        "colab": {
          "base_uri": "https://localhost:8080/",
          "height": 195
        }
      },
      "source": [
        "mae_train = metric(y_train, pred_train)\n",
        "mae_val = metric(y_val, pred_val)\n",
        "mae_test = metric(y_test, pred_test)"
      ],
      "execution_count": 0,
      "outputs": [
        {
          "output_type": "error",
          "ename": "NameError",
          "evalue": "ignored",
          "traceback": [
            "\u001b[0;31m---------------------------------------------------------------------------\u001b[0m",
            "\u001b[0;31mNameError\u001b[0m                                 Traceback (most recent call last)",
            "\u001b[0;32m<ipython-input-2-acfba6fe0c8d>\u001b[0m in \u001b[0;36m<module>\u001b[0;34m()\u001b[0m\n\u001b[0;32m----> 1\u001b[0;31m \u001b[0mmae_train\u001b[0m \u001b[0;34m=\u001b[0m \u001b[0mmetric\u001b[0m\u001b[0;34m(\u001b[0m\u001b[0my_train\u001b[0m\u001b[0;34m,\u001b[0m \u001b[0mpred_train\u001b[0m\u001b[0;34m)\u001b[0m\u001b[0;34m\u001b[0m\u001b[0;34m\u001b[0m\u001b[0m\n\u001b[0m\u001b[1;32m      2\u001b[0m \u001b[0mmae_val\u001b[0m \u001b[0;34m=\u001b[0m \u001b[0mmetric\u001b[0m\u001b[0;34m(\u001b[0m\u001b[0my_val\u001b[0m\u001b[0;34m,\u001b[0m \u001b[0mpred_val\u001b[0m\u001b[0;34m)\u001b[0m\u001b[0;34m\u001b[0m\u001b[0;34m\u001b[0m\u001b[0m\n\u001b[1;32m      3\u001b[0m \u001b[0mmae_test\u001b[0m \u001b[0;34m=\u001b[0m \u001b[0mmetric\u001b[0m\u001b[0;34m(\u001b[0m\u001b[0my_test\u001b[0m\u001b[0;34m,\u001b[0m \u001b[0mpred_test\u001b[0m\u001b[0;34m)\u001b[0m\u001b[0;34m\u001b[0m\u001b[0;34m\u001b[0m\u001b[0m\n",
            "\u001b[0;31mNameError\u001b[0m: name 'metric' is not defined"
          ]
        }
      ]
    },
    {
      "cell_type": "code",
      "metadata": {
        "id": "Z1C-Kn5WebTJ",
        "colab_type": "code",
        "outputId": "46abf671-68d6-454e-d420-b7b42fabcf6c",
        "colab": {}
      },
      "source": [
        "results = results.append(pd.DataFrame(data={'model':['Multivariable'],'mae_train':[mae_train],'mae_val':[mae_val],'mae_test':[mae_test]}, columns=['model', 'mae_train','mae_val', 'mae_test']), ignore_index=True)\n",
        "results"
      ],
      "execution_count": 0,
      "outputs": [
        {
          "output_type": "execute_result",
          "data": {
            "text/html": [
              "<div>\n",
              "<style>\n",
              "    .dataframe thead tr:only-child th {\n",
              "        text-align: right;\n",
              "    }\n",
              "\n",
              "    .dataframe thead th {\n",
              "        text-align: left;\n",
              "    }\n",
              "\n",
              "    .dataframe tbody tr th {\n",
              "        vertical-align: top;\n",
              "    }\n",
              "</style>\n",
              "<table border=\"1\" class=\"dataframe\">\n",
              "  <thead>\n",
              "    <tr style=\"text-align: right;\">\n",
              "      <th></th>\n",
              "      <th>model</th>\n",
              "      <th>mae_train</th>\n",
              "      <th>mae_val</th>\n",
              "      <th>mae_test</th>\n",
              "    </tr>\n",
              "  </thead>\n",
              "  <tbody>\n",
              "    <tr>\n",
              "      <th>0</th>\n",
              "      <td>1 Variable</td>\n",
              "      <td>0.271475</td>\n",
              "      <td>0.289376</td>\n",
              "      <td>0.303618</td>\n",
              "    </tr>\n",
              "    <tr>\n",
              "      <th>1</th>\n",
              "      <td>Multivariable</td>\n",
              "      <td>0.252824</td>\n",
              "      <td>0.304954</td>\n",
              "      <td>0.287039</td>\n",
              "    </tr>\n",
              "  </tbody>\n",
              "</table>\n",
              "</div>"
            ],
            "text/plain": [
              "           model  mae_train   mae_val  mae_test\n",
              "0     1 Variable   0.271475  0.289376  0.303618\n",
              "1  Multivariable   0.252824  0.304954  0.287039"
            ]
          },
          "metadata": {
            "tags": []
          },
          "execution_count": 29
        }
      ]
    },
    {
      "cell_type": "markdown",
      "metadata": {
        "id": "48GXnJ5XebTM",
        "colab_type": "text"
      },
      "source": [
        "## Regularización\n",
        "![imagen.png](attachment:imagen.png)"
      ]
    },
    {
      "cell_type": "markdown",
      "metadata": {
        "id": "vzzRA3bsebTN",
        "colab_type": "text"
      },
      "source": [
        "### Lasso\n",
        "\n",
        "![imagen.png](attachment:imagen.png)"
      ]
    },
    {
      "cell_type": "markdown",
      "metadata": {
        "id": "OwR4he8VebTO",
        "colab_type": "text"
      },
      "source": [
        "1) Importar modelo que se quiere emplear."
      ]
    },
    {
      "cell_type": "code",
      "metadata": {
        "collapsed": true,
        "id": "YORjoUm9ebTP",
        "colab_type": "code",
        "colab": {}
      },
      "source": [
        "from sklearn.linear_model import Lasso"
      ],
      "execution_count": 0,
      "outputs": []
    },
    {
      "cell_type": "markdown",
      "metadata": {
        "id": "81IENJoPebTR",
        "colab_type": "text"
      },
      "source": [
        "3) Definir modelo."
      ]
    },
    {
      "cell_type": "code",
      "metadata": {
        "collapsed": true,
        "id": "IA62Y-apebTS",
        "colab_type": "code",
        "colab": {}
      },
      "source": [
        "model = Lasso(alpha = 1)\n"
      ],
      "execution_count": 0,
      "outputs": []
    },
    {
      "cell_type": "markdown",
      "metadata": {
        "id": "7OlBe0A9ebTU",
        "colab_type": "text"
      },
      "source": [
        "El parámetro alpha es nuestro $\\lambda$."
      ]
    },
    {
      "cell_type": "code",
      "metadata": {
        "id": "8Wob8xagebTU",
        "colab_type": "code",
        "outputId": "0a4fdf1b-2bfb-4984-c4b7-4b1c2dd8b690",
        "colab": {}
      },
      "source": [
        "model.fit(X= X_train[['sepal_length', 'sepal_width','petal_length']], y = X_train['petal_width'])"
      ],
      "execution_count": 0,
      "outputs": [
        {
          "output_type": "execute_result",
          "data": {
            "text/plain": [
              "Lasso(alpha=1, copy_X=True, fit_intercept=True, max_iter=1000, normalize=False,\n",
              "      positive=False, precompute=False, random_state=None, selection='cyclic',\n",
              "      tol=0.0001, warm_start=False)"
            ]
          },
          "metadata": {
            "tags": []
          },
          "execution_count": 32
        }
      ]
    },
    {
      "cell_type": "markdown",
      "metadata": {
        "id": "JhPed9DfebTX",
        "colab_type": "text"
      },
      "source": [
        "Veamos los valores de $w_0$, $w_1$, $w_2$ y $w_3$"
      ]
    },
    {
      "cell_type": "code",
      "metadata": {
        "id": "VIDjvsYGebTX",
        "colab_type": "code",
        "outputId": "aa6d1d5d-be15-4c0f-ac9c-7aa2087b23cb",
        "colab": {}
      },
      "source": [
        "# print intercept and coefficients\n",
        "print ('w_0 = ' + str(model.intercept_))\n",
        "print ('w_1 = ' + str(model.coef_[0]))\n",
        "print ('w_2 = ' + str(model.coef_[1]))\n",
        "print ('w_3 = ' + str(model.coef_[2]))"
      ],
      "execution_count": 0,
      "outputs": [
        {
          "output_type": "stream",
          "text": [
            "w_0 = 0.7930138766444168\n",
            "w_1 = 0.0\n",
            "w_2 = -0.0\n",
            "w_3 = 0.10632749796773562\n"
          ],
          "name": "stdout"
        }
      ]
    },
    {
      "cell_type": "markdown",
      "metadata": {
        "id": "QAroI7GUebTZ",
        "colab_type": "text"
      },
      "source": [
        "Es decir:\n",
        "\n",
        "petal_width = 0.7930138766444168 + 0.10632749796773562*petal_length"
      ]
    },
    {
      "cell_type": "markdown",
      "metadata": {
        "id": "jUg1WLEXebTZ",
        "colab_type": "text"
      },
      "source": [
        "Como vemos Lasso ha eliminado las variables sepal_length y sepal_width."
      ]
    },
    {
      "cell_type": "markdown",
      "metadata": {
        "id": "bTfb-eyxebTa",
        "colab_type": "text"
      },
      "source": [
        "5) Llamar al método predict para generar las predicciones."
      ]
    },
    {
      "cell_type": "code",
      "metadata": {
        "collapsed": true,
        "id": "H3KmTjSzebTa",
        "colab_type": "code",
        "colab": {}
      },
      "source": [
        "pred_train = model.predict(X_train[['sepal_length', 'sepal_width','petal_length']])\n",
        "pred_val = model.predict(X_val[['sepal_length', 'sepal_width','petal_length']])\n",
        "pred_test = model.predict(X_test[['sepal_length', 'sepal_width','petal_length']])"
      ],
      "execution_count": 0,
      "outputs": []
    },
    {
      "cell_type": "markdown",
      "metadata": {
        "id": "g_aMbafKebTc",
        "colab_type": "text"
      },
      "source": [
        "6) Calcular métrica usando las predicciones obtenidas en el paso anterior."
      ]
    },
    {
      "cell_type": "code",
      "metadata": {
        "collapsed": true,
        "id": "9eW6kcbWebTd",
        "colab_type": "code",
        "colab": {}
      },
      "source": [
        "mae_train = metric(y_train, pred_train)\n",
        "mae_val = metric(y_val, pred_val)\n",
        "mae_test = metric(y_test, pred_test)"
      ],
      "execution_count": 0,
      "outputs": []
    },
    {
      "cell_type": "code",
      "metadata": {
        "id": "bVmXIIwmebTg",
        "colab_type": "code",
        "outputId": "be474dc2-01c9-4433-9c00-298c5dbc15e1",
        "colab": {}
      },
      "source": [
        "results = results.append(pd.DataFrame(data={'model':['Lasso Multivariable'],'mae_train':[mae_train],'mae_val':[mae_val],'mae_test':[mae_test]}, columns=['model', 'mae_train','mae_val', 'mae_test']), ignore_index=True)\n",
        "results"
      ],
      "execution_count": 0,
      "outputs": [
        {
          "output_type": "execute_result",
          "data": {
            "text/html": [
              "<div>\n",
              "<style>\n",
              "    .dataframe thead tr:only-child th {\n",
              "        text-align: right;\n",
              "    }\n",
              "\n",
              "    .dataframe thead th {\n",
              "        text-align: left;\n",
              "    }\n",
              "\n",
              "    .dataframe tbody tr th {\n",
              "        vertical-align: top;\n",
              "    }\n",
              "</style>\n",
              "<table border=\"1\" class=\"dataframe\">\n",
              "  <thead>\n",
              "    <tr style=\"text-align: right;\">\n",
              "      <th></th>\n",
              "      <th>model</th>\n",
              "      <th>mae_train</th>\n",
              "      <th>mae_val</th>\n",
              "      <th>mae_test</th>\n",
              "    </tr>\n",
              "  </thead>\n",
              "  <tbody>\n",
              "    <tr>\n",
              "      <th>0</th>\n",
              "      <td>1 Variable</td>\n",
              "      <td>0.271475</td>\n",
              "      <td>0.289376</td>\n",
              "      <td>0.303618</td>\n",
              "    </tr>\n",
              "    <tr>\n",
              "      <th>1</th>\n",
              "      <td>Multivariable</td>\n",
              "      <td>0.252824</td>\n",
              "      <td>0.304954</td>\n",
              "      <td>0.287039</td>\n",
              "    </tr>\n",
              "    <tr>\n",
              "      <th>2</th>\n",
              "      <td>Lasso Multivariable</td>\n",
              "      <td>0.616812</td>\n",
              "      <td>0.621090</td>\n",
              "      <td>0.527185</td>\n",
              "    </tr>\n",
              "  </tbody>\n",
              "</table>\n",
              "</div>"
            ],
            "text/plain": [
              "                 model  mae_train   mae_val  mae_test\n",
              "0           1 Variable   0.271475  0.289376  0.303618\n",
              "1        Multivariable   0.252824  0.304954  0.287039\n",
              "2  Lasso Multivariable   0.616812  0.621090  0.527185"
            ]
          },
          "metadata": {
            "tags": []
          },
          "execution_count": 36
        }
      ]
    },
    {
      "cell_type": "markdown",
      "metadata": {
        "id": "Z2jb3mLXebTi",
        "colab_type": "text"
      },
      "source": [
        "### Ridge\n",
        "\n",
        "![imagen.png](attachment:imagen.png)"
      ]
    },
    {
      "cell_type": "markdown",
      "metadata": {
        "id": "pRp28NnZebTi",
        "colab_type": "text"
      },
      "source": [
        "1) Importar modelo que se quiere emplear."
      ]
    },
    {
      "cell_type": "code",
      "metadata": {
        "collapsed": true,
        "id": "InXf12pzebTj",
        "colab_type": "code",
        "colab": {}
      },
      "source": [
        "from sklearn.linear_model import Ridge"
      ],
      "execution_count": 0,
      "outputs": []
    },
    {
      "cell_type": "markdown",
      "metadata": {
        "id": "krFB1CgwebTl",
        "colab_type": "text"
      },
      "source": [
        "3) Definir modelo."
      ]
    },
    {
      "cell_type": "code",
      "metadata": {
        "collapsed": true,
        "id": "3Hp7kxYBebTl",
        "colab_type": "code",
        "colab": {}
      },
      "source": [
        "model = Ridge(alpha = 1)\n"
      ],
      "execution_count": 0,
      "outputs": []
    },
    {
      "cell_type": "code",
      "metadata": {
        "id": "5k5o94iTebTn",
        "colab_type": "code",
        "outputId": "c7e481f3-dbc0-4e11-df72-6c5d8d90f715",
        "colab": {}
      },
      "source": [
        "model.fit(X= X_train[['sepal_length', 'sepal_width','petal_length']], y = X_train['petal_width'])"
      ],
      "execution_count": 0,
      "outputs": [
        {
          "output_type": "execute_result",
          "data": {
            "text/plain": [
              "Ridge(alpha=1, copy_X=True, fit_intercept=True, max_iter=None, normalize=False,\n",
              "      random_state=None, solver='auto', tol=0.001)"
            ]
          },
          "metadata": {
            "tags": []
          },
          "execution_count": 39
        }
      ]
    },
    {
      "cell_type": "markdown",
      "metadata": {
        "id": "YJDlV2-SebTq",
        "colab_type": "text"
      },
      "source": [
        "Veamos los valores de $w_0$, $w_1$, $w_2$ y $w_3$"
      ]
    },
    {
      "cell_type": "code",
      "metadata": {
        "id": "F6ZP_Wz6ebTr",
        "colab_type": "code",
        "outputId": "30b794fb-02a4-410d-9143-e805a454600f",
        "colab": {}
      },
      "source": [
        "# print intercept and coefficients\n",
        "print ('w_0 = ' + str(model.intercept_))\n",
        "print ('w_1 = ' + str(model.coef_[0]))\n",
        "print ('w_2 = ' + str(model.coef_[1]))\n",
        "print ('w_3 = ' + str(model.coef_[2]))"
      ],
      "execution_count": 0,
      "outputs": [
        {
          "output_type": "stream",
          "text": [
            "w_0 = -0.1639533346598887\n",
            "w_1 = -0.22541080278709696\n",
            "w_2 = 0.21993013887459956\n",
            "w_3 = 0.5333313751226321\n"
          ],
          "name": "stdout"
        }
      ]
    },
    {
      "cell_type": "markdown",
      "metadata": {
        "id": "21ZG4q85ebTt",
        "colab_type": "text"
      },
      "source": [
        "Es decir:\n",
        "\n",
        "petal_width = 0.7930138766444168 + -0.22541080278709696*sepal_length + 0.21993013887459956*sepal_width 0.10632749796773562*petal_length"
      ]
    },
    {
      "cell_type": "markdown",
      "metadata": {
        "id": "mrBuJqxUebTu",
        "colab_type": "text"
      },
      "source": [
        "5) Llamar al método predict para generar las predicciones."
      ]
    },
    {
      "cell_type": "code",
      "metadata": {
        "collapsed": true,
        "id": "wM0ZCgxzebTu",
        "colab_type": "code",
        "colab": {}
      },
      "source": [
        "pred_train = model.predict(X_train[['sepal_length', 'sepal_width','petal_length']])\n",
        "pred_val = model.predict(X_val[['sepal_length', 'sepal_width','petal_length']])\n",
        "pred_test = model.predict(X_test[['sepal_length', 'sepal_width','petal_length']])"
      ],
      "execution_count": 0,
      "outputs": []
    },
    {
      "cell_type": "markdown",
      "metadata": {
        "id": "OxXRgcJ2ebTw",
        "colab_type": "text"
      },
      "source": [
        "6) Calcular métrica usando las predicciones obtenidas en el paso anterior."
      ]
    },
    {
      "cell_type": "code",
      "metadata": {
        "collapsed": true,
        "id": "RTDfrjLrebTw",
        "colab_type": "code",
        "colab": {}
      },
      "source": [
        "mae_train = metric(y_train, pred_train)\n",
        "mae_val = metric(y_val, pred_val)\n",
        "mae_test = metric(y_test, pred_test)"
      ],
      "execution_count": 0,
      "outputs": []
    },
    {
      "cell_type": "code",
      "metadata": {
        "id": "oGmQX6bTebTy",
        "colab_type": "code",
        "outputId": "f6782ed0-824a-4969-bb75-1bd59f805261",
        "colab": {}
      },
      "source": [
        "results = results.append(pd.DataFrame(data={'model':['Ridge Multivariable'],'mae_train':[mae_train],'mae_val':[mae_val],'mae_test':[mae_test]}, columns=['model', 'mae_train','mae_val', 'mae_test']), ignore_index=True)\n",
        "results"
      ],
      "execution_count": 0,
      "outputs": [
        {
          "output_type": "execute_result",
          "data": {
            "text/html": [
              "<div>\n",
              "<style>\n",
              "    .dataframe thead tr:only-child th {\n",
              "        text-align: right;\n",
              "    }\n",
              "\n",
              "    .dataframe thead th {\n",
              "        text-align: left;\n",
              "    }\n",
              "\n",
              "    .dataframe tbody tr th {\n",
              "        vertical-align: top;\n",
              "    }\n",
              "</style>\n",
              "<table border=\"1\" class=\"dataframe\">\n",
              "  <thead>\n",
              "    <tr style=\"text-align: right;\">\n",
              "      <th></th>\n",
              "      <th>model</th>\n",
              "      <th>mae_train</th>\n",
              "      <th>mae_val</th>\n",
              "      <th>mae_test</th>\n",
              "    </tr>\n",
              "  </thead>\n",
              "  <tbody>\n",
              "    <tr>\n",
              "      <th>0</th>\n",
              "      <td>1 Variable</td>\n",
              "      <td>0.271475</td>\n",
              "      <td>0.289376</td>\n",
              "      <td>0.303618</td>\n",
              "    </tr>\n",
              "    <tr>\n",
              "      <th>1</th>\n",
              "      <td>Multivariable</td>\n",
              "      <td>0.252824</td>\n",
              "      <td>0.304954</td>\n",
              "      <td>0.287039</td>\n",
              "    </tr>\n",
              "    <tr>\n",
              "      <th>2</th>\n",
              "      <td>Lasso Multivariable</td>\n",
              "      <td>0.616812</td>\n",
              "      <td>0.621090</td>\n",
              "      <td>0.527185</td>\n",
              "    </tr>\n",
              "    <tr>\n",
              "      <th>3</th>\n",
              "      <td>Ridge Multivariable</td>\n",
              "      <td>0.255772</td>\n",
              "      <td>0.303700</td>\n",
              "      <td>0.288263</td>\n",
              "    </tr>\n",
              "  </tbody>\n",
              "</table>\n",
              "</div>"
            ],
            "text/plain": [
              "                 model  mae_train   mae_val  mae_test\n",
              "0           1 Variable   0.271475  0.289376  0.303618\n",
              "1        Multivariable   0.252824  0.304954  0.287039\n",
              "2  Lasso Multivariable   0.616812  0.621090  0.527185\n",
              "3  Ridge Multivariable   0.255772  0.303700  0.288263"
            ]
          },
          "metadata": {
            "tags": []
          },
          "execution_count": 43
        }
      ]
    },
    {
      "cell_type": "markdown",
      "metadata": {
        "id": "TrbiNQVaebT0",
        "colab_type": "text"
      },
      "source": [
        "## Grid search\n",
        "\n",
        "Hagamos una búsqueda en rejilla para el hiperparámetro que controla la regularización Lasso."
      ]
    },
    {
      "cell_type": "code",
      "metadata": {
        "id": "PxyrDuG0ebT0",
        "colab_type": "code",
        "colab": {}
      },
      "source": [
        "grid_results = pd.DataFrame();\n",
        "alpha_values = [1e-06, 1e-05, 1e-04, 1e-03, 1e-02,1e-01,1e-00,1e01]\n",
        "for alpha_v in alpha_values:\n",
        "    # Entrenar modelo\n",
        "    model = Lasso(alpha = alpha_v)\n",
        "    model.fit(X= X_train[['sepal_length', 'sepal_width','petal_length']], y = X_train['petal_width'])\n",
        "    \n",
        "    # Generar predicciones\n",
        "    pred_train = model.predict(X_train[['sepal_length', 'sepal_width','petal_length']])\n",
        "    pred_val = model.predict(X_val[['sepal_length', 'sepal_width','petal_length']])\n",
        "    \n",
        "    # Calcular métricas de evaluación\n",
        "    mae_train = metric(y_train, pred_train)\n",
        "    mae_val = metric(y_val, pred_val)\n",
        "    \n",
        "    grid_results = grid_results.append(pd.DataFrame(data={'alpha':[alpha_v],'mae_train':[mae_train],'mae_val':[mae_val]}), ignore_index=True)\n"
      ],
      "execution_count": 0,
      "outputs": []
    },
    {
      "cell_type": "code",
      "metadata": {
        "id": "5oBLuIdAebT3",
        "colab_type": "code",
        "outputId": "d7780f31-616a-4992-e3e6-d02418ef68e0",
        "colab": {}
      },
      "source": [
        "print(grid_results)"
      ],
      "execution_count": 0,
      "outputs": [
        {
          "output_type": "stream",
          "text": [
            "       alpha  mae_train   mae_val\n",
            "0   0.000001   0.252825  0.304953\n",
            "1   0.000010   0.252831  0.304945\n",
            "2   0.000100   0.252892  0.304870\n",
            "3   0.001000   0.253564  0.304110\n",
            "4   0.010000   0.264851  0.296576\n",
            "5   0.100000   0.294228  0.314770\n",
            "6   1.000000   0.616812  0.621090\n",
            "7  10.000000   0.751474  0.740260\n"
          ],
          "name": "stdout"
        }
      ]
    },
    {
      "cell_type": "code",
      "metadata": {
        "id": "ObSMBOSAebT5",
        "colab_type": "code",
        "colab": {}
      },
      "source": [
        "best_alpha = grid_results['alpha'][grid_results['mae_val'].idxmin()]"
      ],
      "execution_count": 0,
      "outputs": []
    },
    {
      "cell_type": "markdown",
      "metadata": {
        "id": "KvSan0OoebT6",
        "colab_type": "text"
      },
      "source": [
        "Entrenamos el modelo final."
      ]
    },
    {
      "cell_type": "code",
      "metadata": {
        "id": "vIXQNWLcebT7",
        "colab_type": "code",
        "outputId": "63d51739-fe1e-4aee-83bb-d9be1b55b526",
        "colab": {}
      },
      "source": [
        "print('Train data size = ' + str(X_train.shape))\n",
        "print('Train target size = ' + str(y_train.shape))\n",
        "print('Validation data size = ' + str(X_val.shape))\n",
        "print('Validation target size = ' + str(y_val.shape))\n",
        "\n",
        "# Combinar train y validación\n",
        "X_train = pd.concat((X_train,X_val), axis = 0)\n",
        "y_train = np.concatenate((y_train, y_val), axis = 0)\n",
        "\n",
        "del X_val, y_val\n",
        "\n",
        "print('Train data size = ' + str(X_train.shape))\n",
        "print('Train target size = ' + str(y_train.shape))"
      ],
      "execution_count": 0,
      "outputs": [
        {
          "output_type": "stream",
          "text": [
            "Train data size = (105, 4)\n",
            "Train target size = (105,)\n",
            "Validation data size = (22, 4)\n",
            "Validation target size = (22,)\n",
            "Train data size = (127, 4)\n",
            "Train target size = (127,)\n"
          ],
          "name": "stdout"
        }
      ]
    },
    {
      "cell_type": "code",
      "metadata": {
        "id": "wCYYg2suebT8",
        "colab_type": "code",
        "outputId": "c0f9e858-1577-40e9-aab2-08e324e963e0",
        "colab": {}
      },
      "source": [
        "model = Lasso(alpha = best_alpha)\n",
        "model.fit(X= X_train[['sepal_length', 'sepal_width','petal_length']], y = X_train['petal_width'])\n",
        "    \n",
        "# Generar predicciones\n",
        "pred_train = model.predict(X_train[['sepal_length', 'sepal_width','petal_length']])\n",
        "pred_test = model.predict(X_test[['sepal_length', 'sepal_width','petal_length']])\n",
        "    \n",
        "# Calcular métricas de evaluación\n",
        "mae_train = metric(y_train, pred_train)\n",
        "mae_test = metric(y_test, pred_test)\n",
        "\n",
        "results = results.append(pd.DataFrame(data={'model':['Optimized Lasso Multivariable'],'mae_train':[mae_train],'mae_val':[None],'mae_test':[mae_test]}, columns=['model', 'mae_train','mae_val', 'mae_test']), ignore_index=True)\n",
        "results"
      ],
      "execution_count": 0,
      "outputs": [
        {
          "output_type": "execute_result",
          "data": {
            "text/html": [
              "<div>\n",
              "<style>\n",
              "    .dataframe thead tr:only-child th {\n",
              "        text-align: right;\n",
              "    }\n",
              "\n",
              "    .dataframe thead th {\n",
              "        text-align: left;\n",
              "    }\n",
              "\n",
              "    .dataframe tbody tr th {\n",
              "        vertical-align: top;\n",
              "    }\n",
              "</style>\n",
              "<table border=\"1\" class=\"dataframe\">\n",
              "  <thead>\n",
              "    <tr style=\"text-align: right;\">\n",
              "      <th></th>\n",
              "      <th>model</th>\n",
              "      <th>mae_train</th>\n",
              "      <th>mae_val</th>\n",
              "      <th>mae_test</th>\n",
              "    </tr>\n",
              "  </thead>\n",
              "  <tbody>\n",
              "    <tr>\n",
              "      <th>0</th>\n",
              "      <td>1 Variable</td>\n",
              "      <td>0.271475</td>\n",
              "      <td>0.289376</td>\n",
              "      <td>0.303618</td>\n",
              "    </tr>\n",
              "    <tr>\n",
              "      <th>1</th>\n",
              "      <td>Multivariable</td>\n",
              "      <td>0.252824</td>\n",
              "      <td>0.304954</td>\n",
              "      <td>0.287039</td>\n",
              "    </tr>\n",
              "    <tr>\n",
              "      <th>2</th>\n",
              "      <td>Lasso Multivariable</td>\n",
              "      <td>0.616812</td>\n",
              "      <td>0.62109</td>\n",
              "      <td>0.527185</td>\n",
              "    </tr>\n",
              "    <tr>\n",
              "      <th>3</th>\n",
              "      <td>Ridge Multivariable</td>\n",
              "      <td>0.255772</td>\n",
              "      <td>0.3037</td>\n",
              "      <td>0.288263</td>\n",
              "    </tr>\n",
              "    <tr>\n",
              "      <th>4</th>\n",
              "      <td>Optimized Lasso Multivariable</td>\n",
              "      <td>0.278149</td>\n",
              "      <td>None</td>\n",
              "      <td>0.305572</td>\n",
              "    </tr>\n",
              "  </tbody>\n",
              "</table>\n",
              "</div>"
            ],
            "text/plain": [
              "                           model  mae_train   mae_val  mae_test\n",
              "0                     1 Variable   0.271475  0.289376  0.303618\n",
              "1                  Multivariable   0.252824  0.304954  0.287039\n",
              "2            Lasso Multivariable   0.616812   0.62109  0.527185\n",
              "3            Ridge Multivariable   0.255772    0.3037  0.288263\n",
              "4  Optimized Lasso Multivariable   0.278149      None  0.305572"
            ]
          },
          "metadata": {
            "tags": []
          },
          "execution_count": 48
        }
      ]
    },
    {
      "cell_type": "markdown",
      "metadata": {
        "id": "QpBzCfNNebT_",
        "colab_type": "text"
      },
      "source": [
        "Hemos conseguido pasar de un modelo Lasso con 0.53 de MAE a uno con 0.31."
      ]
    },
    {
      "cell_type": "markdown",
      "metadata": {
        "id": "Bq2Oz1gHebUA",
        "colab_type": "text"
      },
      "source": [
        "El mejor modelo entre todos los probados es..."
      ]
    },
    {
      "cell_type": "code",
      "metadata": {
        "id": "L857PDXRebUA",
        "colab_type": "code",
        "outputId": "83ec1178-3b12-4b1f-c3fe-67551a2c88a1",
        "colab": {}
      },
      "source": [
        "results['model'][results['mae_test'].idxmin()]"
      ],
      "execution_count": 0,
      "outputs": [
        {
          "output_type": "execute_result",
          "data": {
            "text/plain": [
              "'Multivariable'"
            ]
          },
          "metadata": {
            "tags": []
          },
          "execution_count": 49
        }
      ]
    }
  ]
}