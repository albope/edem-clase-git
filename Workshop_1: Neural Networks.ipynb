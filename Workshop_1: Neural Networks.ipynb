{
  "nbformat": 4,
  "nbformat_minor": 0,
  "metadata": {
    "colab": {
      "name": "Workshop 1.ipynb",
      "provenance": [],
      "collapsed_sections": [],
      "include_colab_link": true
    },
    "kernelspec": {
      "name": "python3",
      "display_name": "Python 3"
    }
  },
  "cells": [
    {
      "cell_type": "markdown",
      "metadata": {
        "id": "view-in-github",
        "colab_type": "text"
      },
      "source": [
        "<a href=\"https://colab.research.google.com/github/albope/edem-clase-git/blob/master/Workshop_1%3A%20Neural%20Networks.ipynb\" target=\"_parent\"><img src=\"https://colab.research.google.com/assets/colab-badge.svg\" alt=\"Open In Colab\"/></a>"
      ]
    },
    {
      "cell_type": "markdown",
      "metadata": {
        "id": "HZenyhaE7D5U",
        "colab_type": "text"
      },
      "source": [
        "# Workshop 1: Mobile Price Range Classification\n",
        "\n",
        "In this workshop we will learn how to train a neural network with numeric data as input to predict the price range of mobile phones ([info of the data](https://www.kaggle.com/iabhishekofficial/mobile-price-classification/data#)). The main blocks of the workshop are:\n",
        "\n",
        "1. Get the data from Google Drive.\n",
        "2. Load and Pre-process the data.\n",
        "3. Define a Fully Connected Neural Network.\n",
        "4. Choose loss function and optimizer.\n",
        "5. Train the network.\n",
        "\n",
        "The main libraries thar will be used in the workshop are:\n",
        "\n",
        "- Tensorflow\n",
        "- Keras\n",
        "- Sci-kit Learn\n",
        "- Matplotlib\n",
        "- Numpy\n",
        "- Pandas\n",
        "\n",
        "[Reference](https://towardsdatascience.com/building-our-first-neural-network-in-keras-bdc8abbc17f5)"
      ]
    },
    {
      "cell_type": "markdown",
      "metadata": {
        "id": "ptnsZfN-7A_0",
        "colab_type": "text"
      },
      "source": [
        "## 1. Get the data from Google Drive"
      ]
    },
    {
      "cell_type": "code",
      "metadata": {
        "id": "yvo1e0KT4zTv",
        "colab_type": "code",
        "colab": {}
      },
      "source": [
        "# Import libraries to interact with Google Drive\n",
        "from pydrive.auth import GoogleAuth\n",
        "from pydrive.drive import GoogleDrive\n",
        "from google.colab import auth\n",
        "from oauth2client.client import GoogleCredentials"
      ],
      "execution_count": 0,
      "outputs": []
    },
    {
      "cell_type": "code",
      "metadata": {
        "id": "qw0YVraI5hjG",
        "colab_type": "code",
        "colab": {}
      },
      "source": [
        "# Authenticate with your Google account to get access to the data\n",
        "auth.authenticate_user()\n",
        "gauth = GoogleAuth()\n",
        "gauth.credentials = GoogleCredentials.get_application_default()\n",
        "drive = GoogleDrive(gauth)"
      ],
      "execution_count": 0,
      "outputs": []
    },
    {
      "cell_type": "code",
      "metadata": {
        "id": "vIJOt1lg5pvG",
        "colab_type": "code",
        "colab": {}
      },
      "source": [
        "# Download data\n",
        "download = drive.CreateFile({'id': '1igTyUp-YTHG0ig9VeNu83R8jBWn5Djji'})\n",
        "download.GetContentFile('mobile_price.zip')"
      ],
      "execution_count": 0,
      "outputs": []
    },
    {
      "cell_type": "code",
      "metadata": {
        "id": "jRnbuD8c6LLp",
        "colab_type": "code",
        "colab": {}
      },
      "source": [
        "# Extract data from zip file\n",
        "import zipfile\n",
        "from pathlib import Path\n",
        "data_path = Path(\"./mobile_price.zip\")\n",
        "\n",
        "with zipfile.ZipFile(str(data_path), 'r') as zip_ref:\n",
        "    zip_ref.extractall(\"./data\")"
      ],
      "execution_count": 0,
      "outputs": []
    },
    {
      "cell_type": "code",
      "metadata": {
        "id": "bxAVc9xw6eHQ",
        "colab_type": "code",
        "colab": {}
      },
      "source": [
        "# List files of ./data directory\n",
        "ls ./data"
      ],
      "execution_count": 0,
      "outputs": []
    },
    {
      "cell_type": "markdown",
      "metadata": {
        "id": "67CgIbop9ScG",
        "colab_type": "text"
      },
      "source": [
        "## 2. Load and Pre-process the data\n",
        "\n"
      ]
    },
    {
      "cell_type": "code",
      "metadata": {
        "id": "DvnZlJFV-21i",
        "colab_type": "code",
        "colab": {}
      },
      "source": [
        "# Load dependencies for loading data\n",
        "import numpy as np\n",
        "import pandas as pd"
      ],
      "execution_count": 0,
      "outputs": []
    },
    {
      "cell_type": "code",
      "metadata": {
        "id": "LT55rVd2_IkM",
        "colab_type": "code",
        "colab": {}
      },
      "source": [
        "# Load training dataset and check variables\n",
        "dataset = pd.read_csv('./data/train.csv')"
      ],
      "execution_count": 0,
      "outputs": []
    },
    {
      "cell_type": "code",
      "metadata": {
        "id": "m2cpgTmCDqzQ",
        "colab_type": "code",
        "colab": {}
      },
      "source": [
        "# Show variables\n",
        "dataset.columns"
      ],
      "execution_count": 0,
      "outputs": []
    },
    {
      "cell_type": "code",
      "metadata": {
        "id": "L2fZ3NwMB0qD",
        "colab_type": "code",
        "colab": {}
      },
      "source": [
        "# Show first 5 rows\n",
        "dataset.head()"
      ],
      "execution_count": 0,
      "outputs": []
    },
    {
      "cell_type": "code",
      "metadata": {
        "id": "GdXq9ybYCAij",
        "colab_type": "code",
        "colab": {}
      },
      "source": [
        "# Import dependencies for pre-processing\n",
        "from sklearn.preprocessing import StandardScaler\n",
        "from sklearn.preprocessing import OneHotEncoder\n",
        "from sklearn.model_selection import train_test_split"
      ],
      "execution_count": 0,
      "outputs": []
    },
    {
      "cell_type": "code",
      "metadata": {
        "id": "wcNOetOZDZ8B",
        "colab_type": "code",
        "colab": {}
      },
      "source": [
        "# Convert pandas Dataframe to Numpy Array\n",
        "dataset_numpy = dataset.values"
      ],
      "execution_count": 0,
      "outputs": []
    },
    {
      "cell_type": "code",
      "metadata": {
        "id": "jCSxYok-ByDS",
        "colab_type": "code",
        "colab": {}
      },
      "source": [
        "# Show data type before and after conversion\n",
        "print(type(dataset))\n",
        "print(type(dataset_numpy.dtype))"
      ],
      "execution_count": 0,
      "outputs": []
    },
    {
      "cell_type": "code",
      "metadata": {
        "id": "H9H_gM8eHe5O",
        "colab_type": "code",
        "colab": {}
      },
      "source": [
        "# Separate input variables from output label\n",
        "X = dataset_numpy[:, :20]\n",
        "y = dataset_numpy[:, 20:21]"
      ],
      "execution_count": 0,
      "outputs": []
    },
    {
      "cell_type": "code",
      "metadata": {
        "id": "YOciSYTzB8QT",
        "colab_type": "code",
        "colab": {}
      },
      "source": [
        "# Show shape of training data and labels\n",
        "print(\"Shape of training data: \", X.shape)\n",
        "print(\"Shape of training labels: \", y.shape)"
      ],
      "execution_count": 0,
      "outputs": []
    },
    {
      "cell_type": "code",
      "metadata": {
        "id": "uu1afk5OIt2c",
        "colab_type": "code",
        "colab": {}
      },
      "source": [
        "# Show different classes to predict\n",
        "np.unique(y)"
      ],
      "execution_count": 0,
      "outputs": []
    },
    {
      "cell_type": "code",
      "metadata": {
        "id": "yD9F7PoxIhR7",
        "colab_type": "code",
        "colab": {}
      },
      "source": [
        "# Normalizing the data to improve stability while training\n",
        "sc = StandardScaler()\n",
        "sc.fit(X)\n",
        "X_norm = sc.transform(X)"
      ],
      "execution_count": 0,
      "outputs": []
    },
    {
      "cell_type": "code",
      "metadata": {
        "id": "GcYYTbkIHl1p",
        "colab_type": "code",
        "colab": {}
      },
      "source": [
        "# Show mean and Standard Deviation learnt from training data\n",
        "print(\"Mean per variable: \\n\", sc.mean_)\n",
        "print(\"Standard Deviation per variable: \\n\", sc.scale_)"
      ],
      "execution_count": 0,
      "outputs": []
    },
    {
      "cell_type": "code",
      "metadata": {
        "colab_type": "code",
        "id": "-PgxBF8oBkYS",
        "colab": {}
      },
      "source": [
        "# Show data before and after normalization\n",
        "print(\"Before normalization: \\n\", X[1, :])\n",
        "print(\"After normalization: \\n\", X_norm[1, :])"
      ],
      "execution_count": 0,
      "outputs": []
    },
    {
      "cell_type": "code",
      "metadata": {
        "id": "5Z_i4ZxzLS5R",
        "colab_type": "code",
        "colab": {}
      },
      "source": [
        "# One-hot encoding of labels\n",
        "onehot_enc = OneHotEncoder()\n",
        "y_onehot = onehot_enc.fit_transform(y).toarray()"
      ],
      "execution_count": 0,
      "outputs": []
    },
    {
      "cell_type": "code",
      "metadata": {
        "id": "suaSrXbWMeZx",
        "colab_type": "code",
        "colab": {}
      },
      "source": [
        "# Show labels before and after one-hot encoding\n",
        "print(\"Before onet-hot encodeing: \\n\", y[0])\n",
        "print(\"After onet-hot encodeing: \\n\", y_onehot[0])"
      ],
      "execution_count": 0,
      "outputs": []
    },
    {
      "cell_type": "code",
      "metadata": {
        "id": "5SbrKQ10Navz",
        "colab_type": "code",
        "colab": {}
      },
      "source": [
        "# Split data in training and validation partitions\n",
        "X_train, X_val, y_train, y_val = train_test_split(X_norm, y_onehot, \n",
        "                                                  test_size=0.1)"
      ],
      "execution_count": 0,
      "outputs": []
    },
    {
      "cell_type": "code",
      "metadata": {
        "id": "BP1GOQRmOMSK",
        "colab_type": "code",
        "colab": {}
      },
      "source": [
        "# Show sizes of partitions\n",
        "print(\"Size of training data: \", X_train.shape)\n",
        "print(\"Size of training labels: \", y_train.shape)\n",
        "print(\"Size of validation data: \", X_val.shape)\n",
        "print(\"Size of validation labels: \", y_val.shape)"
      ],
      "execution_count": 0,
      "outputs": []
    },
    {
      "cell_type": "markdown",
      "metadata": {
        "id": "M_aOe_XI9Vw7",
        "colab_type": "text"
      },
      "source": [
        "## 3. Define a Fully Connected Neural Network"
      ]
    },
    {
      "cell_type": "code",
      "metadata": {
        "id": "fdemo-HaPBej",
        "colab_type": "code",
        "colab": {}
      },
      "source": [
        "# Import dependencies for designing Keras model\n",
        "import keras\n",
        "from keras.models import Sequential\n",
        "from keras.layers import Dense\n",
        "%tensorflow_version 1.x"
      ],
      "execution_count": 0,
      "outputs": []
    },
    {
      "cell_type": "code",
      "metadata": {
        "id": "WW5nXU1YPOtl",
        "colab_type": "code",
        "colab": {}
      },
      "source": [
        "# Design simple neural network architecture\n",
        "model = Sequential()\n",
        "model.add(Dense(16, input_dim=20, activation='relu'))\n",
        "model.add(Dense(12, activation='relu'))\n",
        "model.add(Dense(4, activation='softmax'))"
      ],
      "execution_count": 0,
      "outputs": []
    },
    {
      "cell_type": "code",
      "metadata": {
        "id": "HRp_OCx8QNXd",
        "colab_type": "code",
        "colab": {}
      },
      "source": [
        "# Show model information\n",
        "model.summary()"
      ],
      "execution_count": 0,
      "outputs": []
    },
    {
      "cell_type": "markdown",
      "metadata": {
        "id": "fBhIc1LbQfEC",
        "colab_type": "text"
      },
      "source": [
        "The number of parameters of each layer is obtained as follows:\n",
        "\n",
        "\n",
        "*   params_dense_1 = (input_var_num + 1) * dense_1_neurons = (20 + 1) * 16 = 336\n",
        "*   params_dense_2 = (dense_1_neurons + 1) * dense_2_neurons = (16 + 1) * 12 =      204\n",
        "*   params_dense_3 = (dense_2_neurons + 1) * dense_3_neurons = (12 + 1) * 4 =      52\n",
        "\n",
        "Where +1 comes from the bias term added in each layer.\n",
        "\n",
        "\n"
      ]
    },
    {
      "cell_type": "markdown",
      "metadata": {
        "id": "_pSRNx4w9UKo",
        "colab_type": "text"
      },
      "source": [
        "## 4. Choose loss function and optimizer\n"
      ]
    },
    {
      "cell_type": "code",
      "metadata": {
        "id": "zBF6dr1oSRIC",
        "colab_type": "code",
        "colab": {}
      },
      "source": [
        "# Choose loss function, optimizer and training metrics\n",
        "model.compile(loss='categorical_crossentropy', optimizer='adam', \n",
        "              metrics=['accuracy'])"
      ],
      "execution_count": 0,
      "outputs": []
    },
    {
      "cell_type": "markdown",
      "metadata": {
        "id": "CgyWHPSG9wZ1",
        "colab_type": "text"
      },
      "source": [
        "## 5. Train the network\n",
        "\n"
      ]
    },
    {
      "cell_type": "code",
      "metadata": {
        "id": "97AQk6XZ92pZ",
        "colab_type": "code",
        "colab": {}
      },
      "source": [
        "# Choose number of epochs and batch size and train the model\n",
        "history = model.fit(X_train, y_train, epochs=100, batch_size=64, \n",
        "                    validation_data=(X_val, y_val))"
      ],
      "execution_count": 0,
      "outputs": []
    },
    {
      "cell_type": "code",
      "metadata": {
        "id": "bCIrA7nQTjV8",
        "colab_type": "code",
        "colab": {}
      },
      "source": [
        "# Import dependence for plotting training process \n",
        "import matplotlib.pyplot as plt"
      ],
      "execution_count": 0,
      "outputs": []
    },
    {
      "cell_type": "code",
      "metadata": {
        "id": "_5VTbyxsSeOh",
        "colab_type": "code",
        "colab": {}
      },
      "source": [
        "# Plot training and validation accuracy\n",
        "plt.plot(history.history['acc'])\n",
        "plt.plot(history.history['val_acc'])\n",
        "plt.title('Model accuracy')\n",
        "plt.ylabel('Accuracy')\n",
        "plt.xlabel('Epoch')\n",
        "plt.legend(['Train', 'Val'], loc='upper left')\n",
        "plt.show()"
      ],
      "execution_count": 0,
      "outputs": []
    },
    {
      "cell_type": "code",
      "metadata": {
        "id": "_d47pYo5TUEm",
        "colab_type": "code",
        "colab": {}
      },
      "source": [
        "# Plot training and test loss\n",
        "plt.plot(history.history['loss']) \n",
        "plt.plot(history.history['val_loss']) \n",
        "plt.title('Model loss') \n",
        "plt.ylabel('Loss') \n",
        "plt.xlabel('Epoch') \n",
        "plt.legend(['Train', 'Val'], loc='upper left') \n",
        "plt.show()"
      ],
      "execution_count": 0,
      "outputs": []
    },
    {
      "cell_type": "code",
      "metadata": {
        "id": "6klS2OaQJwAK",
        "colab_type": "code",
        "colab": {}
      },
      "source": [
        "# Save the model\n",
        "from pathlib import Path\n",
        "path = Path('./models')\n",
        "if not path.exists():\n",
        "  path.mkdir()\n",
        "model.save('./models/model_1.h5')"
      ],
      "execution_count": 0,
      "outputs": []
    },
    {
      "cell_type": "code",
      "metadata": {
        "id": "Ss_CZ2veKTMl",
        "colab_type": "code",
        "colab": {}
      },
      "source": [
        "# List files of ./models directory\n",
        "ls ./models"
      ],
      "execution_count": 0,
      "outputs": []
    },
    {
      "cell_type": "markdown",
      "metadata": {
        "id": "-OQ4IRMlU4oB",
        "colab_type": "text"
      },
      "source": [
        "# Exercise 1: Train the model without normalization"
      ]
    },
    {
      "cell_type": "code",
      "metadata": {
        "id": "RwK0f6M84pbx",
        "colab_type": "code",
        "colab": {}
      },
      "source": [
        "# Split data without normalization in training and validation partitions\n"
      ],
      "execution_count": 0,
      "outputs": []
    },
    {
      "cell_type": "code",
      "metadata": {
        "id": "L1TNrJWw5XI-",
        "colab_type": "code",
        "colab": {}
      },
      "source": [
        "# Train the model\n"
      ],
      "execution_count": 0,
      "outputs": []
    },
    {
      "cell_type": "code",
      "metadata": {
        "id": "ad7wt64u6lYs",
        "colab_type": "code",
        "colab": {}
      },
      "source": [
        "# Plot training and validation accuracy\n"
      ],
      "execution_count": 0,
      "outputs": []
    },
    {
      "cell_type": "code",
      "metadata": {
        "id": "ETJDeDTt6tRR",
        "colab_type": "code",
        "colab": {}
      },
      "source": [
        "# Plot training and test loss\n"
      ],
      "execution_count": 0,
      "outputs": []
    },
    {
      "cell_type": "markdown",
      "metadata": {
        "id": "xvK807CDVCnk",
        "colab_type": "text"
      },
      "source": [
        "# Exercise 2: Train a simpler model and evaluate the results"
      ]
    },
    {
      "cell_type": "code",
      "metadata": {
        "id": "zq47RlJJ7E11",
        "colab_type": "code",
        "colab": {}
      },
      "source": [
        "# Split data with normalization in training and validation partitions\n"
      ],
      "execution_count": 0,
      "outputs": []
    },
    {
      "cell_type": "code",
      "metadata": {
        "id": "dqFSwTf67NY_",
        "colab_type": "code",
        "colab": {}
      },
      "source": [
        "# Design a model like the previous but without the second Dense layer\n"
      ],
      "execution_count": 0,
      "outputs": []
    },
    {
      "cell_type": "code",
      "metadata": {
        "id": "5Kl6T_sI7nUL",
        "colab_type": "code",
        "colab": {}
      },
      "source": [
        "# Compile the model\n"
      ],
      "execution_count": 0,
      "outputs": []
    },
    {
      "cell_type": "code",
      "metadata": {
        "id": "h5rvLhwZ7xJF",
        "colab_type": "code",
        "colab": {}
      },
      "source": [
        "# Train the model\n"
      ],
      "execution_count": 0,
      "outputs": []
    },
    {
      "cell_type": "code",
      "metadata": {
        "id": "DepOKe2q8MkJ",
        "colab_type": "code",
        "colab": {}
      },
      "source": [
        "# Plot training and validation accuracy\n"
      ],
      "execution_count": 0,
      "outputs": []
    },
    {
      "cell_type": "code",
      "metadata": {
        "id": "3w92LUhf8MVT",
        "colab_type": "code",
        "colab": {}
      },
      "source": [
        "# Plot training and test loss\n"
      ],
      "execution_count": 0,
      "outputs": []
    },
    {
      "cell_type": "markdown",
      "metadata": {
        "id": "Is_TBOC1VTIE",
        "colab_type": "text"
      },
      "source": [
        "# Exercise 3: Train a more complex model and evaluate the results"
      ]
    },
    {
      "cell_type": "code",
      "metadata": {
        "id": "OjIi9dDDVTrl",
        "colab_type": "code",
        "colab": {}
      },
      "source": [
        "# Split data with normalization in training and validation partitions\n"
      ],
      "execution_count": 0,
      "outputs": []
    },
    {
      "cell_type": "code",
      "metadata": {
        "id": "eG_74eNC8r1Z",
        "colab_type": "code",
        "colab": {}
      },
      "source": [
        "# Design a model like the previous but with 128 neurons in the first Dense layer\n",
        "# and 256 in the second\n"
      ],
      "execution_count": 0,
      "outputs": []
    },
    {
      "cell_type": "code",
      "metadata": {
        "id": "tdqlzys58_9H",
        "colab_type": "code",
        "colab": {}
      },
      "source": [
        "# Compile the model\n"
      ],
      "execution_count": 0,
      "outputs": []
    },
    {
      "cell_type": "code",
      "metadata": {
        "id": "wA0FvjzI9ECb",
        "colab_type": "code",
        "colab": {}
      },
      "source": [
        "# Train the model\n"
      ],
      "execution_count": 0,
      "outputs": []
    },
    {
      "cell_type": "code",
      "metadata": {
        "id": "wVcSFPgD9vvf",
        "colab_type": "code",
        "colab": {}
      },
      "source": [
        "# Plot training and validation accuracy\n"
      ],
      "execution_count": 0,
      "outputs": []
    },
    {
      "cell_type": "code",
      "metadata": {
        "id": "4nmHge409q7k",
        "colab_type": "code",
        "colab": {}
      },
      "source": [
        "# Plot training and test loss\n"
      ],
      "execution_count": 0,
      "outputs": []
    },
    {
      "cell_type": "markdown",
      "metadata": {
        "id": "-a_D8fFqFNJ4",
        "colab_type": "text"
      },
      "source": [
        "# Exercise 4: Predict the price range of the phones of the test.csv file"
      ]
    },
    {
      "cell_type": "code",
      "metadata": {
        "id": "iAUk4_kNDfbG",
        "colab_type": "code",
        "colab": {}
      },
      "source": [
        "# Read it test data from csv\n"
      ],
      "execution_count": 0,
      "outputs": []
    },
    {
      "cell_type": "code",
      "metadata": {
        "id": "HX4h1tgWDyqT",
        "colab_type": "code",
        "colab": {}
      },
      "source": [
        "# Show column names (pay attention, maybe there is something different)\n"
      ],
      "execution_count": 0,
      "outputs": []
    },
    {
      "cell_type": "code",
      "metadata": {
        "id": "oEz2uUWwD3et",
        "colab_type": "code",
        "colab": {}
      },
      "source": [
        "# Convert the data to numpy array\n"
      ],
      "execution_count": 0,
      "outputs": []
    },
    {
      "cell_type": "code",
      "metadata": {
        "id": "ibg8reduGXkT",
        "colab_type": "code",
        "colab": {}
      },
      "source": [
        "# Show shape of the data\n"
      ],
      "execution_count": 0,
      "outputs": []
    },
    {
      "cell_type": "code",
      "metadata": {
        "id": "ePSNvo6JGcay",
        "colab_type": "code",
        "colab": {}
      },
      "source": [
        "# Get rid of a column if needed\n"
      ],
      "execution_count": 0,
      "outputs": []
    },
    {
      "cell_type": "code",
      "metadata": {
        "id": "newYB74PHA05",
        "colab_type": "code",
        "colab": {}
      },
      "source": [
        "# Normalize data. Important!! Always normalize test data with the mean and\n",
        "# standard deviation learnt from the training data.\n"
      ],
      "execution_count": 0,
      "outputs": []
    },
    {
      "cell_type": "code",
      "metadata": {
        "id": "mM2cyGJpJXCP",
        "colab_type": "code",
        "colab": {}
      },
      "source": [
        "# Show data before and after normalization\n"
      ],
      "execution_count": 0,
      "outputs": []
    },
    {
      "cell_type": "code",
      "metadata": {
        "id": "e5oBiyCSJoFJ",
        "colab_type": "code",
        "colab": {}
      },
      "source": [
        "# Load model saved during the example\n",
        "from keras.models import load_model\n",
        "model = load_model('./models/model_1.h5')"
      ],
      "execution_count": 0,
      "outputs": []
    },
    {
      "cell_type": "code",
      "metadata": {
        "id": "QhMVQLxvLMZw",
        "colab_type": "code",
        "colab": {}
      },
      "source": [
        "# Predict price range\n",
        "predictions = model.predict(data_norm)"
      ],
      "execution_count": 0,
      "outputs": []
    },
    {
      "cell_type": "code",
      "metadata": {
        "id": "AgYMlxWOLYM_",
        "colab_type": "code",
        "colab": {}
      },
      "source": [
        "# Show predictions\n"
      ],
      "execution_count": 0,
      "outputs": []
    },
    {
      "cell_type": "code",
      "metadata": {
        "id": "Fu017wvWLcgS",
        "colab_type": "code",
        "colab": {}
      },
      "source": [
        "# Convert predictions to scalars from one-hot encoding\n"
      ],
      "execution_count": 0,
      "outputs": []
    },
    {
      "cell_type": "code",
      "metadata": {
        "id": "RC8Vy6RfLn6c",
        "colab_type": "code",
        "colab": {}
      },
      "source": [
        "# Show all scalar predictions\n"
      ],
      "execution_count": 0,
      "outputs": []
    },
    {
      "cell_type": "code",
      "metadata": {
        "id": "EhlClwb7LvHc",
        "colab_type": "code",
        "colab": {}
      },
      "source": [
        "# Show the first test sample in Dataframe format\n"
      ],
      "execution_count": 0,
      "outputs": []
    },
    {
      "cell_type": "code",
      "metadata": {
        "id": "EwFOG4MPMDNj",
        "colab_type": "code",
        "colab": {}
      },
      "source": [
        "# Show prediction for that sample\n"
      ],
      "execution_count": 0,
      "outputs": []
    }
  ]
}